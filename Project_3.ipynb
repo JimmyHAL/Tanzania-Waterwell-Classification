{
  "cells": [
    {
      "cell_type": "markdown",
      "metadata": {
        "id": "gyNR1Fv5JhHD"
      },
      "source": [
        "## Module 3 Project - Tanzania Water Well Prediction\n",
        "The purpose of this project is to build a classification model to predict the conditions of water well in Tanzania. The target will be classify into one of the three categories-\n",
        "\n",
        "- functional - the waterpoint is operational and there are no repairs needed\n",
        "- functional needs repair - the waterpoint is operational, but needs repairs\n",
        "- non functional - the waterpoint is not operational\n",
        "\n",
        "To build this classifier I will be using the data from Taarifa and the Tanzanian Ministry of Water. I will be using the OSEMN framework steps\n",
        "\n",
        "1. Obtain the data\n",
        "2. Scrub the data\n",
        "3. Explore the data\n",
        "4. Model the model\n",
        "5. Interpret the data\n",
        "\n",
        "First I will import some of the tools I will be using."
      ]
    },
    {
      "cell_type": "code",
      "execution_count": null,
      "metadata": {
        "id": "M-G5SB_oJhHM"
      },
      "outputs": [],
      "source": [
        "# Importing all the libraries that I need \n",
        "import pandas as pd\n",
        "from sklearn.model_selection import train_test_split\n",
        "import matplotlib.pyplot as plt\n",
        "import seaborn as sns\n",
        "from scipy import stats\n",
        "import numpy as np\n",
        "from sklearn.preprocessing import StandardScaler\n",
        "from imblearn.over_sampling import SMOTE\n",
        "from sklearn.impute import KNNImputer\n",
        "from sklearn.metrics import precision_score, recall_score, accuracy_score, f1_score\n",
        "from sklearn.metrics import roc_curve, auc\n",
        "from sklearn.linear_model import LogisticRegression\n",
        "from sklearn.metrics import plot_confusion_matrix\n",
        "from sklearn.metrics import classification_report\n",
        "from sklearn.model_selection import GridSearchCV\n",
        "from sklearn.neighbors import KNeighborsClassifier\n",
        "from sklearn import tree\n",
        "from sklearn.ensemble import RandomForestClassifier\n",
        "import xgboost as xgb\n",
        "from sklearn import svm\n",
        "\n",
        "\n"
      ]
    },
    {
      "cell_type": "markdown",
      "metadata": {
        "id": "0Y1oIZVWJhHN"
      },
      "source": [
        "# Obtain the Data\n",
        "The data available for us are three csv files\n",
        "\n",
        "- Test set values: The independent variables that need predictions\n",
        "- Training set labels: The dependent variable (status_group) for each of the rows in Training set values\n",
        "- Training set values: The independent variables for the training set\n",
        "\n",
        "Since the test set values are meant to be submitted to a competition, the labels is available to us. So I will have to split the training set data to test the models."
      ]
    },
    {
      "cell_type": "code",
      "source": [
        "from google.colab import drive\n",
        "drive.mount('/content/drive')"
      ],
      "metadata": {
        "colab": {
          "base_uri": "https://localhost:8080/"
        },
        "id": "mVbMj925HQk1",
        "outputId": "093bac57-531e-4f58-8cd8-537a32f47afa"
      },
      "execution_count": null,
      "outputs": [
        {
          "output_type": "stream",
          "name": "stdout",
          "text": [
            "Mounted at /content/drive\n"
          ]
        }
      ]
    },
    {
      "cell_type": "code",
      "execution_count": 6,
      "metadata": {
        "id": "K7IihDFmJhHP"
      },
      "outputs": [],
      "source": [
        "features = pd.read_csv('/content/training_set_values.csv')\n",
        "target = pd.read_csv('/content/training_set_labels.csv')\n",
        "df = pd.merge(features, target, on='id', how='inner')"
      ]
    },
    {
      "cell_type": "code",
      "execution_count": 9,
      "metadata": {
        "colab": {
          "base_uri": "https://localhost:8080/",
          "height": 206
        },
        "id": "tq8n26cEgDih",
        "outputId": "ab945c12-d555-4f04-af31-6ee5a60f0fed"
      },
      "outputs": [
        {
          "output_type": "execute_result",
          "data": {
            "text/html": [
              "\n",
              "  <div id=\"df-62e0aeb6-fd47-42d2-8700-38bb58ff6f3d\">\n",
              "    <div class=\"colab-df-container\">\n",
              "      <div>\n",
              "<style scoped>\n",
              "    .dataframe tbody tr th:only-of-type {\n",
              "        vertical-align: middle;\n",
              "    }\n",
              "\n",
              "    .dataframe tbody tr th {\n",
              "        vertical-align: top;\n",
              "    }\n",
              "\n",
              "    .dataframe thead th {\n",
              "        text-align: right;\n",
              "    }\n",
              "</style>\n",
              "<table border=\"1\" class=\"dataframe\">\n",
              "  <thead>\n",
              "    <tr style=\"text-align: right;\">\n",
              "      <th></th>\n",
              "      <th>id</th>\n",
              "      <th>status_group</th>\n",
              "    </tr>\n",
              "  </thead>\n",
              "  <tbody>\n",
              "    <tr>\n",
              "      <th>0</th>\n",
              "      <td>69572</td>\n",
              "      <td>functional</td>\n",
              "    </tr>\n",
              "    <tr>\n",
              "      <th>1</th>\n",
              "      <td>8776</td>\n",
              "      <td>functional</td>\n",
              "    </tr>\n",
              "    <tr>\n",
              "      <th>2</th>\n",
              "      <td>34310</td>\n",
              "      <td>functional</td>\n",
              "    </tr>\n",
              "    <tr>\n",
              "      <th>3</th>\n",
              "      <td>67743</td>\n",
              "      <td>non functional</td>\n",
              "    </tr>\n",
              "    <tr>\n",
              "      <th>4</th>\n",
              "      <td>19728</td>\n",
              "      <td>functional</td>\n",
              "    </tr>\n",
              "  </tbody>\n",
              "</table>\n",
              "</div>\n",
              "      <button class=\"colab-df-convert\" onclick=\"convertToInteractive('df-62e0aeb6-fd47-42d2-8700-38bb58ff6f3d')\"\n",
              "              title=\"Convert this dataframe to an interactive table.\"\n",
              "              style=\"display:none;\">\n",
              "        \n",
              "  <svg xmlns=\"http://www.w3.org/2000/svg\" height=\"24px\"viewBox=\"0 0 24 24\"\n",
              "       width=\"24px\">\n",
              "    <path d=\"M0 0h24v24H0V0z\" fill=\"none\"/>\n",
              "    <path d=\"M18.56 5.44l.94 2.06.94-2.06 2.06-.94-2.06-.94-.94-2.06-.94 2.06-2.06.94zm-11 1L8.5 8.5l.94-2.06 2.06-.94-2.06-.94L8.5 2.5l-.94 2.06-2.06.94zm10 10l.94 2.06.94-2.06 2.06-.94-2.06-.94-.94-2.06-.94 2.06-2.06.94z\"/><path d=\"M17.41 7.96l-1.37-1.37c-.4-.4-.92-.59-1.43-.59-.52 0-1.04.2-1.43.59L10.3 9.45l-7.72 7.72c-.78.78-.78 2.05 0 2.83L4 21.41c.39.39.9.59 1.41.59.51 0 1.02-.2 1.41-.59l7.78-7.78 2.81-2.81c.8-.78.8-2.07 0-2.86zM5.41 20L4 18.59l7.72-7.72 1.47 1.35L5.41 20z\"/>\n",
              "  </svg>\n",
              "      </button>\n",
              "      \n",
              "  <style>\n",
              "    .colab-df-container {\n",
              "      display:flex;\n",
              "      flex-wrap:wrap;\n",
              "      gap: 12px;\n",
              "    }\n",
              "\n",
              "    .colab-df-convert {\n",
              "      background-color: #E8F0FE;\n",
              "      border: none;\n",
              "      border-radius: 50%;\n",
              "      cursor: pointer;\n",
              "      display: none;\n",
              "      fill: #1967D2;\n",
              "      height: 32px;\n",
              "      padding: 0 0 0 0;\n",
              "      width: 32px;\n",
              "    }\n",
              "\n",
              "    .colab-df-convert:hover {\n",
              "      background-color: #E2EBFA;\n",
              "      box-shadow: 0px 1px 2px rgba(60, 64, 67, 0.3), 0px 1px 3px 1px rgba(60, 64, 67, 0.15);\n",
              "      fill: #174EA6;\n",
              "    }\n",
              "\n",
              "    [theme=dark] .colab-df-convert {\n",
              "      background-color: #3B4455;\n",
              "      fill: #D2E3FC;\n",
              "    }\n",
              "\n",
              "    [theme=dark] .colab-df-convert:hover {\n",
              "      background-color: #434B5C;\n",
              "      box-shadow: 0px 1px 3px 1px rgba(0, 0, 0, 0.15);\n",
              "      filter: drop-shadow(0px 1px 2px rgba(0, 0, 0, 0.3));\n",
              "      fill: #FFFFFF;\n",
              "    }\n",
              "  </style>\n",
              "\n",
              "      <script>\n",
              "        const buttonEl =\n",
              "          document.querySelector('#df-62e0aeb6-fd47-42d2-8700-38bb58ff6f3d button.colab-df-convert');\n",
              "        buttonEl.style.display =\n",
              "          google.colab.kernel.accessAllowed ? 'block' : 'none';\n",
              "\n",
              "        async function convertToInteractive(key) {\n",
              "          const element = document.querySelector('#df-62e0aeb6-fd47-42d2-8700-38bb58ff6f3d');\n",
              "          const dataTable =\n",
              "            await google.colab.kernel.invokeFunction('convertToInteractive',\n",
              "                                                     [key], {});\n",
              "          if (!dataTable) return;\n",
              "\n",
              "          const docLinkHtml = 'Like what you see? Visit the ' +\n",
              "            '<a target=\"_blank\" href=https://colab.research.google.com/notebooks/data_table.ipynb>data table notebook</a>'\n",
              "            + ' to learn more about interactive tables.';\n",
              "          element.innerHTML = '';\n",
              "          dataTable['output_type'] = 'display_data';\n",
              "          await google.colab.output.renderOutput(dataTable, element);\n",
              "          const docLink = document.createElement('div');\n",
              "          docLink.innerHTML = docLinkHtml;\n",
              "          element.appendChild(docLink);\n",
              "        }\n",
              "      </script>\n",
              "    </div>\n",
              "  </div>\n",
              "  "
            ],
            "text/plain": [
              "      id    status_group\n",
              "0  69572      functional\n",
              "1   8776      functional\n",
              "2  34310      functional\n",
              "3  67743  non functional\n",
              "4  19728      functional"
            ]
          },
          "metadata": {},
          "execution_count": 9
        }
      ],
      "source": [
        "target.head()"
      ]
    },
    {
      "cell_type": "code",
      "source": [
        "features.head()"
      ],
      "metadata": {
        "colab": {
          "base_uri": "https://localhost:8080/",
          "height": 461
        },
        "id": "vGT3P4hrIBqt",
        "outputId": "cc764b59-8ead-4135-9ca8-7432f906a837"
      },
      "execution_count": 10,
      "outputs": [
        {
          "output_type": "execute_result",
          "data": {
            "text/html": [
              "\n",
              "  <div id=\"df-30f62a0c-9465-4699-aa78-c3ee16716fb7\">\n",
              "    <div class=\"colab-df-container\">\n",
              "      <div>\n",
              "<style scoped>\n",
              "    .dataframe tbody tr th:only-of-type {\n",
              "        vertical-align: middle;\n",
              "    }\n",
              "\n",
              "    .dataframe tbody tr th {\n",
              "        vertical-align: top;\n",
              "    }\n",
              "\n",
              "    .dataframe thead th {\n",
              "        text-align: right;\n",
              "    }\n",
              "</style>\n",
              "<table border=\"1\" class=\"dataframe\">\n",
              "  <thead>\n",
              "    <tr style=\"text-align: right;\">\n",
              "      <th></th>\n",
              "      <th>id</th>\n",
              "      <th>amount_tsh</th>\n",
              "      <th>date_recorded</th>\n",
              "      <th>funder</th>\n",
              "      <th>gps_height</th>\n",
              "      <th>installer</th>\n",
              "      <th>longitude</th>\n",
              "      <th>latitude</th>\n",
              "      <th>wpt_name</th>\n",
              "      <th>num_private</th>\n",
              "      <th>basin</th>\n",
              "      <th>subvillage</th>\n",
              "      <th>region</th>\n",
              "      <th>region_code</th>\n",
              "      <th>district_code</th>\n",
              "      <th>lga</th>\n",
              "      <th>ward</th>\n",
              "      <th>population</th>\n",
              "      <th>public_meeting</th>\n",
              "      <th>recorded_by</th>\n",
              "      <th>scheme_management</th>\n",
              "      <th>scheme_name</th>\n",
              "      <th>permit</th>\n",
              "      <th>construction_year</th>\n",
              "      <th>extraction_type</th>\n",
              "      <th>extraction_type_group</th>\n",
              "      <th>extraction_type_class</th>\n",
              "      <th>management</th>\n",
              "      <th>management_group</th>\n",
              "      <th>payment</th>\n",
              "      <th>payment_type</th>\n",
              "      <th>water_quality</th>\n",
              "      <th>quality_group</th>\n",
              "      <th>quantity</th>\n",
              "      <th>quantity_group</th>\n",
              "      <th>source</th>\n",
              "      <th>source_type</th>\n",
              "      <th>source_class</th>\n",
              "      <th>waterpoint_type</th>\n",
              "      <th>waterpoint_type_group</th>\n",
              "    </tr>\n",
              "  </thead>\n",
              "  <tbody>\n",
              "    <tr>\n",
              "      <th>0</th>\n",
              "      <td>69572</td>\n",
              "      <td>6000.0</td>\n",
              "      <td>2011-03-14</td>\n",
              "      <td>Roman</td>\n",
              "      <td>1390</td>\n",
              "      <td>Roman</td>\n",
              "      <td>34.938093</td>\n",
              "      <td>-9.856322</td>\n",
              "      <td>none</td>\n",
              "      <td>0</td>\n",
              "      <td>Lake Nyasa</td>\n",
              "      <td>Mnyusi B</td>\n",
              "      <td>Iringa</td>\n",
              "      <td>11</td>\n",
              "      <td>5</td>\n",
              "      <td>Ludewa</td>\n",
              "      <td>Mundindi</td>\n",
              "      <td>109</td>\n",
              "      <td>True</td>\n",
              "      <td>GeoData Consultants Ltd</td>\n",
              "      <td>VWC</td>\n",
              "      <td>Roman</td>\n",
              "      <td>False</td>\n",
              "      <td>1999</td>\n",
              "      <td>gravity</td>\n",
              "      <td>gravity</td>\n",
              "      <td>gravity</td>\n",
              "      <td>vwc</td>\n",
              "      <td>user-group</td>\n",
              "      <td>pay annually</td>\n",
              "      <td>annually</td>\n",
              "      <td>soft</td>\n",
              "      <td>good</td>\n",
              "      <td>enough</td>\n",
              "      <td>enough</td>\n",
              "      <td>spring</td>\n",
              "      <td>spring</td>\n",
              "      <td>groundwater</td>\n",
              "      <td>communal standpipe</td>\n",
              "      <td>communal standpipe</td>\n",
              "    </tr>\n",
              "    <tr>\n",
              "      <th>1</th>\n",
              "      <td>8776</td>\n",
              "      <td>0.0</td>\n",
              "      <td>2013-03-06</td>\n",
              "      <td>Grumeti</td>\n",
              "      <td>1399</td>\n",
              "      <td>GRUMETI</td>\n",
              "      <td>34.698766</td>\n",
              "      <td>-2.147466</td>\n",
              "      <td>Zahanati</td>\n",
              "      <td>0</td>\n",
              "      <td>Lake Victoria</td>\n",
              "      <td>Nyamara</td>\n",
              "      <td>Mara</td>\n",
              "      <td>20</td>\n",
              "      <td>2</td>\n",
              "      <td>Serengeti</td>\n",
              "      <td>Natta</td>\n",
              "      <td>280</td>\n",
              "      <td>NaN</td>\n",
              "      <td>GeoData Consultants Ltd</td>\n",
              "      <td>Other</td>\n",
              "      <td>NaN</td>\n",
              "      <td>True</td>\n",
              "      <td>2010</td>\n",
              "      <td>gravity</td>\n",
              "      <td>gravity</td>\n",
              "      <td>gravity</td>\n",
              "      <td>wug</td>\n",
              "      <td>user-group</td>\n",
              "      <td>never pay</td>\n",
              "      <td>never pay</td>\n",
              "      <td>soft</td>\n",
              "      <td>good</td>\n",
              "      <td>insufficient</td>\n",
              "      <td>insufficient</td>\n",
              "      <td>rainwater harvesting</td>\n",
              "      <td>rainwater harvesting</td>\n",
              "      <td>surface</td>\n",
              "      <td>communal standpipe</td>\n",
              "      <td>communal standpipe</td>\n",
              "    </tr>\n",
              "    <tr>\n",
              "      <th>2</th>\n",
              "      <td>34310</td>\n",
              "      <td>25.0</td>\n",
              "      <td>2013-02-25</td>\n",
              "      <td>Lottery Club</td>\n",
              "      <td>686</td>\n",
              "      <td>World vision</td>\n",
              "      <td>37.460664</td>\n",
              "      <td>-3.821329</td>\n",
              "      <td>Kwa Mahundi</td>\n",
              "      <td>0</td>\n",
              "      <td>Pangani</td>\n",
              "      <td>Majengo</td>\n",
              "      <td>Manyara</td>\n",
              "      <td>21</td>\n",
              "      <td>4</td>\n",
              "      <td>Simanjiro</td>\n",
              "      <td>Ngorika</td>\n",
              "      <td>250</td>\n",
              "      <td>True</td>\n",
              "      <td>GeoData Consultants Ltd</td>\n",
              "      <td>VWC</td>\n",
              "      <td>Nyumba ya mungu pipe scheme</td>\n",
              "      <td>True</td>\n",
              "      <td>2009</td>\n",
              "      <td>gravity</td>\n",
              "      <td>gravity</td>\n",
              "      <td>gravity</td>\n",
              "      <td>vwc</td>\n",
              "      <td>user-group</td>\n",
              "      <td>pay per bucket</td>\n",
              "      <td>per bucket</td>\n",
              "      <td>soft</td>\n",
              "      <td>good</td>\n",
              "      <td>enough</td>\n",
              "      <td>enough</td>\n",
              "      <td>dam</td>\n",
              "      <td>dam</td>\n",
              "      <td>surface</td>\n",
              "      <td>communal standpipe multiple</td>\n",
              "      <td>communal standpipe</td>\n",
              "    </tr>\n",
              "    <tr>\n",
              "      <th>3</th>\n",
              "      <td>67743</td>\n",
              "      <td>0.0</td>\n",
              "      <td>2013-01-28</td>\n",
              "      <td>Unicef</td>\n",
              "      <td>263</td>\n",
              "      <td>UNICEF</td>\n",
              "      <td>38.486161</td>\n",
              "      <td>-11.155298</td>\n",
              "      <td>Zahanati Ya Nanyumbu</td>\n",
              "      <td>0</td>\n",
              "      <td>Ruvuma / Southern Coast</td>\n",
              "      <td>Mahakamani</td>\n",
              "      <td>Mtwara</td>\n",
              "      <td>90</td>\n",
              "      <td>63</td>\n",
              "      <td>Nanyumbu</td>\n",
              "      <td>Nanyumbu</td>\n",
              "      <td>58</td>\n",
              "      <td>True</td>\n",
              "      <td>GeoData Consultants Ltd</td>\n",
              "      <td>VWC</td>\n",
              "      <td>NaN</td>\n",
              "      <td>True</td>\n",
              "      <td>1986</td>\n",
              "      <td>submersible</td>\n",
              "      <td>submersible</td>\n",
              "      <td>submersible</td>\n",
              "      <td>vwc</td>\n",
              "      <td>user-group</td>\n",
              "      <td>never pay</td>\n",
              "      <td>never pay</td>\n",
              "      <td>soft</td>\n",
              "      <td>good</td>\n",
              "      <td>dry</td>\n",
              "      <td>dry</td>\n",
              "      <td>machine dbh</td>\n",
              "      <td>borehole</td>\n",
              "      <td>groundwater</td>\n",
              "      <td>communal standpipe multiple</td>\n",
              "      <td>communal standpipe</td>\n",
              "    </tr>\n",
              "    <tr>\n",
              "      <th>4</th>\n",
              "      <td>19728</td>\n",
              "      <td>0.0</td>\n",
              "      <td>2011-07-13</td>\n",
              "      <td>Action In A</td>\n",
              "      <td>0</td>\n",
              "      <td>Artisan</td>\n",
              "      <td>31.130847</td>\n",
              "      <td>-1.825359</td>\n",
              "      <td>Shuleni</td>\n",
              "      <td>0</td>\n",
              "      <td>Lake Victoria</td>\n",
              "      <td>Kyanyamisa</td>\n",
              "      <td>Kagera</td>\n",
              "      <td>18</td>\n",
              "      <td>1</td>\n",
              "      <td>Karagwe</td>\n",
              "      <td>Nyakasimbi</td>\n",
              "      <td>0</td>\n",
              "      <td>True</td>\n",
              "      <td>GeoData Consultants Ltd</td>\n",
              "      <td>NaN</td>\n",
              "      <td>NaN</td>\n",
              "      <td>True</td>\n",
              "      <td>0</td>\n",
              "      <td>gravity</td>\n",
              "      <td>gravity</td>\n",
              "      <td>gravity</td>\n",
              "      <td>other</td>\n",
              "      <td>other</td>\n",
              "      <td>never pay</td>\n",
              "      <td>never pay</td>\n",
              "      <td>soft</td>\n",
              "      <td>good</td>\n",
              "      <td>seasonal</td>\n",
              "      <td>seasonal</td>\n",
              "      <td>rainwater harvesting</td>\n",
              "      <td>rainwater harvesting</td>\n",
              "      <td>surface</td>\n",
              "      <td>communal standpipe</td>\n",
              "      <td>communal standpipe</td>\n",
              "    </tr>\n",
              "  </tbody>\n",
              "</table>\n",
              "</div>\n",
              "      <button class=\"colab-df-convert\" onclick=\"convertToInteractive('df-30f62a0c-9465-4699-aa78-c3ee16716fb7')\"\n",
              "              title=\"Convert this dataframe to an interactive table.\"\n",
              "              style=\"display:none;\">\n",
              "        \n",
              "  <svg xmlns=\"http://www.w3.org/2000/svg\" height=\"24px\"viewBox=\"0 0 24 24\"\n",
              "       width=\"24px\">\n",
              "    <path d=\"M0 0h24v24H0V0z\" fill=\"none\"/>\n",
              "    <path d=\"M18.56 5.44l.94 2.06.94-2.06 2.06-.94-2.06-.94-.94-2.06-.94 2.06-2.06.94zm-11 1L8.5 8.5l.94-2.06 2.06-.94-2.06-.94L8.5 2.5l-.94 2.06-2.06.94zm10 10l.94 2.06.94-2.06 2.06-.94-2.06-.94-.94-2.06-.94 2.06-2.06.94z\"/><path d=\"M17.41 7.96l-1.37-1.37c-.4-.4-.92-.59-1.43-.59-.52 0-1.04.2-1.43.59L10.3 9.45l-7.72 7.72c-.78.78-.78 2.05 0 2.83L4 21.41c.39.39.9.59 1.41.59.51 0 1.02-.2 1.41-.59l7.78-7.78 2.81-2.81c.8-.78.8-2.07 0-2.86zM5.41 20L4 18.59l7.72-7.72 1.47 1.35L5.41 20z\"/>\n",
              "  </svg>\n",
              "      </button>\n",
              "      \n",
              "  <style>\n",
              "    .colab-df-container {\n",
              "      display:flex;\n",
              "      flex-wrap:wrap;\n",
              "      gap: 12px;\n",
              "    }\n",
              "\n",
              "    .colab-df-convert {\n",
              "      background-color: #E8F0FE;\n",
              "      border: none;\n",
              "      border-radius: 50%;\n",
              "      cursor: pointer;\n",
              "      display: none;\n",
              "      fill: #1967D2;\n",
              "      height: 32px;\n",
              "      padding: 0 0 0 0;\n",
              "      width: 32px;\n",
              "    }\n",
              "\n",
              "    .colab-df-convert:hover {\n",
              "      background-color: #E2EBFA;\n",
              "      box-shadow: 0px 1px 2px rgba(60, 64, 67, 0.3), 0px 1px 3px 1px rgba(60, 64, 67, 0.15);\n",
              "      fill: #174EA6;\n",
              "    }\n",
              "\n",
              "    [theme=dark] .colab-df-convert {\n",
              "      background-color: #3B4455;\n",
              "      fill: #D2E3FC;\n",
              "    }\n",
              "\n",
              "    [theme=dark] .colab-df-convert:hover {\n",
              "      background-color: #434B5C;\n",
              "      box-shadow: 0px 1px 3px 1px rgba(0, 0, 0, 0.15);\n",
              "      filter: drop-shadow(0px 1px 2px rgba(0, 0, 0, 0.3));\n",
              "      fill: #FFFFFF;\n",
              "    }\n",
              "  </style>\n",
              "\n",
              "      <script>\n",
              "        const buttonEl =\n",
              "          document.querySelector('#df-30f62a0c-9465-4699-aa78-c3ee16716fb7 button.colab-df-convert');\n",
              "        buttonEl.style.display =\n",
              "          google.colab.kernel.accessAllowed ? 'block' : 'none';\n",
              "\n",
              "        async function convertToInteractive(key) {\n",
              "          const element = document.querySelector('#df-30f62a0c-9465-4699-aa78-c3ee16716fb7');\n",
              "          const dataTable =\n",
              "            await google.colab.kernel.invokeFunction('convertToInteractive',\n",
              "                                                     [key], {});\n",
              "          if (!dataTable) return;\n",
              "\n",
              "          const docLinkHtml = 'Like what you see? Visit the ' +\n",
              "            '<a target=\"_blank\" href=https://colab.research.google.com/notebooks/data_table.ipynb>data table notebook</a>'\n",
              "            + ' to learn more about interactive tables.';\n",
              "          element.innerHTML = '';\n",
              "          dataTable['output_type'] = 'display_data';\n",
              "          await google.colab.output.renderOutput(dataTable, element);\n",
              "          const docLink = document.createElement('div');\n",
              "          docLink.innerHTML = docLinkHtml;\n",
              "          element.appendChild(docLink);\n",
              "        }\n",
              "      </script>\n",
              "    </div>\n",
              "  </div>\n",
              "  "
            ],
            "text/plain": [
              "      id  amount_tsh  ...              waterpoint_type waterpoint_type_group\n",
              "0  69572      6000.0  ...           communal standpipe    communal standpipe\n",
              "1   8776         0.0  ...           communal standpipe    communal standpipe\n",
              "2  34310        25.0  ...  communal standpipe multiple    communal standpipe\n",
              "3  67743         0.0  ...  communal standpipe multiple    communal standpipe\n",
              "4  19728         0.0  ...           communal standpipe    communal standpipe\n",
              "\n",
              "[5 rows x 40 columns]"
            ]
          },
          "metadata": {},
          "execution_count": 10
        }
      ]
    },
    {
      "cell_type": "code",
      "execution_count": 8,
      "metadata": {
        "colab": {
          "base_uri": "https://localhost:8080/",
          "height": 478
        },
        "id": "1Hfy-X_yJhHQ",
        "outputId": "8c7d0dca-8d81-4778-8908-4a7da09df375",
        "scrolled": true
      },
      "outputs": [
        {
          "output_type": "display_data",
          "data": {
            "text/html": [
              "\n",
              "  <div id=\"df-935b17b9-cbe2-446d-bdff-cf9acc6b7f03\">\n",
              "    <div class=\"colab-df-container\">\n",
              "      <div>\n",
              "<style scoped>\n",
              "    .dataframe tbody tr th:only-of-type {\n",
              "        vertical-align: middle;\n",
              "    }\n",
              "\n",
              "    .dataframe tbody tr th {\n",
              "        vertical-align: top;\n",
              "    }\n",
              "\n",
              "    .dataframe thead th {\n",
              "        text-align: right;\n",
              "    }\n",
              "</style>\n",
              "<table border=\"1\" class=\"dataframe\">\n",
              "  <thead>\n",
              "    <tr style=\"text-align: right;\">\n",
              "      <th></th>\n",
              "      <th>id</th>\n",
              "      <th>amount_tsh</th>\n",
              "      <th>date_recorded</th>\n",
              "      <th>funder</th>\n",
              "      <th>gps_height</th>\n",
              "      <th>installer</th>\n",
              "      <th>longitude</th>\n",
              "      <th>latitude</th>\n",
              "      <th>wpt_name</th>\n",
              "      <th>num_private</th>\n",
              "      <th>basin</th>\n",
              "      <th>subvillage</th>\n",
              "      <th>region</th>\n",
              "      <th>region_code</th>\n",
              "      <th>district_code</th>\n",
              "      <th>lga</th>\n",
              "      <th>ward</th>\n",
              "      <th>population</th>\n",
              "      <th>public_meeting</th>\n",
              "      <th>recorded_by</th>\n",
              "      <th>scheme_management</th>\n",
              "      <th>scheme_name</th>\n",
              "      <th>permit</th>\n",
              "      <th>construction_year</th>\n",
              "      <th>extraction_type</th>\n",
              "      <th>extraction_type_group</th>\n",
              "      <th>extraction_type_class</th>\n",
              "      <th>management</th>\n",
              "      <th>management_group</th>\n",
              "      <th>payment</th>\n",
              "      <th>payment_type</th>\n",
              "      <th>water_quality</th>\n",
              "      <th>quality_group</th>\n",
              "      <th>quantity</th>\n",
              "      <th>quantity_group</th>\n",
              "      <th>source</th>\n",
              "      <th>source_type</th>\n",
              "      <th>source_class</th>\n",
              "      <th>waterpoint_type</th>\n",
              "      <th>waterpoint_type_group</th>\n",
              "      <th>status_group</th>\n",
              "    </tr>\n",
              "  </thead>\n",
              "  <tbody>\n",
              "    <tr>\n",
              "      <th>0</th>\n",
              "      <td>69572</td>\n",
              "      <td>6000.0</td>\n",
              "      <td>2011-03-14</td>\n",
              "      <td>Roman</td>\n",
              "      <td>1390</td>\n",
              "      <td>Roman</td>\n",
              "      <td>34.938093</td>\n",
              "      <td>-9.856322</td>\n",
              "      <td>none</td>\n",
              "      <td>0</td>\n",
              "      <td>Lake Nyasa</td>\n",
              "      <td>Mnyusi B</td>\n",
              "      <td>Iringa</td>\n",
              "      <td>11</td>\n",
              "      <td>5</td>\n",
              "      <td>Ludewa</td>\n",
              "      <td>Mundindi</td>\n",
              "      <td>109</td>\n",
              "      <td>True</td>\n",
              "      <td>GeoData Consultants Ltd</td>\n",
              "      <td>VWC</td>\n",
              "      <td>Roman</td>\n",
              "      <td>False</td>\n",
              "      <td>1999</td>\n",
              "      <td>gravity</td>\n",
              "      <td>gravity</td>\n",
              "      <td>gravity</td>\n",
              "      <td>vwc</td>\n",
              "      <td>user-group</td>\n",
              "      <td>pay annually</td>\n",
              "      <td>annually</td>\n",
              "      <td>soft</td>\n",
              "      <td>good</td>\n",
              "      <td>enough</td>\n",
              "      <td>enough</td>\n",
              "      <td>spring</td>\n",
              "      <td>spring</td>\n",
              "      <td>groundwater</td>\n",
              "      <td>communal standpipe</td>\n",
              "      <td>communal standpipe</td>\n",
              "      <td>functional</td>\n",
              "    </tr>\n",
              "    <tr>\n",
              "      <th>1</th>\n",
              "      <td>8776</td>\n",
              "      <td>0.0</td>\n",
              "      <td>2013-03-06</td>\n",
              "      <td>Grumeti</td>\n",
              "      <td>1399</td>\n",
              "      <td>GRUMETI</td>\n",
              "      <td>34.698766</td>\n",
              "      <td>-2.147466</td>\n",
              "      <td>Zahanati</td>\n",
              "      <td>0</td>\n",
              "      <td>Lake Victoria</td>\n",
              "      <td>Nyamara</td>\n",
              "      <td>Mara</td>\n",
              "      <td>20</td>\n",
              "      <td>2</td>\n",
              "      <td>Serengeti</td>\n",
              "      <td>Natta</td>\n",
              "      <td>280</td>\n",
              "      <td>NaN</td>\n",
              "      <td>GeoData Consultants Ltd</td>\n",
              "      <td>Other</td>\n",
              "      <td>NaN</td>\n",
              "      <td>True</td>\n",
              "      <td>2010</td>\n",
              "      <td>gravity</td>\n",
              "      <td>gravity</td>\n",
              "      <td>gravity</td>\n",
              "      <td>wug</td>\n",
              "      <td>user-group</td>\n",
              "      <td>never pay</td>\n",
              "      <td>never pay</td>\n",
              "      <td>soft</td>\n",
              "      <td>good</td>\n",
              "      <td>insufficient</td>\n",
              "      <td>insufficient</td>\n",
              "      <td>rainwater harvesting</td>\n",
              "      <td>rainwater harvesting</td>\n",
              "      <td>surface</td>\n",
              "      <td>communal standpipe</td>\n",
              "      <td>communal standpipe</td>\n",
              "      <td>functional</td>\n",
              "    </tr>\n",
              "    <tr>\n",
              "      <th>2</th>\n",
              "      <td>34310</td>\n",
              "      <td>25.0</td>\n",
              "      <td>2013-02-25</td>\n",
              "      <td>Lottery Club</td>\n",
              "      <td>686</td>\n",
              "      <td>World vision</td>\n",
              "      <td>37.460664</td>\n",
              "      <td>-3.821329</td>\n",
              "      <td>Kwa Mahundi</td>\n",
              "      <td>0</td>\n",
              "      <td>Pangani</td>\n",
              "      <td>Majengo</td>\n",
              "      <td>Manyara</td>\n",
              "      <td>21</td>\n",
              "      <td>4</td>\n",
              "      <td>Simanjiro</td>\n",
              "      <td>Ngorika</td>\n",
              "      <td>250</td>\n",
              "      <td>True</td>\n",
              "      <td>GeoData Consultants Ltd</td>\n",
              "      <td>VWC</td>\n",
              "      <td>Nyumba ya mungu pipe scheme</td>\n",
              "      <td>True</td>\n",
              "      <td>2009</td>\n",
              "      <td>gravity</td>\n",
              "      <td>gravity</td>\n",
              "      <td>gravity</td>\n",
              "      <td>vwc</td>\n",
              "      <td>user-group</td>\n",
              "      <td>pay per bucket</td>\n",
              "      <td>per bucket</td>\n",
              "      <td>soft</td>\n",
              "      <td>good</td>\n",
              "      <td>enough</td>\n",
              "      <td>enough</td>\n",
              "      <td>dam</td>\n",
              "      <td>dam</td>\n",
              "      <td>surface</td>\n",
              "      <td>communal standpipe multiple</td>\n",
              "      <td>communal standpipe</td>\n",
              "      <td>functional</td>\n",
              "    </tr>\n",
              "    <tr>\n",
              "      <th>3</th>\n",
              "      <td>67743</td>\n",
              "      <td>0.0</td>\n",
              "      <td>2013-01-28</td>\n",
              "      <td>Unicef</td>\n",
              "      <td>263</td>\n",
              "      <td>UNICEF</td>\n",
              "      <td>38.486161</td>\n",
              "      <td>-11.155298</td>\n",
              "      <td>Zahanati Ya Nanyumbu</td>\n",
              "      <td>0</td>\n",
              "      <td>Ruvuma / Southern Coast</td>\n",
              "      <td>Mahakamani</td>\n",
              "      <td>Mtwara</td>\n",
              "      <td>90</td>\n",
              "      <td>63</td>\n",
              "      <td>Nanyumbu</td>\n",
              "      <td>Nanyumbu</td>\n",
              "      <td>58</td>\n",
              "      <td>True</td>\n",
              "      <td>GeoData Consultants Ltd</td>\n",
              "      <td>VWC</td>\n",
              "      <td>NaN</td>\n",
              "      <td>True</td>\n",
              "      <td>1986</td>\n",
              "      <td>submersible</td>\n",
              "      <td>submersible</td>\n",
              "      <td>submersible</td>\n",
              "      <td>vwc</td>\n",
              "      <td>user-group</td>\n",
              "      <td>never pay</td>\n",
              "      <td>never pay</td>\n",
              "      <td>soft</td>\n",
              "      <td>good</td>\n",
              "      <td>dry</td>\n",
              "      <td>dry</td>\n",
              "      <td>machine dbh</td>\n",
              "      <td>borehole</td>\n",
              "      <td>groundwater</td>\n",
              "      <td>communal standpipe multiple</td>\n",
              "      <td>communal standpipe</td>\n",
              "      <td>non functional</td>\n",
              "    </tr>\n",
              "    <tr>\n",
              "      <th>4</th>\n",
              "      <td>19728</td>\n",
              "      <td>0.0</td>\n",
              "      <td>2011-07-13</td>\n",
              "      <td>Action In A</td>\n",
              "      <td>0</td>\n",
              "      <td>Artisan</td>\n",
              "      <td>31.130847</td>\n",
              "      <td>-1.825359</td>\n",
              "      <td>Shuleni</td>\n",
              "      <td>0</td>\n",
              "      <td>Lake Victoria</td>\n",
              "      <td>Kyanyamisa</td>\n",
              "      <td>Kagera</td>\n",
              "      <td>18</td>\n",
              "      <td>1</td>\n",
              "      <td>Karagwe</td>\n",
              "      <td>Nyakasimbi</td>\n",
              "      <td>0</td>\n",
              "      <td>True</td>\n",
              "      <td>GeoData Consultants Ltd</td>\n",
              "      <td>NaN</td>\n",
              "      <td>NaN</td>\n",
              "      <td>True</td>\n",
              "      <td>0</td>\n",
              "      <td>gravity</td>\n",
              "      <td>gravity</td>\n",
              "      <td>gravity</td>\n",
              "      <td>other</td>\n",
              "      <td>other</td>\n",
              "      <td>never pay</td>\n",
              "      <td>never pay</td>\n",
              "      <td>soft</td>\n",
              "      <td>good</td>\n",
              "      <td>seasonal</td>\n",
              "      <td>seasonal</td>\n",
              "      <td>rainwater harvesting</td>\n",
              "      <td>rainwater harvesting</td>\n",
              "      <td>surface</td>\n",
              "      <td>communal standpipe</td>\n",
              "      <td>communal standpipe</td>\n",
              "      <td>functional</td>\n",
              "    </tr>\n",
              "  </tbody>\n",
              "</table>\n",
              "</div>\n",
              "      <button class=\"colab-df-convert\" onclick=\"convertToInteractive('df-935b17b9-cbe2-446d-bdff-cf9acc6b7f03')\"\n",
              "              title=\"Convert this dataframe to an interactive table.\"\n",
              "              style=\"display:none;\">\n",
              "        \n",
              "  <svg xmlns=\"http://www.w3.org/2000/svg\" height=\"24px\"viewBox=\"0 0 24 24\"\n",
              "       width=\"24px\">\n",
              "    <path d=\"M0 0h24v24H0V0z\" fill=\"none\"/>\n",
              "    <path d=\"M18.56 5.44l.94 2.06.94-2.06 2.06-.94-2.06-.94-.94-2.06-.94 2.06-2.06.94zm-11 1L8.5 8.5l.94-2.06 2.06-.94-2.06-.94L8.5 2.5l-.94 2.06-2.06.94zm10 10l.94 2.06.94-2.06 2.06-.94-2.06-.94-.94-2.06-.94 2.06-2.06.94z\"/><path d=\"M17.41 7.96l-1.37-1.37c-.4-.4-.92-.59-1.43-.59-.52 0-1.04.2-1.43.59L10.3 9.45l-7.72 7.72c-.78.78-.78 2.05 0 2.83L4 21.41c.39.39.9.59 1.41.59.51 0 1.02-.2 1.41-.59l7.78-7.78 2.81-2.81c.8-.78.8-2.07 0-2.86zM5.41 20L4 18.59l7.72-7.72 1.47 1.35L5.41 20z\"/>\n",
              "  </svg>\n",
              "      </button>\n",
              "      \n",
              "  <style>\n",
              "    .colab-df-container {\n",
              "      display:flex;\n",
              "      flex-wrap:wrap;\n",
              "      gap: 12px;\n",
              "    }\n",
              "\n",
              "    .colab-df-convert {\n",
              "      background-color: #E8F0FE;\n",
              "      border: none;\n",
              "      border-radius: 50%;\n",
              "      cursor: pointer;\n",
              "      display: none;\n",
              "      fill: #1967D2;\n",
              "      height: 32px;\n",
              "      padding: 0 0 0 0;\n",
              "      width: 32px;\n",
              "    }\n",
              "\n",
              "    .colab-df-convert:hover {\n",
              "      background-color: #E2EBFA;\n",
              "      box-shadow: 0px 1px 2px rgba(60, 64, 67, 0.3), 0px 1px 3px 1px rgba(60, 64, 67, 0.15);\n",
              "      fill: #174EA6;\n",
              "    }\n",
              "\n",
              "    [theme=dark] .colab-df-convert {\n",
              "      background-color: #3B4455;\n",
              "      fill: #D2E3FC;\n",
              "    }\n",
              "\n",
              "    [theme=dark] .colab-df-convert:hover {\n",
              "      background-color: #434B5C;\n",
              "      box-shadow: 0px 1px 3px 1px rgba(0, 0, 0, 0.15);\n",
              "      filter: drop-shadow(0px 1px 2px rgba(0, 0, 0, 0.3));\n",
              "      fill: #FFFFFF;\n",
              "    }\n",
              "  </style>\n",
              "\n",
              "      <script>\n",
              "        const buttonEl =\n",
              "          document.querySelector('#df-935b17b9-cbe2-446d-bdff-cf9acc6b7f03 button.colab-df-convert');\n",
              "        buttonEl.style.display =\n",
              "          google.colab.kernel.accessAllowed ? 'block' : 'none';\n",
              "\n",
              "        async function convertToInteractive(key) {\n",
              "          const element = document.querySelector('#df-935b17b9-cbe2-446d-bdff-cf9acc6b7f03');\n",
              "          const dataTable =\n",
              "            await google.colab.kernel.invokeFunction('convertToInteractive',\n",
              "                                                     [key], {});\n",
              "          if (!dataTable) return;\n",
              "\n",
              "          const docLinkHtml = 'Like what you see? Visit the ' +\n",
              "            '<a target=\"_blank\" href=https://colab.research.google.com/notebooks/data_table.ipynb>data table notebook</a>'\n",
              "            + ' to learn more about interactive tables.';\n",
              "          element.innerHTML = '';\n",
              "          dataTable['output_type'] = 'display_data';\n",
              "          await google.colab.output.renderOutput(dataTable, element);\n",
              "          const docLink = document.createElement('div');\n",
              "          docLink.innerHTML = docLinkHtml;\n",
              "          element.appendChild(docLink);\n",
              "        }\n",
              "      </script>\n",
              "    </div>\n",
              "  </div>\n",
              "  "
            ],
            "text/plain": [
              "      id  amount_tsh  ... waterpoint_type_group    status_group\n",
              "0  69572      6000.0  ...    communal standpipe      functional\n",
              "1   8776         0.0  ...    communal standpipe      functional\n",
              "2  34310        25.0  ...    communal standpipe      functional\n",
              "3  67743         0.0  ...    communal standpipe  non functional\n",
              "4  19728         0.0  ...    communal standpipe      functional\n",
              "\n",
              "[5 rows x 41 columns]"
            ]
          },
          "metadata": {}
        },
        {
          "output_type": "stream",
          "name": "stdout",
          "text": [
            "59400\n"
          ]
        }
      ],
      "source": [
        "display(df.head())\n",
        "print(len(df))"
      ]
    },
    {
      "cell_type": "code",
      "source": [
        "##Plot function for Confusion Matrix\n",
        "\n",
        "#plt.rcParams['figure.figsize'] = (6.0, 6.0)\n",
        "from sklearn.metrics import confusion_matrix\n",
        "labels=['functional','functional needs repair','non functional']\n",
        "def plot_confusion_matrix(cm, title='Confusion matrix', cmap=plt.cm.Blues):\n",
        "    plt.imshow(cm, interpolation='nearest', cmap=cmap)\n",
        "    plt.title(title)\n",
        "    plt.colorbar(shrink=0.7)\n",
        "    tick_marks = np.arange(len(labels))\n",
        "    plt.xticks(tick_marks, labels, rotation=45, ha='right', fontsize=12)\n",
        "    plt.yticks(tick_marks, labels , fontsize=12)\n",
        "    plt.tight_layout()\n",
        "    plt.ylabel('True label', fontsize=12)\n",
        "    plt.xlabel('Predicted label', fontsize=12)"
      ],
      "metadata": {
        "id": "Wphx0nTfIHVI"
      },
      "execution_count": 11,
      "outputs": []
    },
    {
      "cell_type": "markdown",
      "metadata": {
        "id": "nm4_-Z7PJhHV"
      },
      "source": [
        "I will first print out all the column discription to see which columns will be useful.\n",
        "\n",
        "- amount_tsh - Total static head (amount water available to waterpoint)\n",
        "- date_recorded - The date the row was entered\n",
        "- funder - Who funded the well\n",
        "- gps_height - Altitude of the well\n",
        "- installer - Organization that installed the well\n",
        "- longitude - GPS coordinate\n",
        "- latitude - GPS coordinate\n",
        "- wpt_name - Name of the waterpoint if there is one\n",
        "- num_private -\n",
        "- basin - Geographic water basin\n",
        "- subvillage - Geographic location\n",
        "- region - Geographic location\n",
        "- region_code - Geographic location (coded)\n",
        "- district_code - Geographic location (coded)\n",
        "- lga - Geographic location\n",
        "- ward - Geographic location\n",
        "- population - Population around the well\n",
        "- public_meeting - True/False\n",
        "- recorded_by - Group entering this row of data\n",
        "- scheme_management - Who operates the waterpoint\n",
        "- scheme_name - Who operates the waterpoint\n",
        "- permit - If the waterpoint is permitted\n",
        "- construction_year - Year the waterpoint was constructed\n",
        "- extraction_type - The kind of extraction the waterpoint uses\n",
        "- extraction_type_group - The kind of extraction the waterpoint uses\n",
        "- extraction_type_class - The kind of extraction the waterpoint uses\n",
        "- management - How the waterpoint is managed\n",
        "- management_group - How the waterpoint is managed\n",
        "- payment - What the water costs\n",
        "- payment_type - What the water costs\n",
        "- water_quality - The quality of the water\n",
        "- quality_group - The quality of the water\n",
        "- quantity - The quantity of water\n",
        "- quantity_group - The quantity of water\n",
        "- source - The source of the water\n",
        "- source_type - The source of the water\n",
        "- source_class - The source of the water\n",
        "- waterpoint_type - The kind of waterpoint\n",
        "- waterpoint_type_group - The kind of waterpoint"
      ]
    },
    {
      "cell_type": "markdown",
      "metadata": {
        "id": "CX6MVD0DJhHW"
      },
      "source": [
        "# Scrubbing The Data\n",
        "First I will drops some columns which seems irrelevant for our purpose."
      ]
    },
    {
      "cell_type": "code",
      "execution_count": null,
      "metadata": {
        "id": "4gFLXiRHJhHX"
      },
      "outputs": [],
      "source": [
        "df = df.drop(columns=['date_recorded', 'funder', 'wpt_name', 'recorded_by'], axis=1)"
      ]
    },
    {
      "cell_type": "markdown",
      "metadata": {
        "id": "MzjohvW6JhHX"
      },
      "source": [
        "I also noticed that some of the labels have the same or similar discriptions. So I will be checking these to see if the columns are duplicates and if I can get rid of some of them.\n",
        "\n",
        "- scheme_management - Who operates the waterpoint\n",
        "- scheme_name - Who operates the waterpoint\n",
        "- management - How the waterpoint is managed\n",
        "- management_group - How the waterpoint is managed\n",
        "\n",
        "\n",
        "- extraction_type - The kind of extraction the waterpoint uses\n",
        "- extraction_type_group - The kind of extraction the waterpoint uses\n",
        "- extraction_type_class - The kind of extraction the waterpoint uses\n",
        "\n",
        "\n",
        "- source - The source of the water\n",
        "- source_type - The source of the water\n",
        "- source_class - The source of the water\n",
        "\n",
        "\n",
        "- water_quality - The quality of the water\n",
        "- quality_group - The quality of the water\n",
        "\n",
        "\n",
        "- quantity - The quantity of water\n",
        "- quantity_group - The quantity of water.\n",
        "\n",
        "\n",
        "- payment - What the water costs\n",
        "- payment_type - What the water costs\n",
        "\n",
        "\n",
        "- waterpoint_type - The kind of waterpoint\n",
        "- waterpoint_type_group - The kind of waterpoint\n",
        "\n",
        "First I will build a function that takes in a list and easily let me check the values."
      ]
    },
    {
      "cell_type": "code",
      "execution_count": null,
      "metadata": {
        "id": "qn2g6JNmJhHZ"
      },
      "outputs": [],
      "source": [
        "def check_unique(l):\n",
        "  '''\n",
        "  l: list or column of dataframe\n",
        "  \n",
        "  check the Feature Name, Number of Unique Values, Number of Missing Values, Unique Values\n",
        "\n",
        "  '''\n",
        "  for i in l:\n",
        "      print(\"Feature Name:\", i)\n",
        "      print(\"Number of Unique Values:\", len(df[i].unique()))\n",
        "      print(\"Unique Values:\", df[i].unique())\n",
        "      print(\"Missing Values:\", df[i].isna().sum())\n",
        "      print('\\n')"
      ]
    },
    {
      "cell_type": "code",
      "execution_count": null,
      "metadata": {
        "colab": {
          "base_uri": "https://localhost:8080/"
        },
        "id": "b9MK2X8FJhHa",
        "outputId": "33dd726f-6c70-4abb-8f0e-f92a2d7de719"
      },
      "outputs": [
        {
          "name": "stdout",
          "output_type": "stream",
          "text": [
            "Feature Name: scheme_management\n",
            "Number of Unique Values: 13\n",
            "Unique Values: ['VWC' 'Other' nan 'Private operator' 'WUG' 'Water Board' 'WUA'\n",
            " 'Water authority' 'Company' 'Parastatal' 'Trust' 'SWC' 'None']\n",
            "Missing Values: 3877\n",
            "\n",
            "\n",
            "Feature Name: scheme_name\n",
            "Number of Unique Values: 2697\n",
            "Unique Values: ['Roman' nan 'Nyumba ya mungu pipe scheme' ... 'BL Nsherehehe'\n",
            " 'Magati  gravity spri' 'Mtawanya']\n",
            "Missing Values: 28166\n",
            "\n",
            "\n",
            "Feature Name: management\n",
            "Number of Unique Values: 12\n",
            "Unique Values: ['vwc' 'wug' 'other' 'private operator' 'water board' 'wua' 'company'\n",
            " 'water authority' 'parastatal' 'unknown' 'other - school' 'trust']\n",
            "Missing Values: 0\n",
            "\n",
            "\n",
            "Feature Name: management_group\n",
            "Number of Unique Values: 5\n",
            "Unique Values: ['user-group' 'other' 'commercial' 'parastatal' 'unknown']\n",
            "Missing Values: 0\n",
            "\n",
            "\n"
          ]
        }
      ],
      "source": [
        "check_unique(['scheme_management', 'scheme_name', 'management', 'management_group'])"
      ]
    },
    {
      "cell_type": "markdown",
      "metadata": {
        "id": "Azr3jUhrJhHc"
      },
      "source": [
        "scheme_management and management have similars values. scheme_management uses 'None' and 'nan' for missing values while managment uses 'unknown'. scheme_management also have the value 'SWC' which isn't in management, therefore I will drop the management column.  I will also drop the scheme_name columns since it contain 2697 unique string values which will be too much when creating dummies variables.\n",
        "\n",
        "After that I will check the next set of columns.."
      ]
    },
    {
      "cell_type": "code",
      "execution_count": null,
      "metadata": {
        "id": "KxU6y6LFJhHd"
      },
      "outputs": [],
      "source": [
        "df = df.drop(columns=['management', 'scheme_name'], axis=1)"
      ]
    },
    {
      "cell_type": "code",
      "execution_count": null,
      "metadata": {
        "colab": {
          "base_uri": "https://localhost:8080/"
        },
        "id": "UUtnY3tGJhHe",
        "outputId": "21188a81-3b82-49d2-968b-b23aee1c8cfc"
      },
      "outputs": [
        {
          "name": "stdout",
          "output_type": "stream",
          "text": [
            "Feature Name: extraction_type\n",
            "Number of Unique Values: 18\n",
            "Unique Values: ['gravity' 'submersible' 'swn 80' 'nira/tanira' 'india mark ii' 'other'\n",
            " 'ksb' 'mono' 'windmill' 'afridev' 'other - rope pump' 'india mark iii'\n",
            " 'other - swn 81' 'other - play pump' 'cemo' 'climax' 'walimi'\n",
            " 'other - mkulima/shinyanga']\n",
            "Missing Values: 0\n",
            "\n",
            "\n",
            "Feature Name: extraction_type_group\n",
            "Number of Unique Values: 13\n",
            "Unique Values: ['gravity' 'submersible' 'swn 80' 'nira/tanira' 'india mark ii' 'other'\n",
            " 'mono' 'wind-powered' 'afridev' 'rope pump' 'india mark iii'\n",
            " 'other handpump' 'other motorpump']\n",
            "Missing Values: 0\n",
            "\n",
            "\n",
            "Feature Name: extraction_type_class\n",
            "Number of Unique Values: 7\n",
            "Unique Values: ['gravity' 'submersible' 'handpump' 'other' 'motorpump' 'wind-powered'\n",
            " 'rope pump']\n",
            "Missing Values: 0\n",
            "\n",
            "\n"
          ]
        }
      ],
      "source": [
        "check_unique(['extraction_type', 'extraction_type_group', 'extraction_type_class'])"
      ]
    },
    {
      "cell_type": "code",
      "execution_count": null,
      "metadata": {
        "colab": {
          "base_uri": "https://localhost:8080/"
        },
        "id": "bpuv6U6-JhHf",
        "outputId": "ff66653d-c52c-4564-b0e0-58e78aa676e5"
      },
      "outputs": [
        {
          "data": {
            "text/plain": [
              "gravity                      26780\n",
              "nira/tanira                   8154\n",
              "other                         6430\n",
              "submersible                   4764\n",
              "swn 80                        3670\n",
              "mono                          2865\n",
              "india mark ii                 2400\n",
              "afridev                       1770\n",
              "ksb                           1415\n",
              "other - rope pump              451\n",
              "other - swn 81                 229\n",
              "windmill                       117\n",
              "india mark iii                  98\n",
              "cemo                            90\n",
              "other - play pump               85\n",
              "walimi                          48\n",
              "climax                          32\n",
              "other - mkulima/shinyanga        2\n",
              "Name: extraction_type, dtype: int64"
            ]
          },
          "execution_count": 765,
          "metadata": {
            "tags": []
          },
          "output_type": "execute_result"
        }
      ],
      "source": [
        "df['extraction_type'].value_counts()"
      ]
    },
    {
      "cell_type": "markdown",
      "metadata": {
        "id": "dr_kpTANJhHg"
      },
      "source": [
        "All three columns have the same values except extraction_type has 18 unique values while  extraction_type_group and extraction_type_class only have 13 and 7 respectively. Since the total sum of values for the five extra categories in extraction_type isn't alot, I will use the extraction_type_group for my model.                               "
      ]
    },
    {
      "cell_type": "code",
      "execution_count": null,
      "metadata": {
        "id": "msRuyFRTJhHh"
      },
      "outputs": [],
      "source": [
        "df = df.drop(columns=['extraction_type', 'extraction_type_class'], axis=1)"
      ]
    },
    {
      "cell_type": "code",
      "execution_count": null,
      "metadata": {
        "colab": {
          "base_uri": "https://localhost:8080/"
        },
        "id": "HSFouw2NJhHh",
        "outputId": "202cc4e5-ffb8-4be2-c3cd-cfbe4c56cc28"
      },
      "outputs": [
        {
          "name": "stdout",
          "output_type": "stream",
          "text": [
            "Feature Name: source\n",
            "Number of Unique Values: 10\n",
            "Unique Values: ['spring' 'rainwater harvesting' 'dam' 'machine dbh' 'other'\n",
            " 'shallow well' 'river' 'hand dtw' 'lake' 'unknown']\n",
            "Missing Values: 0\n",
            "\n",
            "\n",
            "Feature Name: source_type\n",
            "Number of Unique Values: 7\n",
            "Unique Values: ['spring' 'rainwater harvesting' 'dam' 'borehole' 'other' 'shallow well'\n",
            " 'river/lake']\n",
            "Missing Values: 0\n",
            "\n",
            "\n",
            "Feature Name: source_class\n",
            "Number of Unique Values: 3\n",
            "Unique Values: ['groundwater' 'surface' 'unknown']\n",
            "Missing Values: 0\n",
            "\n",
            "\n"
          ]
        }
      ],
      "source": [
        "check_unique(['source', 'source_type', 'source_class'])"
      ]
    },
    {
      "cell_type": "markdown",
      "metadata": {
        "id": "0s1SZq5eJhHi"
      },
      "source": [
        "These three categories all have similar values also. 'source_class' have only 3 categories while 'source_type' and 'source' have 7 and 10 categories. Since the subcategories are quiet diffrent I will use the source column."
      ]
    },
    {
      "cell_type": "code",
      "execution_count": null,
      "metadata": {
        "id": "pBgz9Vx9JhHi"
      },
      "outputs": [],
      "source": [
        "df = df.drop(columns=['source_type', 'source_class'], axis=1)"
      ]
    },
    {
      "cell_type": "code",
      "execution_count": null,
      "metadata": {
        "colab": {
          "base_uri": "https://localhost:8080/"
        },
        "id": "SVcfpAf0JhHj",
        "outputId": "eb62694e-ac04-4bb2-e0d5-f80399fc1c18"
      },
      "outputs": [
        {
          "name": "stdout",
          "output_type": "stream",
          "text": [
            "Feature Name: water_quality\n",
            "Number of Unique Values: 8\n",
            "Unique Values: ['soft' 'salty' 'milky' 'unknown' 'fluoride' 'coloured' 'salty abandoned'\n",
            " 'fluoride abandoned']\n",
            "Missing Values: 0\n",
            "\n",
            "\n",
            "Feature Name: quality_group\n",
            "Number of Unique Values: 6\n",
            "Unique Values: ['good' 'salty' 'milky' 'unknown' 'fluoride' 'colored']\n",
            "Missing Values: 0\n",
            "\n",
            "\n"
          ]
        }
      ],
      "source": [
        "check_unique(['water_quality', 'quality_group'])"
      ]
    },
    {
      "cell_type": "markdown",
      "metadata": {
        "id": "M-PuP1IDJhHj"
      },
      "source": [
        "These two columns also have similar values. 'water_quality' column have the value 'soft' instead of 'good' and also contained two extra categories of 'salty abandoned' and 'fluoride abandoned'. Since these categories insinuate a non_funtional water well, it could be imporatant for our model. So we will keep the 'water_quality' column."
      ]
    },
    {
      "cell_type": "code",
      "execution_count": null,
      "metadata": {
        "id": "XRFrI_AYJhHj"
      },
      "outputs": [],
      "source": [
        "df = df.drop(columns=['quality_group'], axis=1)"
      ]
    },
    {
      "cell_type": "code",
      "execution_count": null,
      "metadata": {
        "colab": {
          "base_uri": "https://localhost:8080/"
        },
        "id": "QepTvws6JhHj",
        "outputId": "b92fdb10-7a0a-4865-b4b5-29e6b2261e04"
      },
      "outputs": [
        {
          "name": "stdout",
          "output_type": "stream",
          "text": [
            "Feature Name: quantity\n",
            "Number of Unique Values: 5\n",
            "Unique Values: ['enough' 'insufficient' 'dry' 'seasonal' 'unknown']\n",
            "Missing Values: 0\n",
            "\n",
            "\n",
            "Feature Name: quantity_group\n",
            "Number of Unique Values: 5\n",
            "Unique Values: ['enough' 'insufficient' 'dry' 'seasonal' 'unknown']\n",
            "Missing Values: 0\n",
            "\n",
            "\n"
          ]
        }
      ],
      "source": [
        "check_unique(['quantity', 'quantity_group'])"
      ]
    },
    {
      "cell_type": "markdown",
      "metadata": {
        "id": "C4dOqkAnJhHk"
      },
      "source": [
        "These two columns are exactly the same so I will get rid of one of them."
      ]
    },
    {
      "cell_type": "code",
      "execution_count": null,
      "metadata": {
        "id": "Aeb4znuiJhHk"
      },
      "outputs": [],
      "source": [
        "df = df.drop(columns=['quantity_group'], axis=1)"
      ]
    },
    {
      "cell_type": "code",
      "execution_count": null,
      "metadata": {
        "colab": {
          "base_uri": "https://localhost:8080/"
        },
        "id": "JWQbdwfmJhHk",
        "outputId": "02a7f4fc-daed-492b-fdca-aeb85780c575"
      },
      "outputs": [
        {
          "name": "stdout",
          "output_type": "stream",
          "text": [
            "Feature Name: payment\n",
            "Number of Unique Values: 7\n",
            "Unique Values: ['pay annually' 'never pay' 'pay per bucket' 'unknown'\n",
            " 'pay when scheme fails' 'other' 'pay monthly']\n",
            "Missing Values: 0\n",
            "\n",
            "\n",
            "Feature Name: payment_type\n",
            "Number of Unique Values: 7\n",
            "Unique Values: ['annually' 'never pay' 'per bucket' 'unknown' 'on failure' 'other'\n",
            " 'monthly']\n",
            "Missing Values: 0\n",
            "\n",
            "\n"
          ]
        }
      ],
      "source": [
        "check_unique(['payment', 'payment_type'])"
      ]
    },
    {
      "cell_type": "markdown",
      "metadata": {
        "id": "99CkIcb1JhHl"
      },
      "source": [
        "Both features have identical values. So, I will just keep one column snd remove the other one.\n",
        "\n"
      ]
    },
    {
      "cell_type": "code",
      "execution_count": null,
      "metadata": {
        "id": "QMqibnJLJhHm"
      },
      "outputs": [],
      "source": [
        "df = df.drop(columns=['payment'], axis=1)"
      ]
    },
    {
      "cell_type": "code",
      "execution_count": null,
      "metadata": {
        "colab": {
          "base_uri": "https://localhost:8080/"
        },
        "id": "ZbHGB1lnJhHm",
        "outputId": "da00105b-1638-4240-e01c-461c7c83c414"
      },
      "outputs": [
        {
          "name": "stdout",
          "output_type": "stream",
          "text": [
            "Feature Name: waterpoint_type\n",
            "Number of Unique Values: 7\n",
            "Unique Values: ['communal standpipe' 'communal standpipe multiple' 'hand pump' 'other'\n",
            " 'improved spring' 'cattle trough' 'dam']\n",
            "Missing Values: 0\n",
            "\n",
            "\n",
            "Feature Name: waterpoint_type_group\n",
            "Number of Unique Values: 6\n",
            "Unique Values: ['communal standpipe' 'hand pump' 'other' 'improved spring'\n",
            " 'cattle trough' 'dam']\n",
            "Missing Values: 0\n",
            "\n",
            "\n"
          ]
        }
      ],
      "source": [
        "check_unique(['waterpoint_type', 'waterpoint_type_group' ])"
      ]
    },
    {
      "cell_type": "markdown",
      "metadata": {
        "id": "Oob6bE6oJhHm"
      },
      "source": [
        "The two column have similar values except waterpoint_type have a sub categories of 'communal standpipe multiple'. Since this category could be important for our model we will keep the columns with the extra sub-category ('waterpoint_feature')."
      ]
    },
    {
      "cell_type": "code",
      "execution_count": null,
      "metadata": {
        "id": "zEmh7_S9JhHm"
      },
      "outputs": [],
      "source": [
        "df = df.drop(columns=['waterpoint_type_group'], axis=1)"
      ]
    },
    {
      "cell_type": "code",
      "execution_count": null,
      "metadata": {
        "colab": {
          "base_uri": "https://localhost:8080/"
        },
        "id": "10iEP9twJhHn",
        "outputId": "2aa5520e-1f66-4728-a918-ad0fd7d9b9aa"
      },
      "outputs": [
        {
          "name": "stdout",
          "output_type": "stream",
          "text": [
            "<class 'pandas.core.frame.DataFrame'>\n",
            "Int64Index: 59400 entries, 0 to 59399\n",
            "Data columns (total 27 columns):\n",
            " #   Column                 Non-Null Count  Dtype  \n",
            "---  ------                 --------------  -----  \n",
            " 0   id                     59400 non-null  int64  \n",
            " 1   status_group           59400 non-null  object \n",
            " 2   amount_tsh             59400 non-null  float64\n",
            " 3   gps_height             59400 non-null  int64  \n",
            " 4   installer              55745 non-null  object \n",
            " 5   longitude              59400 non-null  float64\n",
            " 6   latitude               59400 non-null  float64\n",
            " 7   num_private            59400 non-null  int64  \n",
            " 8   basin                  59400 non-null  object \n",
            " 9   subvillage             59029 non-null  object \n",
            " 10  region                 59400 non-null  object \n",
            " 11  region_code            59400 non-null  int64  \n",
            " 12  district_code          59400 non-null  int64  \n",
            " 13  lga                    59400 non-null  object \n",
            " 14  ward                   59400 non-null  object \n",
            " 15  population             59400 non-null  int64  \n",
            " 16  public_meeting         56066 non-null  object \n",
            " 17  scheme_management      55523 non-null  object \n",
            " 18  permit                 56344 non-null  object \n",
            " 19  construction_year      59400 non-null  int64  \n",
            " 20  extraction_type_group  59400 non-null  object \n",
            " 21  management_group       59400 non-null  object \n",
            " 22  payment_type           59400 non-null  object \n",
            " 23  water_quality          59400 non-null  object \n",
            " 24  quantity               59400 non-null  object \n",
            " 25  source                 59400 non-null  object \n",
            " 26  waterpoint_type        59400 non-null  object \n",
            "dtypes: float64(3), int64(7), object(17)\n",
            "memory usage: 12.7+ MB\n"
          ]
        }
      ],
      "source": [
        "df.info()"
      ]
    },
    {
      "cell_type": "markdown",
      "metadata": {
        "id": "UY-hL6hTJhHo"
      },
      "source": [
        "Next I will check the other columns with object type values. The first of these is 'installer' which could be important to our model since it might affect the quality of the water point."
      ]
    },
    {
      "cell_type": "code",
      "execution_count": null,
      "metadata": {
        "colab": {
          "base_uri": "https://localhost:8080/"
        },
        "id": "ge6da43lJhHo",
        "outputId": "084657e7-3b69-4d08-c782-592cc510da28"
      },
      "outputs": [
        {
          "name": "stdout",
          "output_type": "stream",
          "text": [
            "DWE               17402\n",
            "Government         1825\n",
            "RWE                1206\n",
            "Commu              1060\n",
            "DANIDA             1050\n",
            "                  ...  \n",
            "Ilaramataki           1\n",
            "AQUA Wat              1\n",
            "Said Omari            1\n",
            "Tarangire park        1\n",
            "Privat                1\n",
            "Name: installer, Length: 2145, dtype: int64\n",
            "2145\n"
          ]
        }
      ],
      "source": [
        "print(df['installer'].value_counts())\n",
        "print(df['installer'].nunique())"
      ]
    },
    {
      "cell_type": "markdown",
      "metadata": {
        "id": "ZLvzS5kUJhHo"
      },
      "source": [
        "Since there are 2145 diffrent unique and discrete values it is impossible to use the column, so I will have to get rid of it."
      ]
    },
    {
      "cell_type": "code",
      "execution_count": null,
      "metadata": {
        "id": "skhwsWtzJhHo"
      },
      "outputs": [],
      "source": [
        "df = df.drop(columns=['installer'], axis=1)"
      ]
    },
    {
      "cell_type": "markdown",
      "metadata": {
        "id": "73z5FArMJhHp"
      },
      "source": [
        "'permit' and 'public_meeting' contain boolean values and some missing data that will have to be dealt with later. First I will take a look at all the columns that contain geographical information.\n",
        "\n",
        "- longitude - GPS coordinate \n",
        "- latitude - GPS coordinate \n",
        "- basin - Geographic water basin \n",
        "- subvillage - Geographic location \n",
        "- region - Geographic location \n",
        "- region_code - Geographic location (coded) \n",
        "- district_code - Geographic location (coded) \n",
        "- lga - Geographic location \n",
        "- ward - Geographic location"
      ]
    },
    {
      "cell_type": "code",
      "execution_count": null,
      "metadata": {
        "colab": {
          "base_uri": "https://localhost:8080/"
        },
        "id": "0NSAWel-JhHq",
        "outputId": "5e1e98f3-cf84-4b3f-b7aa-d8b967da2f97"
      },
      "outputs": [
        {
          "name": "stdout",
          "output_type": "stream",
          "text": [
            "Feature Name: longitude\n",
            "Number of Unique Values: 57516\n",
            "Unique Values: [34.93809275 34.6987661  37.46066446 ... 34.01708706 35.86131531\n",
            " 38.10404822]\n",
            "Missing Values: 0\n",
            "\n",
            "\n",
            "Feature Name: latitude\n",
            "Number of Unique Values: 57517\n",
            "Unique Values: [-9.85632177 -2.14746569 -3.82132853 ... -8.75043433 -6.37857327\n",
            " -6.74746425]\n",
            "Missing Values: 0\n",
            "\n",
            "\n",
            "Feature Name: basin\n",
            "Number of Unique Values: 9\n",
            "Unique Values: ['Lake Nyasa' 'Lake Victoria' 'Pangani' 'Ruvuma / Southern Coast'\n",
            " 'Internal' 'Lake Tanganyika' 'Wami / Ruvu' 'Rufiji' 'Lake Rukwa']\n",
            "Missing Values: 0\n",
            "\n",
            "\n",
            "Feature Name: subvillage\n",
            "Number of Unique Values: 19288\n",
            "Unique Values: ['Mnyusi B' 'Nyamara' 'Majengo' ... 'Itete B' 'Maore Kati' 'Kikatanyemba']\n",
            "Missing Values: 371\n",
            "\n",
            "\n",
            "Feature Name: region\n",
            "Number of Unique Values: 21\n",
            "Unique Values: ['Iringa' 'Mara' 'Manyara' 'Mtwara' 'Kagera' 'Tanga' 'Shinyanga' 'Tabora'\n",
            " 'Pwani' 'Ruvuma' 'Kilimanjaro' 'Rukwa' 'Mwanza' 'Kigoma' 'Lindi' 'Dodoma'\n",
            " 'Arusha' 'Mbeya' 'Singida' 'Morogoro' 'Dar es Salaam']\n",
            "Missing Values: 0\n",
            "\n",
            "\n",
            "Feature Name: region_code\n",
            "Number of Unique Values: 27\n",
            "Unique Values: [11 20 21 90 18  4 17 14 60 10  3 15 19 16 80  1  6  2 12 13  5  7 99 24\n",
            "  9  8 40]\n",
            "Missing Values: 0\n",
            "\n",
            "\n",
            "Feature Name: district_code\n",
            "Number of Unique Values: 20\n",
            "Unique Values: [ 5  2  4 63  1  8  3  6 43  7 23 33 53 62 60 30 13  0 80 67]\n",
            "Missing Values: 0\n",
            "\n",
            "\n",
            "Feature Name: lga\n",
            "Number of Unique Values: 125\n",
            "Unique Values: ['Ludewa' 'Serengeti' 'Simanjiro' 'Nanyumbu' 'Karagwe' 'Mkinga'\n",
            " 'Shinyanga Rural' 'Kahama' 'Tabora Urban' 'Mkuranga' 'Namtumbo' 'Maswa'\n",
            " 'Siha' 'Meatu' 'Sumbawanga Rural' 'Njombe' 'Ukerewe' 'Bariadi' 'Same'\n",
            " 'Kigoma Rural' 'Moshi Rural' 'Lindi Rural' 'Rombo' 'Chamwino' 'Bagamoyo'\n",
            " 'Mafia' 'Arusha Rural' 'Kyela' 'Kondoa' 'Kilolo' 'Kibondo' 'Makete'\n",
            " 'Singida Rural' 'Masasi' 'Rungwe' 'Moshi Urban' 'Geita' 'Mbulu'\n",
            " 'Bukoba Rural' 'Muheza' 'Lushoto' 'Meru' 'Iramba' 'Kilombero' 'Mbarali'\n",
            " 'Kasulu' 'Bukoba Urban' 'Korogwe' 'Bukombe' 'Morogoro Rural' 'Kishapu'\n",
            " 'Musoma Rural' 'Sengerema' 'Iringa Rural' 'Muleba' 'Dodoma Urban'\n",
            " 'Ruangwa' 'Hanang' 'Misenyi' 'Missungwi' 'Songea Rural' 'Tanga' 'Tunduru'\n",
            " 'Hai' 'Mwanga' 'Chato' 'Biharamulo' 'Ileje' 'Mpwapwa' 'Mvomero' 'Bunda'\n",
            " 'Kiteto' 'Longido' 'Urambo' 'Mbozi' 'Sikonge' 'Ilala' 'Tarime' 'Temeke'\n",
            " 'Mbeya Rural' 'Magu' 'Manyoni' 'Igunga' 'Kilosa' 'Babati' 'Chunya'\n",
            " 'Mufindi' 'Mtwara Rural' 'Ngara' 'Karatu' 'Mpanda' 'Kibaha'\n",
            " 'Singida Urban' 'Newala' 'Nzega' 'Nkasi' 'Bahi' 'Mbinga' 'Ulanga'\n",
            " 'Sumbawanga Urban' 'Morogoro Urban' 'Tandahimba' 'Kisarawe'\n",
            " 'Mtwara Urban' 'Kilwa' 'Liwale' 'Kongwa' 'Uyui' 'Rufiji' 'Kwimba'\n",
            " 'Monduli' 'Shinyanga Urban' 'Ngorongoro' 'Handeni' 'Rorya' 'Pangani'\n",
            " 'Lindi Urban' 'Nachingwea' 'Kinondoni' 'Kigoma Urban' 'Ilemela' 'Kilindi'\n",
            " 'Arusha Urban' 'Songea Urban' 'Nyamagana']\n",
            "Missing Values: 0\n",
            "\n",
            "\n",
            "Feature Name: ward\n",
            "Number of Unique Values: 2092\n",
            "Unique Values: ['Mundindi' 'Natta' 'Ngorika' ... 'Chinugulu' 'Nyamtinga' 'Kinungu']\n",
            "Missing Values: 0\n",
            "\n",
            "\n"
          ]
        }
      ],
      "source": [
        "geo_columns = ['longitude', 'latitude', 'basin', 'subvillage', 'region', 'region_code', 'district_code', 'lga', 'ward']\n",
        "check_unique(geo_columns)\n"
      ]
    },
    {
      "cell_type": "markdown",
      "metadata": {
        "id": "w9yXtj1sJhHq"
      },
      "source": [
        "The features \"longitude\", \"latitude\", \"subvillage\", \"lga\" and \"ward\" all contain a large number of unique discrete values so they will not be very useful for our classifier so I will get rid of them."
      ]
    },
    {
      "cell_type": "code",
      "execution_count": null,
      "metadata": {
        "id": "XW4PW51JJhHq"
      },
      "outputs": [],
      "source": [
        "df = df.drop(columns=['longitude', 'latitude', 'subvillage', 'ward', 'lga'], axis=1)\n"
      ]
    },
    {
      "cell_type": "code",
      "execution_count": null,
      "metadata": {
        "colab": {
          "base_uri": "https://localhost:8080/"
        },
        "id": "1XU2kZC6JhHq",
        "outputId": "8fa84b34-d766-434d-f8af-986f480d65c5"
      },
      "outputs": [
        {
          "data": {
            "text/plain": [
              "Index(['id', 'status_group', 'amount_tsh', 'gps_height', 'num_private',\n",
              "       'basin', 'region', 'region_code', 'district_code', 'population',\n",
              "       'public_meeting', 'scheme_management', 'permit', 'construction_year',\n",
              "       'extraction_type_group', 'management_group', 'payment_type',\n",
              "       'water_quality', 'quantity', 'source', 'waterpoint_type'],\n",
              "      dtype='object')"
            ]
          },
          "execution_count": 782,
          "metadata": {
            "tags": []
          },
          "output_type": "execute_result"
        }
      ],
      "source": [
        "df.columns"
      ]
    },
    {
      "cell_type": "markdown",
      "metadata": {
        "id": "1UvHQeMSJhHq"
      },
      "source": [
        "The remaining geographical columns are 'basin', 'region', 'region_code', 'district_code', and 'lga'. Since 'region_code' is only a numerical code of region, I will get rid of it. Then I will take a look at the five point summary for the columns with numerical data."
      ]
    },
    {
      "cell_type": "code",
      "execution_count": null,
      "metadata": {
        "id": "zMc6PIzmJhHr",
        "scrolled": false
      },
      "outputs": [],
      "source": [
        "df = df.drop(columns=['region_code'], axis=1)\n",
        "#Change district code into object TESTINGTESTING\n",
        "df['district_code'] = df['district_code'].astype(str) \n"
      ]
    },
    {
      "cell_type": "markdown",
      "metadata": {
        "id": "TjEqI2aCJhHr"
      },
      "source": [
        "# Scrubbing Data - Dealing with Outliers"
      ]
    },
    {
      "cell_type": "code",
      "execution_count": null,
      "metadata": {
        "colab": {
          "base_uri": "https://localhost:8080/",
          "height": 288
        },
        "id": "tQByG_8EJhHr",
        "outputId": "b08dd7e6-b80d-478e-b2e6-fb6a85921847"
      },
      "outputs": [
        {
          "data": {
            "text/html": [
              "<div>\n",
              "<style scoped>\n",
              "    .dataframe tbody tr th:only-of-type {\n",
              "        vertical-align: middle;\n",
              "    }\n",
              "\n",
              "    .dataframe tbody tr th {\n",
              "        vertical-align: top;\n",
              "    }\n",
              "\n",
              "    .dataframe thead th {\n",
              "        text-align: right;\n",
              "    }\n",
              "</style>\n",
              "<table border=\"1\" class=\"dataframe\">\n",
              "  <thead>\n",
              "    <tr style=\"text-align: right;\">\n",
              "      <th></th>\n",
              "      <th>id</th>\n",
              "      <th>amount_tsh</th>\n",
              "      <th>gps_height</th>\n",
              "      <th>num_private</th>\n",
              "      <th>population</th>\n",
              "      <th>construction_year</th>\n",
              "    </tr>\n",
              "  </thead>\n",
              "  <tbody>\n",
              "    <tr>\n",
              "      <th>count</th>\n",
              "      <td>59400.000000</td>\n",
              "      <td>59400.000000</td>\n",
              "      <td>59400.000000</td>\n",
              "      <td>59400.000000</td>\n",
              "      <td>59400.000000</td>\n",
              "      <td>59400.000000</td>\n",
              "    </tr>\n",
              "    <tr>\n",
              "      <th>mean</th>\n",
              "      <td>37115.131768</td>\n",
              "      <td>317.650385</td>\n",
              "      <td>668.297239</td>\n",
              "      <td>0.474141</td>\n",
              "      <td>179.909983</td>\n",
              "      <td>1300.652475</td>\n",
              "    </tr>\n",
              "    <tr>\n",
              "      <th>std</th>\n",
              "      <td>21453.128371</td>\n",
              "      <td>2997.574558</td>\n",
              "      <td>693.116350</td>\n",
              "      <td>12.236230</td>\n",
              "      <td>471.482176</td>\n",
              "      <td>951.620547</td>\n",
              "    </tr>\n",
              "    <tr>\n",
              "      <th>min</th>\n",
              "      <td>0.000000</td>\n",
              "      <td>0.000000</td>\n",
              "      <td>-90.000000</td>\n",
              "      <td>0.000000</td>\n",
              "      <td>0.000000</td>\n",
              "      <td>0.000000</td>\n",
              "    </tr>\n",
              "    <tr>\n",
              "      <th>25%</th>\n",
              "      <td>18519.750000</td>\n",
              "      <td>0.000000</td>\n",
              "      <td>0.000000</td>\n",
              "      <td>0.000000</td>\n",
              "      <td>0.000000</td>\n",
              "      <td>0.000000</td>\n",
              "    </tr>\n",
              "    <tr>\n",
              "      <th>50%</th>\n",
              "      <td>37061.500000</td>\n",
              "      <td>0.000000</td>\n",
              "      <td>369.000000</td>\n",
              "      <td>0.000000</td>\n",
              "      <td>25.000000</td>\n",
              "      <td>1986.000000</td>\n",
              "    </tr>\n",
              "    <tr>\n",
              "      <th>75%</th>\n",
              "      <td>55656.500000</td>\n",
              "      <td>20.000000</td>\n",
              "      <td>1319.250000</td>\n",
              "      <td>0.000000</td>\n",
              "      <td>215.000000</td>\n",
              "      <td>2004.000000</td>\n",
              "    </tr>\n",
              "    <tr>\n",
              "      <th>max</th>\n",
              "      <td>74247.000000</td>\n",
              "      <td>350000.000000</td>\n",
              "      <td>2770.000000</td>\n",
              "      <td>1776.000000</td>\n",
              "      <td>30500.000000</td>\n",
              "      <td>2013.000000</td>\n",
              "    </tr>\n",
              "  </tbody>\n",
              "</table>\n",
              "</div>"
            ],
            "text/plain": [
              "                 id     amount_tsh  ...    population  construction_year\n",
              "count  59400.000000   59400.000000  ...  59400.000000       59400.000000\n",
              "mean   37115.131768     317.650385  ...    179.909983        1300.652475\n",
              "std    21453.128371    2997.574558  ...    471.482176         951.620547\n",
              "min        0.000000       0.000000  ...      0.000000           0.000000\n",
              "25%    18519.750000       0.000000  ...      0.000000           0.000000\n",
              "50%    37061.500000       0.000000  ...     25.000000        1986.000000\n",
              "75%    55656.500000      20.000000  ...    215.000000        2004.000000\n",
              "max    74247.000000  350000.000000  ...  30500.000000        2013.000000\n",
              "\n",
              "[8 rows x 6 columns]"
            ]
          },
          "execution_count": 784,
          "metadata": {
            "tags": []
          },
          "output_type": "execute_result"
        }
      ],
      "source": [
        "df.describe()"
      ]
    },
    {
      "cell_type": "code",
      "execution_count": null,
      "metadata": {
        "colab": {
          "base_uri": "https://localhost:8080/",
          "height": 608
        },
        "id": "J0sX7qpUJhHs",
        "outputId": "6f8b5769-8d13-4da4-c77e-4fcd502e3263",
        "scrolled": true
      },
      "outputs": [
        {
          "data": {
            "image/png": "[encoded data removed]",
            "text/plain": [
              "<Figure size 1440x720 with 1 Axes>"
            ]
          },
          "metadata": {
            "needs_background": "light",
            "tags": []
          },
          "output_type": "display_data"
        }
      ],
      "source": [
        "cont_col = ['amount_tsh', 'gps_height', 'num_private', 'population']\n",
        "plt.figure(figsize=(20, 10))\n",
        "sns.boxplot(data=[df[col] for col in cont_col])\n",
        "plt.title(\"Box plot of all columns in dataset\")\n",
        "plt.xticks(range(0,4), cont_col)\n",
        "plt.show()"
      ]
    },
    {
      "cell_type": "markdown",
      "metadata": {
        "id": "yxLOHVqRJhHs"
      },
      "source": [
        "It seems that the amount_tsh column contains very large outliers in the upper bounds, and the population columns also contain some large outliers. Therefore I will remove the outliers while trying out different percentile."
      ]
    },
    {
      "cell_type": "code",
      "execution_count": null,
      "metadata": {
        "id": "RUHpm3bcJhHt"
      },
      "outputs": [],
      "source": [
        "#Remove population outliers in the upper bounds\n",
        "# q_hi2  = df[\"population\"].quantile(0.90)\n",
        "# df = df[(df[\"population\"] < q_hi2)]\n",
        "q_hi2  = df[\"population\"].quantile(0.80)\n",
        "df = df[(df[\"population\"] < q_hi2)]\n",
        "\n",
        "#Remove amount_tsh outliers in the upper bounds\n",
        "q_hi  = df[\"amount_tsh\"].quantile(0.85)\n",
        "df = df[(df[\"amount_tsh\"] < q_hi)]\n"
      ]
    },
    {
      "cell_type": "code",
      "execution_count": null,
      "metadata": {
        "colab": {
          "base_uri": "https://localhost:8080/",
          "height": 608
        },
        "id": "KGwN3frOJhHt",
        "outputId": "1d81725b-3fbe-4e43-dd53-29ca641cf2e3",
        "scrolled": true
      },
      "outputs": [
        {
          "data": {
            "image/png": "[encoded data removed]",
            "text/plain": [
              "<Figure size 1440x720 with 1 Axes>"
            ]
          },
          "metadata": {
            "needs_background": "light",
            "tags": []
          },
          "output_type": "display_data"
        }
      ],
      "source": [
        "plt.figure(figsize=(20, 10))\n",
        "sns.boxplot(data=[df[col] for col in cont_col])\n",
        "plt.title(\"Box plot of all columns in dataset\")\n",
        "plt.xticks(range(0,4), cont_col)\n",
        "plt.show()"
      ]
    },
    {
      "cell_type": "code",
      "execution_count": null,
      "metadata": {
        "colab": {
          "base_uri": "https://localhost:8080/",
          "height": 288
        },
        "id": "Itussr2WJhHu",
        "outputId": "24bc0aa8-1bc9-4940-f681-6c79a635127d",
        "scrolled": false
      },
      "outputs": [
        {
          "data": {
            "text/html": [
              "<div>\n",
              "<style scoped>\n",
              "    .dataframe tbody tr th:only-of-type {\n",
              "        vertical-align: middle;\n",
              "    }\n",
              "\n",
              "    .dataframe tbody tr th {\n",
              "        vertical-align: top;\n",
              "    }\n",
              "\n",
              "    .dataframe thead th {\n",
              "        text-align: right;\n",
              "    }\n",
              "</style>\n",
              "<table border=\"1\" class=\"dataframe\">\n",
              "  <thead>\n",
              "    <tr style=\"text-align: right;\">\n",
              "      <th></th>\n",
              "      <th>id</th>\n",
              "      <th>amount_tsh</th>\n",
              "      <th>gps_height</th>\n",
              "      <th>num_private</th>\n",
              "      <th>population</th>\n",
              "      <th>construction_year</th>\n",
              "    </tr>\n",
              "  </thead>\n",
              "  <tbody>\n",
              "    <tr>\n",
              "      <th>count</th>\n",
              "      <td>40157.000000</td>\n",
              "      <td>40157.000000</td>\n",
              "      <td>40157.000000</td>\n",
              "      <td>40157.000000</td>\n",
              "      <td>40157.000000</td>\n",
              "      <td>40157.000000</td>\n",
              "    </tr>\n",
              "    <tr>\n",
              "      <th>mean</th>\n",
              "      <td>37089.431855</td>\n",
              "      <td>4.807547</td>\n",
              "      <td>495.346465</td>\n",
              "      <td>0.542371</td>\n",
              "      <td>44.707299</td>\n",
              "      <td>991.459297</td>\n",
              "    </tr>\n",
              "    <tr>\n",
              "      <th>std</th>\n",
              "      <td>21471.981697</td>\n",
              "      <td>15.669995</td>\n",
              "      <td>664.047571</td>\n",
              "      <td>13.994697</td>\n",
              "      <td>75.664181</td>\n",
              "      <td>998.327453</td>\n",
              "    </tr>\n",
              "    <tr>\n",
              "      <th>min</th>\n",
              "      <td>0.000000</td>\n",
              "      <td>0.000000</td>\n",
              "      <td>-63.000000</td>\n",
              "      <td>0.000000</td>\n",
              "      <td>0.000000</td>\n",
              "      <td>0.000000</td>\n",
              "    </tr>\n",
              "    <tr>\n",
              "      <th>25%</th>\n",
              "      <td>18483.000000</td>\n",
              "      <td>0.000000</td>\n",
              "      <td>0.000000</td>\n",
              "      <td>0.000000</td>\n",
              "      <td>0.000000</td>\n",
              "      <td>0.000000</td>\n",
              "    </tr>\n",
              "    <tr>\n",
              "      <th>50%</th>\n",
              "      <td>36969.000000</td>\n",
              "      <td>0.000000</td>\n",
              "      <td>0.000000</td>\n",
              "      <td>0.000000</td>\n",
              "      <td>0.000000</td>\n",
              "      <td>0.000000</td>\n",
              "    </tr>\n",
              "    <tr>\n",
              "      <th>75%</th>\n",
              "      <td>55681.000000</td>\n",
              "      <td>0.000000</td>\n",
              "      <td>1149.000000</td>\n",
              "      <td>0.000000</td>\n",
              "      <td>60.000000</td>\n",
              "      <td>2000.000000</td>\n",
              "    </tr>\n",
              "    <tr>\n",
              "      <th>max</th>\n",
              "      <td>74246.000000</td>\n",
              "      <td>150.000000</td>\n",
              "      <td>2770.000000</td>\n",
              "      <td>1776.000000</td>\n",
              "      <td>259.000000</td>\n",
              "      <td>2013.000000</td>\n",
              "    </tr>\n",
              "  </tbody>\n",
              "</table>\n",
              "</div>"
            ],
            "text/plain": [
              "                 id    amount_tsh  ...    population  construction_year\n",
              "count  40157.000000  40157.000000  ...  40157.000000       40157.000000\n",
              "mean   37089.431855      4.807547  ...     44.707299         991.459297\n",
              "std    21471.981697     15.669995  ...     75.664181         998.327453\n",
              "min        0.000000      0.000000  ...      0.000000           0.000000\n",
              "25%    18483.000000      0.000000  ...      0.000000           0.000000\n",
              "50%    36969.000000      0.000000  ...      0.000000           0.000000\n",
              "75%    55681.000000      0.000000  ...     60.000000        2000.000000\n",
              "max    74246.000000    150.000000  ...    259.000000        2013.000000\n",
              "\n",
              "[8 rows x 6 columns]"
            ]
          },
          "execution_count": 788,
          "metadata": {
            "tags": []
          },
          "output_type": "execute_result"
        }
      ],
      "source": [
        "df.describe()"
      ]
    },
    {
      "cell_type": "markdown",
      "metadata": {
        "id": "brIp5-pDJhHv"
      },
      "source": [
        "There are still quiet a few large outliers but I do not want to aggressively cut them off for now, since it might be important to the classifier."
      ]
    },
    {
      "cell_type": "markdown",
      "metadata": {
        "id": "DrzZG61qJhHw"
      },
      "source": [
        "# Scrubbing Data - Dealing with Missing and Filler Values"
      ]
    },
    {
      "cell_type": "code",
      "execution_count": null,
      "metadata": {
        "colab": {
          "base_uri": "https://localhost:8080/"
        },
        "id": "X0ONgkhiJhHw",
        "outputId": "7aeacc6e-0632-4ad3-f215-b6cd81e83e8f",
        "scrolled": true
      },
      "outputs": [
        {
          "data": {
            "text/plain": [
              "id                          0\n",
              "status_group                0\n",
              "amount_tsh                  0\n",
              "gps_height                  0\n",
              "num_private                 0\n",
              "basin                       0\n",
              "region                      0\n",
              "district_code               0\n",
              "population                  0\n",
              "public_meeting           2503\n",
              "scheme_management        2258\n",
              "permit                   2409\n",
              "construction_year           0\n",
              "extraction_type_group       0\n",
              "management_group            0\n",
              "payment_type                0\n",
              "water_quality               0\n",
              "quantity                    0\n",
              "source                      0\n",
              "waterpoint_type             0\n",
              "dtype: int64"
            ]
          },
          "execution_count": 789,
          "metadata": {
            "tags": []
          },
          "output_type": "execute_result"
        }
      ],
      "source": [
        "df.isna().sum()\n"
      ]
    },
    {
      "cell_type": "markdown",
      "metadata": {
        "id": "EXcVewmdJhHw"
      },
      "source": [
        "Three features have missing value and will have to be dealt with but first I will take a look at the value counts to find the filler values."
      ]
    },
    {
      "cell_type": "code",
      "execution_count": null,
      "metadata": {
        "colab": {
          "base_uri": "https://localhost:8080/"
        },
        "id": "D8wvE-AJJhHx",
        "outputId": "336474a7-996c-41d3-cc4f-77121a920e95"
      },
      "outputs": [
        {
          "data": {
            "text/plain": [
              "functional                 20592\n",
              "non functional             16800\n",
              "functional needs repair     2765\n",
              "Name: status_group, dtype: int64"
            ]
          },
          "execution_count": 790,
          "metadata": {
            "tags": []
          },
          "output_type": "execute_result"
        }
      ],
      "source": [
        "df['status_group'].value_counts()"
      ]
    },
    {
      "cell_type": "code",
      "execution_count": null,
      "metadata": {
        "colab": {
          "base_uri": "https://localhost:8080/"
        },
        "id": "wu2-l-LoJhHx",
        "outputId": "c46ef469-3399-4637-f76c-fd7301d7abe3"
      },
      "outputs": [
        {
          "name": "stdout",
          "output_type": "stream",
          "text": [
            "id \n",
            " 67583    0.000025\n",
            "36091    0.000025\n",
            "19715    0.000025\n",
            "17666    0.000025\n",
            "23809    0.000025\n",
            "Name: id, dtype: float64 \n",
            "\n",
            "\n",
            "status_group \n",
            " functional                 0.512787\n",
            "non functional             0.418358\n",
            "functional needs repair    0.068855\n",
            "Name: status_group, dtype: float64 \n",
            "\n",
            "\n",
            "amount_tsh \n",
            " 0.0      0.866150\n",
            "50.0     0.041960\n",
            "20.0     0.027965\n",
            "10.0     0.014643\n",
            "100.0    0.012825\n",
            "Name: amount_tsh, dtype: float64 \n",
            "\n",
            "\n",
            "gps_height \n",
            "  0     0.497796\n",
            "-15    0.001021\n",
            "-13    0.000996\n",
            "-16    0.000946\n",
            "-17    0.000872\n",
            "Name: gps_height, dtype: float64 \n",
            "\n",
            "\n",
            "num_private \n",
            " 0     0.986204\n",
            "1     0.001419\n",
            "6     0.001270\n",
            "8     0.001046\n",
            "45    0.000896\n",
            "Name: num_private, dtype: float64 \n",
            "\n",
            "\n",
            "basin \n",
            " Lake Victoria      0.214458\n",
            "Pangani            0.159325\n",
            "Internal           0.149438\n",
            "Wami / Ruvu        0.104589\n",
            "Lake Tanganyika    0.093483\n",
            "Name: basin, dtype: float64 \n",
            "\n",
            "\n",
            "region \n",
            " Shinyanga      0.120552\n",
            "Mbeya          0.115522\n",
            "Kagera         0.082576\n",
            "Kilimanjaro    0.082252\n",
            "Mwanza         0.069876\n",
            "Name: region, dtype: float64 \n",
            "\n",
            "\n",
            "district_code \n",
            " 1    0.197599\n",
            "2    0.172299\n",
            "3    0.159424\n",
            "4    0.149563\n",
            "6    0.085539\n",
            "Name: district_code, dtype: float64 \n",
            "\n",
            "\n",
            "population \n",
            " 0      0.510521\n",
            "1      0.146550\n",
            "200    0.040890\n",
            "150    0.036058\n",
            "250    0.032522\n",
            "Name: population, dtype: float64 \n",
            "\n",
            "\n",
            "public_meeting \n",
            " True     0.891512\n",
            "False    0.108488\n",
            "Name: public_meeting, dtype: float64 \n",
            "\n",
            "\n",
            "scheme_management \n",
            " VWC                0.677590\n",
            "WUG                0.105253\n",
            "Water Board        0.051743\n",
            "WUA                0.038893\n",
            "Water authority    0.038682\n",
            "Name: scheme_management, dtype: float64 \n",
            "\n",
            "\n",
            "permit \n",
            " True     0.689546\n",
            "False    0.310454\n",
            "Name: permit, dtype: float64 \n",
            "\n",
            "\n",
            "construction_year \n",
            " 0       0.503424\n",
            "2010    0.038424\n",
            "2008    0.035336\n",
            "2000    0.034390\n",
            "2009    0.030381\n",
            "Name: construction_year, dtype: float64 \n",
            "\n",
            "\n",
            "extraction_type_group \n",
            " gravity        0.424160\n",
            "nira/tanira    0.162238\n",
            "other          0.118858\n",
            "submersible    0.104440\n",
            "mono           0.060488\n",
            "Name: extraction_type_group, dtype: float64 \n",
            "\n",
            "\n",
            "management_group \n",
            " user-group    0.871255\n",
            "commercial    0.074259\n",
            "parastatal    0.029036\n",
            "other         0.014966\n",
            "unknown       0.010484\n",
            "Name: management_group, dtype: float64 \n",
            "\n",
            "\n",
            "payment_type \n",
            " never pay     0.516348\n",
            "per bucket    0.172274\n",
            "unknown       0.158602\n",
            "on failure    0.060612\n",
            "monthly       0.059118\n",
            "Name: payment_type, dtype: float64 \n",
            "\n",
            "\n",
            "water_quality \n",
            " soft        0.844062\n",
            "salty       0.078890\n",
            "unknown     0.038648\n",
            "milky       0.018079\n",
            "coloured    0.009313\n",
            "Name: water_quality, dtype: float64 \n",
            "\n",
            "\n",
            "quantity \n",
            " enough          0.542072\n",
            "insufficient    0.241627\n",
            "dry             0.126030\n",
            "seasonal        0.074881\n",
            "unknown         0.015390\n",
            "Name: quantity, dtype: float64 \n",
            "\n",
            "\n",
            "source \n",
            " shallow well            0.311278\n",
            "spring                  0.293847\n",
            "machine dbh             0.181562\n",
            "river                   0.131758\n",
            "rainwater harvesting    0.039047\n",
            "Name: source, dtype: float64 \n",
            "\n",
            "\n",
            "waterpoint_type \n",
            " communal standpipe             0.471524\n",
            "hand pump                      0.296362\n",
            "other                          0.123416\n",
            "communal standpipe multiple    0.092263\n",
            "improved spring                0.015091\n",
            "Name: waterpoint_type, dtype: float64 \n",
            "\n",
            "\n"
          ]
        }
      ],
      "source": [
        "for col in df.columns:\n",
        "    print(col, '\\n', df[col].value_counts(normalize=True).head(), '\\n\\n' )\n"
      ]
    },
    {
      "cell_type": "markdown",
      "metadata": {
        "id": "c1SQkKAAJhHy"
      },
      "source": [
        "Filler values found:\n",
        "\n",
        "- population - 0 ,1\n",
        "- construction_year - 0\n",
        "- management_group  - unknown \n",
        "- payment_type - unknown\n",
        "- water_quality - unknown\n",
        "- quantity - unknown\n",
        "\n",
        "Some of these fillers make up a large majority of the data so getting rid of them is not ideal. Instead I will look to replace them using KNN Imputer, which replace the value using the K-nearest neighbors values.\n",
        "\n",
        "First I will replace all the filler values with nan."
      ]
    },
    {
      "cell_type": "code",
      "execution_count": null,
      "metadata": {
        "colab": {
          "base_uri": "https://localhost:8080/"
        },
        "id": "MbQFKemRI_gb",
        "outputId": "682e60be-64a9-41e5-d860-0224df1143e6"
      },
      "outputs": [
        {
          "data": {
            "text/plain": [
              "40157"
            ]
          },
          "execution_count": 792,
          "metadata": {
            "tags": []
          },
          "output_type": "execute_result"
        }
      ],
      "source": [
        "len(df)"
      ]
    },
    {
      "cell_type": "code",
      "execution_count": null,
      "metadata": {
        "colab": {
          "base_uri": "https://localhost:8080/"
        },
        "id": "62Aw2If5JhHz",
        "outputId": "36c27ee2-d3e8-4c80-ad53-7b4e7c5ac8ab"
      },
      "outputs": [
        {
          "data": {
            "text/plain": [
              "id                           0\n",
              "status_group                 0\n",
              "amount_tsh                   0\n",
              "gps_height                   0\n",
              "num_private                  0\n",
              "basin                        0\n",
              "region                       0\n",
              "district_code                0\n",
              "population               26386\n",
              "public_meeting            2503\n",
              "scheme_management         2259\n",
              "permit                    2409\n",
              "construction_year        20216\n",
              "extraction_type_group        0\n",
              "management_group             0\n",
              "payment_type                 0\n",
              "water_quality                0\n",
              "quantity                     0\n",
              "source                       0\n",
              "waterpoint_type              0\n",
              "dtype: int64"
            ]
          },
          "execution_count": 793,
          "metadata": {
            "tags": []
          },
          "output_type": "execute_result"
        }
      ],
      "source": [
        "#Replace the 0 and 1 in population column with np.nan\n",
        "df['population'].replace({0: np.nan, 1:np.nan}, inplace=True)\n",
        "\n",
        "# #Replace the 0 in construction_year column with np.nan\n",
        "df['construction_year'].replace({0: np.nan}, inplace=True)\n",
        "\n",
        "# #Replace the unknown in management_group, payment_type, water_quality, quantity column with np.nan\n",
        "df['management_group'].replace({'unknwon': np.nan}, inplace=True)\n",
        "df['payment_type'].replace({'unknwon': np.nan}, inplace=True)\n",
        "df['water_quality'].replace({'unknwon': np.nan}, inplace=True)\n",
        "df['quantity'].replace({'unknwon': np.nan}, inplace=True)\n",
        "df['scheme_management'].replace({'None': np.nan}, inplace=True)\n",
        "\n",
        "df.isna().sum()"
      ]
    },
    {
      "cell_type": "markdown",
      "metadata": {
        "id": "qqV0443W9i48"
      },
      "source": [
        "Since both the 'population' and 'construction_year' columns are missing for half the dataset, I believe it is best to just drop these columns rather than fill them."
      ]
    },
    {
      "cell_type": "code",
      "execution_count": null,
      "metadata": {
        "id": "Vsl9zPN_JXLE"
      },
      "outputs": [],
      "source": [
        "# Drop columns with large missing data\n",
        "df = df.drop(columns=['population', 'construction_year'], axis=1)\n"
      ]
    },
    {
      "cell_type": "code",
      "execution_count": null,
      "metadata": {
        "id": "Iuw7JGxBsINB"
      },
      "outputs": [],
      "source": [
        "X = df.drop('status_group', axis=1)\n",
        "y = df['status_group']\n",
        "\n",
        "X_train, X_test, y_train, y_test = train_test_split(X, y, test_size=0.25, random_state=21)"
      ]
    },
    {
      "cell_type": "markdown",
      "metadata": {
        "id": "91EdfQtCKerG"
      },
      "source": [
        "Before using the KNN Imputer I will need to scale the data first. Since I was not aggresive with cutting off outliers, I will use the StandardScaler insteader of MinMaxScaler which is sensative to outliers."
      ]
    },
    {
      "cell_type": "code",
      "execution_count": null,
      "metadata": {
        "id": "VbzGbJDLxeQR"
      },
      "outputs": [],
      "source": [
        "to_scaled = ['amount_tsh', 'gps_height', 'num_private']\n",
        "\n",
        "X_train_scaled = X_train.copy()\n",
        "X_test_scaled = X_test.copy()\n",
        "\n",
        "scaled_features_train = X_train_scaled[to_scaled]\n",
        "scaled_features_test = X_test_scaled[to_scaled]"
      ]
    },
    {
      "cell_type": "code",
      "execution_count": null,
      "metadata": {
        "colab": {
          "base_uri": "https://localhost:8080/",
          "height": 198
        },
        "id": "5u8-6uz3r4BL",
        "outputId": "b972d4aa-4311-4cc8-d44c-a711c67d06c1"
      },
      "outputs": [
        {
          "data": {
            "text/html": [
              "<div>\n",
              "<style scoped>\n",
              "    .dataframe tbody tr th:only-of-type {\n",
              "        vertical-align: middle;\n",
              "    }\n",
              "\n",
              "    .dataframe tbody tr th {\n",
              "        vertical-align: top;\n",
              "    }\n",
              "\n",
              "    .dataframe thead th {\n",
              "        text-align: right;\n",
              "    }\n",
              "</style>\n",
              "<table border=\"1\" class=\"dataframe\">\n",
              "  <thead>\n",
              "    <tr style=\"text-align: right;\">\n",
              "      <th></th>\n",
              "      <th>amount_tsh</th>\n",
              "      <th>gps_height</th>\n",
              "      <th>num_private</th>\n",
              "    </tr>\n",
              "  </thead>\n",
              "  <tbody>\n",
              "    <tr>\n",
              "      <th>0</th>\n",
              "      <td>-0.307201</td>\n",
              "      <td>1.128274</td>\n",
              "      <td>-0.043918</td>\n",
              "    </tr>\n",
              "    <tr>\n",
              "      <th>1</th>\n",
              "      <td>-0.307201</td>\n",
              "      <td>-0.745757</td>\n",
              "      <td>-0.043918</td>\n",
              "    </tr>\n",
              "    <tr>\n",
              "      <th>2</th>\n",
              "      <td>-0.307201</td>\n",
              "      <td>-0.745757</td>\n",
              "      <td>-0.043918</td>\n",
              "    </tr>\n",
              "    <tr>\n",
              "      <th>3</th>\n",
              "      <td>-0.307201</td>\n",
              "      <td>-0.745757</td>\n",
              "      <td>-0.043918</td>\n",
              "    </tr>\n",
              "    <tr>\n",
              "      <th>4</th>\n",
              "      <td>1.612900</td>\n",
              "      <td>-0.768372</td>\n",
              "      <td>-0.043918</td>\n",
              "    </tr>\n",
              "  </tbody>\n",
              "</table>\n",
              "</div>"
            ],
            "text/plain": [
              "   amount_tsh  gps_height  num_private\n",
              "0   -0.307201    1.128274    -0.043918\n",
              "1   -0.307201   -0.745757    -0.043918\n",
              "2   -0.307201   -0.745757    -0.043918\n",
              "3   -0.307201   -0.745757    -0.043918\n",
              "4    1.612900   -0.768372    -0.043918"
            ]
          },
          "execution_count": 797,
          "metadata": {
            "tags": []
          },
          "output_type": "execute_result"
        }
      ],
      "source": [
        "scaler = StandardScaler()\n",
        "\n",
        "# Fitting and transforming the data for the main dataset\n",
        "X_scaled_train = pd.DataFrame(scaler.fit_transform(scaled_features_train.values), columns= scaled_features_train.columns)\n",
        "X_scaled_test = pd.DataFrame(scaler.transform(scaled_features_test.values), columns = scaled_features_test.columns)\n",
        "\n",
        "X_scaled_train.head()"
      ]
    },
    {
      "cell_type": "code",
      "execution_count": null,
      "metadata": {
        "id": "R6oUnQnC3NXP"
      },
      "outputs": [],
      "source": [
        "\n",
        "X_train_scaled.reset_index(inplace=True)\n",
        "X_test_scaled.reset_index(inplace=True)\n"
      ]
    },
    {
      "cell_type": "code",
      "execution_count": null,
      "metadata": {
        "id": "c61ES3I93dar"
      },
      "outputs": [],
      "source": [
        "X_train_scaled[to_scaled] = X_scaled_train\n",
        "X_test_scaled[to_scaled] = X_scaled_test\n"
      ]
    },
    {
      "cell_type": "code",
      "execution_count": null,
      "metadata": {
        "colab": {
          "base_uri": "https://localhost:8080/",
          "height": 635
        },
        "id": "5ReiFyHX-SOY",
        "outputId": "2e0df974-9f39-4352-8f42-f5814f9e8dc7"
      },
      "outputs": [
        {
          "data": {
            "text/html": [
              "<div>\n",
              "<style scoped>\n",
              "    .dataframe tbody tr th:only-of-type {\n",
              "        vertical-align: middle;\n",
              "    }\n",
              "\n",
              "    .dataframe tbody tr th {\n",
              "        vertical-align: top;\n",
              "    }\n",
              "\n",
              "    .dataframe thead th {\n",
              "        text-align: right;\n",
              "    }\n",
              "</style>\n",
              "<table border=\"1\" class=\"dataframe\">\n",
              "  <thead>\n",
              "    <tr style=\"text-align: right;\">\n",
              "      <th></th>\n",
              "      <th>index</th>\n",
              "      <th>id</th>\n",
              "      <th>amount_tsh</th>\n",
              "      <th>gps_height</th>\n",
              "      <th>num_private</th>\n",
              "      <th>basin</th>\n",
              "      <th>region</th>\n",
              "      <th>district_code</th>\n",
              "      <th>public_meeting</th>\n",
              "      <th>scheme_management</th>\n",
              "      <th>permit</th>\n",
              "      <th>extraction_type_group</th>\n",
              "      <th>management_group</th>\n",
              "      <th>payment_type</th>\n",
              "      <th>water_quality</th>\n",
              "      <th>quantity</th>\n",
              "      <th>source</th>\n",
              "      <th>waterpoint_type</th>\n",
              "    </tr>\n",
              "  </thead>\n",
              "  <tbody>\n",
              "    <tr>\n",
              "      <th>0</th>\n",
              "      <td>21383</td>\n",
              "      <td>41736</td>\n",
              "      <td>-0.307201</td>\n",
              "      <td>1.128274</td>\n",
              "      <td>-0.043918</td>\n",
              "      <td>Pangani</td>\n",
              "      <td>Kilimanjaro</td>\n",
              "      <td>4</td>\n",
              "      <td>True</td>\n",
              "      <td>VWC</td>\n",
              "      <td>True</td>\n",
              "      <td>gravity</td>\n",
              "      <td>user-group</td>\n",
              "      <td>never pay</td>\n",
              "      <td>soft</td>\n",
              "      <td>enough</td>\n",
              "      <td>spring</td>\n",
              "      <td>communal standpipe</td>\n",
              "    </tr>\n",
              "    <tr>\n",
              "      <th>1</th>\n",
              "      <td>1158</td>\n",
              "      <td>59430</td>\n",
              "      <td>-0.307201</td>\n",
              "      <td>-0.745757</td>\n",
              "      <td>-0.043918</td>\n",
              "      <td>Lake Victoria</td>\n",
              "      <td>Kagera</td>\n",
              "      <td>2</td>\n",
              "      <td>True</td>\n",
              "      <td>VWC</td>\n",
              "      <td>True</td>\n",
              "      <td>gravity</td>\n",
              "      <td>user-group</td>\n",
              "      <td>never pay</td>\n",
              "      <td>soft</td>\n",
              "      <td>seasonal</td>\n",
              "      <td>spring</td>\n",
              "      <td>improved spring</td>\n",
              "    </tr>\n",
              "    <tr>\n",
              "      <th>2</th>\n",
              "      <td>25815</td>\n",
              "      <td>37268</td>\n",
              "      <td>-0.307201</td>\n",
              "      <td>-0.745757</td>\n",
              "      <td>-0.043918</td>\n",
              "      <td>Wami / Ruvu</td>\n",
              "      <td>Dodoma</td>\n",
              "      <td>4</td>\n",
              "      <td>True</td>\n",
              "      <td>VWC</td>\n",
              "      <td>True</td>\n",
              "      <td>mono</td>\n",
              "      <td>user-group</td>\n",
              "      <td>per bucket</td>\n",
              "      <td>soft</td>\n",
              "      <td>insufficient</td>\n",
              "      <td>machine dbh</td>\n",
              "      <td>communal standpipe multiple</td>\n",
              "    </tr>\n",
              "    <tr>\n",
              "      <th>3</th>\n",
              "      <td>54845</td>\n",
              "      <td>62135</td>\n",
              "      <td>-0.307201</td>\n",
              "      <td>-0.745757</td>\n",
              "      <td>-0.043918</td>\n",
              "      <td>Lake Nyasa</td>\n",
              "      <td>Mbeya</td>\n",
              "      <td>3</td>\n",
              "      <td>True</td>\n",
              "      <td>VWC</td>\n",
              "      <td>True</td>\n",
              "      <td>gravity</td>\n",
              "      <td>user-group</td>\n",
              "      <td>never pay</td>\n",
              "      <td>soft</td>\n",
              "      <td>dry</td>\n",
              "      <td>spring</td>\n",
              "      <td>communal standpipe</td>\n",
              "    </tr>\n",
              "    <tr>\n",
              "      <th>4</th>\n",
              "      <td>16725</td>\n",
              "      <td>26732</td>\n",
              "      <td>1.612900</td>\n",
              "      <td>-0.768372</td>\n",
              "      <td>-0.043918</td>\n",
              "      <td>Ruvuma / Southern Coast</td>\n",
              "      <td>Mtwara</td>\n",
              "      <td>1</td>\n",
              "      <td>True</td>\n",
              "      <td>VWC</td>\n",
              "      <td>False</td>\n",
              "      <td>submersible</td>\n",
              "      <td>user-group</td>\n",
              "      <td>per bucket</td>\n",
              "      <td>soft</td>\n",
              "      <td>enough</td>\n",
              "      <td>machine dbh</td>\n",
              "      <td>communal standpipe multiple</td>\n",
              "    </tr>\n",
              "    <tr>\n",
              "      <th>...</th>\n",
              "      <td>...</td>\n",
              "      <td>...</td>\n",
              "      <td>...</td>\n",
              "      <td>...</td>\n",
              "      <td>...</td>\n",
              "      <td>...</td>\n",
              "      <td>...</td>\n",
              "      <td>...</td>\n",
              "      <td>...</td>\n",
              "      <td>...</td>\n",
              "      <td>...</td>\n",
              "      <td>...</td>\n",
              "      <td>...</td>\n",
              "      <td>...</td>\n",
              "      <td>...</td>\n",
              "      <td>...</td>\n",
              "      <td>...</td>\n",
              "      <td>...</td>\n",
              "    </tr>\n",
              "    <tr>\n",
              "      <th>30112</th>\n",
              "      <td>24228</td>\n",
              "      <td>62575</td>\n",
              "      <td>-0.307201</td>\n",
              "      <td>1.625805</td>\n",
              "      <td>-0.043918</td>\n",
              "      <td>Pangani</td>\n",
              "      <td>Arusha</td>\n",
              "      <td>2</td>\n",
              "      <td>True</td>\n",
              "      <td>VWC</td>\n",
              "      <td>True</td>\n",
              "      <td>gravity</td>\n",
              "      <td>user-group</td>\n",
              "      <td>never pay</td>\n",
              "      <td>soft</td>\n",
              "      <td>insufficient</td>\n",
              "      <td>spring</td>\n",
              "      <td>communal standpipe</td>\n",
              "    </tr>\n",
              "    <tr>\n",
              "      <th>30113</th>\n",
              "      <td>13279</td>\n",
              "      <td>14686</td>\n",
              "      <td>-0.307201</td>\n",
              "      <td>-0.745757</td>\n",
              "      <td>-0.043918</td>\n",
              "      <td>Lake Nyasa</td>\n",
              "      <td>Mbeya</td>\n",
              "      <td>3</td>\n",
              "      <td>True</td>\n",
              "      <td>VWC</td>\n",
              "      <td>True</td>\n",
              "      <td>gravity</td>\n",
              "      <td>user-group</td>\n",
              "      <td>never pay</td>\n",
              "      <td>soft</td>\n",
              "      <td>dry</td>\n",
              "      <td>spring</td>\n",
              "      <td>communal standpipe</td>\n",
              "    </tr>\n",
              "    <tr>\n",
              "      <th>30114</th>\n",
              "      <td>8835</td>\n",
              "      <td>40539</td>\n",
              "      <td>-0.307201</td>\n",
              "      <td>-0.745757</td>\n",
              "      <td>-0.043918</td>\n",
              "      <td>Rufiji</td>\n",
              "      <td>Dodoma</td>\n",
              "      <td>1</td>\n",
              "      <td>True</td>\n",
              "      <td>VWC</td>\n",
              "      <td>True</td>\n",
              "      <td>gravity</td>\n",
              "      <td>user-group</td>\n",
              "      <td>never pay</td>\n",
              "      <td>soft</td>\n",
              "      <td>enough</td>\n",
              "      <td>spring</td>\n",
              "      <td>communal standpipe</td>\n",
              "    </tr>\n",
              "    <tr>\n",
              "      <th>30115</th>\n",
              "      <td>7924</td>\n",
              "      <td>10538</td>\n",
              "      <td>1.612900</td>\n",
              "      <td>-0.175859</td>\n",
              "      <td>-0.043918</td>\n",
              "      <td>Wami / Ruvu</td>\n",
              "      <td>Pwani</td>\n",
              "      <td>1</td>\n",
              "      <td>True</td>\n",
              "      <td>VWC</td>\n",
              "      <td>True</td>\n",
              "      <td>submersible</td>\n",
              "      <td>user-group</td>\n",
              "      <td>per bucket</td>\n",
              "      <td>salty</td>\n",
              "      <td>enough</td>\n",
              "      <td>machine dbh</td>\n",
              "      <td>communal standpipe</td>\n",
              "    </tr>\n",
              "    <tr>\n",
              "      <th>30116</th>\n",
              "      <td>22569</td>\n",
              "      <td>54728</td>\n",
              "      <td>-0.307201</td>\n",
              "      <td>-0.745757</td>\n",
              "      <td>-0.043918</td>\n",
              "      <td>Internal</td>\n",
              "      <td>Dodoma</td>\n",
              "      <td>1</td>\n",
              "      <td>True</td>\n",
              "      <td>VWC</td>\n",
              "      <td>False</td>\n",
              "      <td>other motorpump</td>\n",
              "      <td>user-group</td>\n",
              "      <td>per bucket</td>\n",
              "      <td>soft</td>\n",
              "      <td>enough</td>\n",
              "      <td>machine dbh</td>\n",
              "      <td>communal standpipe</td>\n",
              "    </tr>\n",
              "  </tbody>\n",
              "</table>\n",
              "<p>30117 rows × 18 columns</p>\n",
              "</div>"
            ],
            "text/plain": [
              "       index     id  ...       source              waterpoint_type\n",
              "0      21383  41736  ...       spring           communal standpipe\n",
              "1       1158  59430  ...       spring              improved spring\n",
              "2      25815  37268  ...  machine dbh  communal standpipe multiple\n",
              "3      54845  62135  ...       spring           communal standpipe\n",
              "4      16725  26732  ...  machine dbh  communal standpipe multiple\n",
              "...      ...    ...  ...          ...                          ...\n",
              "30112  24228  62575  ...       spring           communal standpipe\n",
              "30113  13279  14686  ...       spring           communal standpipe\n",
              "30114   8835  40539  ...       spring           communal standpipe\n",
              "30115   7924  10538  ...  machine dbh           communal standpipe\n",
              "30116  22569  54728  ...  machine dbh           communal standpipe\n",
              "\n",
              "[30117 rows x 18 columns]"
            ]
          },
          "execution_count": 800,
          "metadata": {
            "tags": []
          },
          "output_type": "execute_result"
        }
      ],
      "source": [
        "X_train_scaled"
      ]
    },
    {
      "cell_type": "markdown",
      "metadata": {
        "id": "XjqxuXNPKaXF"
      },
      "source": [
        "Next I will create dummy variables for categorical data before using the KNN Imputer. I will create two different data, one with drop_first=True to use with Logistic Regression and another to use with other classifier."
      ]
    },
    {
      "cell_type": "code",
      "execution_count": null,
      "metadata": {
        "id": "qx7UByAhJhHz"
      },
      "outputs": [],
      "source": [
        "# Creating dummies and dropping one variable to avoid dummy variable trap\n",
        "X_dummy_logreg = pd.get_dummies(X_train_scaled, drop_first=True)\n",
        "X_test_dummy_logreg = pd.get_dummies(X_test_scaled, drop_first=True)\n",
        "\n",
        "X_dummy = pd.get_dummies(X_train_scaled, drop_first=False)\n",
        "X_test_dummy = pd.get_dummies(X_test_scaled, drop_first=False)\n",
        "\n",
        "\n",
        "X_dummy_logreg.drop(columns='waterpoint_type_dam', axis=1, inplace=True)\n",
        "X_dummy.drop(columns='waterpoint_type_dam', axis=1, inplace=True)"
      ]
    },
    {
      "cell_type": "markdown",
      "metadata": {
        "id": "PPPph0nBJhH1"
      },
      "source": [
        "Now that the data is normalize we can now use the KNN Imputer."
      ]
    },
    {
      "cell_type": "code",
      "execution_count": null,
      "metadata": {
        "id": "fwGh0jSBQWTq"
      },
      "outputs": [],
      "source": [
        "# I will use the nearest 5 neighbors to impute\n",
        "imputer = KNNImputer(n_neighbors=5)"
      ]
    },
    {
      "cell_type": "code",
      "execution_count": null,
      "metadata": {
        "id": "dqb9goLuQZQV"
      },
      "outputs": [],
      "source": [
        "X_train_logreg_impute = pd.DataFrame(imputer.fit_transform(X_dummy_logreg),columns = X_dummy_logreg.columns)\n",
        "X_test_logreg_impute = pd.DataFrame(imputer.transform(X_test_dummy_logreg),columns = X_test_dummy_logreg.columns)\n"
      ]
    },
    {
      "cell_type": "code",
      "execution_count": null,
      "metadata": {
        "id": "x3H9oalfJhH1"
      },
      "outputs": [],
      "source": [
        "X_train = pd.DataFrame(imputer.fit_transform(X_dummy),columns = X_dummy.columns)\n",
        "X_test = pd.DataFrame(imputer.transform(X_test_dummy),columns = X_test_dummy.columns)\n"
      ]
    },
    {
      "cell_type": "code",
      "execution_count": null,
      "metadata": {
        "colab": {
          "base_uri": "https://localhost:8080/",
          "height": 282
        },
        "id": "nIoDEUd4fpwr",
        "outputId": "d330dc04-b62f-4536-c002-9a911bacf456"
      },
      "outputs": [
        {
          "data": {
            "text/html": [
              "<div>\n",
              "<style scoped>\n",
              "    .dataframe tbody tr th:only-of-type {\n",
              "        vertical-align: middle;\n",
              "    }\n",
              "\n",
              "    .dataframe tbody tr th {\n",
              "        vertical-align: top;\n",
              "    }\n",
              "\n",
              "    .dataframe thead th {\n",
              "        text-align: right;\n",
              "    }\n",
              "</style>\n",
              "<table border=\"1\" class=\"dataframe\">\n",
              "  <thead>\n",
              "    <tr style=\"text-align: right;\">\n",
              "      <th></th>\n",
              "      <th>index</th>\n",
              "      <th>id</th>\n",
              "      <th>amount_tsh</th>\n",
              "      <th>gps_height</th>\n",
              "      <th>num_private</th>\n",
              "      <th>basin_Internal</th>\n",
              "      <th>basin_Lake Nyasa</th>\n",
              "      <th>basin_Lake Rukwa</th>\n",
              "      <th>basin_Lake Tanganyika</th>\n",
              "      <th>basin_Lake Victoria</th>\n",
              "      <th>basin_Pangani</th>\n",
              "      <th>basin_Rufiji</th>\n",
              "      <th>basin_Ruvuma / Southern Coast</th>\n",
              "      <th>basin_Wami / Ruvu</th>\n",
              "      <th>region_Arusha</th>\n",
              "      <th>region_Dar es Salaam</th>\n",
              "      <th>region_Dodoma</th>\n",
              "      <th>region_Iringa</th>\n",
              "      <th>region_Kagera</th>\n",
              "      <th>region_Kigoma</th>\n",
              "      <th>region_Kilimanjaro</th>\n",
              "      <th>region_Lindi</th>\n",
              "      <th>region_Manyara</th>\n",
              "      <th>region_Mara</th>\n",
              "      <th>region_Mbeya</th>\n",
              "      <th>region_Morogoro</th>\n",
              "      <th>region_Mtwara</th>\n",
              "      <th>region_Mwanza</th>\n",
              "      <th>region_Pwani</th>\n",
              "      <th>region_Rukwa</th>\n",
              "      <th>region_Ruvuma</th>\n",
              "      <th>region_Shinyanga</th>\n",
              "      <th>region_Singida</th>\n",
              "      <th>region_Tabora</th>\n",
              "      <th>region_Tanga</th>\n",
              "      <th>district_code_0</th>\n",
              "      <th>district_code_1</th>\n",
              "      <th>district_code_13</th>\n",
              "      <th>district_code_2</th>\n",
              "      <th>district_code_23</th>\n",
              "      <th>...</th>\n",
              "      <th>management_group_other</th>\n",
              "      <th>management_group_parastatal</th>\n",
              "      <th>management_group_unknown</th>\n",
              "      <th>management_group_user-group</th>\n",
              "      <th>payment_type_annually</th>\n",
              "      <th>payment_type_monthly</th>\n",
              "      <th>payment_type_never pay</th>\n",
              "      <th>payment_type_on failure</th>\n",
              "      <th>payment_type_other</th>\n",
              "      <th>payment_type_per bucket</th>\n",
              "      <th>payment_type_unknown</th>\n",
              "      <th>water_quality_coloured</th>\n",
              "      <th>water_quality_fluoride</th>\n",
              "      <th>water_quality_fluoride abandoned</th>\n",
              "      <th>water_quality_milky</th>\n",
              "      <th>water_quality_salty</th>\n",
              "      <th>water_quality_salty abandoned</th>\n",
              "      <th>water_quality_soft</th>\n",
              "      <th>water_quality_unknown</th>\n",
              "      <th>quantity_dry</th>\n",
              "      <th>quantity_enough</th>\n",
              "      <th>quantity_insufficient</th>\n",
              "      <th>quantity_seasonal</th>\n",
              "      <th>quantity_unknown</th>\n",
              "      <th>source_dam</th>\n",
              "      <th>source_hand dtw</th>\n",
              "      <th>source_lake</th>\n",
              "      <th>source_machine dbh</th>\n",
              "      <th>source_other</th>\n",
              "      <th>source_rainwater harvesting</th>\n",
              "      <th>source_river</th>\n",
              "      <th>source_shallow well</th>\n",
              "      <th>source_spring</th>\n",
              "      <th>source_unknown</th>\n",
              "      <th>waterpoint_type_cattle trough</th>\n",
              "      <th>waterpoint_type_communal standpipe</th>\n",
              "      <th>waterpoint_type_communal standpipe multiple</th>\n",
              "      <th>waterpoint_type_hand pump</th>\n",
              "      <th>waterpoint_type_improved spring</th>\n",
              "      <th>waterpoint_type_other</th>\n",
              "    </tr>\n",
              "  </thead>\n",
              "  <tbody>\n",
              "    <tr>\n",
              "      <th>0</th>\n",
              "      <td>21383.0</td>\n",
              "      <td>41736.0</td>\n",
              "      <td>-0.307201</td>\n",
              "      <td>1.128274</td>\n",
              "      <td>-0.043918</td>\n",
              "      <td>0.0</td>\n",
              "      <td>0.0</td>\n",
              "      <td>0.0</td>\n",
              "      <td>0.0</td>\n",
              "      <td>0.0</td>\n",
              "      <td>1.0</td>\n",
              "      <td>0.0</td>\n",
              "      <td>0.0</td>\n",
              "      <td>0.0</td>\n",
              "      <td>0.0</td>\n",
              "      <td>0.0</td>\n",
              "      <td>0.0</td>\n",
              "      <td>0.0</td>\n",
              "      <td>0.0</td>\n",
              "      <td>0.0</td>\n",
              "      <td>1.0</td>\n",
              "      <td>0.0</td>\n",
              "      <td>0.0</td>\n",
              "      <td>0.0</td>\n",
              "      <td>0.0</td>\n",
              "      <td>0.0</td>\n",
              "      <td>0.0</td>\n",
              "      <td>0.0</td>\n",
              "      <td>0.0</td>\n",
              "      <td>0.0</td>\n",
              "      <td>0.0</td>\n",
              "      <td>0.0</td>\n",
              "      <td>0.0</td>\n",
              "      <td>0.0</td>\n",
              "      <td>0.0</td>\n",
              "      <td>0.0</td>\n",
              "      <td>0.0</td>\n",
              "      <td>0.0</td>\n",
              "      <td>0.0</td>\n",
              "      <td>0.0</td>\n",
              "      <td>...</td>\n",
              "      <td>0.0</td>\n",
              "      <td>0.0</td>\n",
              "      <td>0.0</td>\n",
              "      <td>1.0</td>\n",
              "      <td>0.0</td>\n",
              "      <td>0.0</td>\n",
              "      <td>1.0</td>\n",
              "      <td>0.0</td>\n",
              "      <td>0.0</td>\n",
              "      <td>0.0</td>\n",
              "      <td>0.0</td>\n",
              "      <td>0.0</td>\n",
              "      <td>0.0</td>\n",
              "      <td>0.0</td>\n",
              "      <td>0.0</td>\n",
              "      <td>0.0</td>\n",
              "      <td>0.0</td>\n",
              "      <td>1.0</td>\n",
              "      <td>0.0</td>\n",
              "      <td>0.0</td>\n",
              "      <td>1.0</td>\n",
              "      <td>0.0</td>\n",
              "      <td>0.0</td>\n",
              "      <td>0.0</td>\n",
              "      <td>0.0</td>\n",
              "      <td>0.0</td>\n",
              "      <td>0.0</td>\n",
              "      <td>0.0</td>\n",
              "      <td>0.0</td>\n",
              "      <td>0.0</td>\n",
              "      <td>0.0</td>\n",
              "      <td>0.0</td>\n",
              "      <td>1.0</td>\n",
              "      <td>0.0</td>\n",
              "      <td>0.0</td>\n",
              "      <td>1.0</td>\n",
              "      <td>0.0</td>\n",
              "      <td>0.0</td>\n",
              "      <td>0.0</td>\n",
              "      <td>0.0</td>\n",
              "    </tr>\n",
              "    <tr>\n",
              "      <th>1</th>\n",
              "      <td>1158.0</td>\n",
              "      <td>59430.0</td>\n",
              "      <td>-0.307201</td>\n",
              "      <td>-0.745757</td>\n",
              "      <td>-0.043918</td>\n",
              "      <td>0.0</td>\n",
              "      <td>0.0</td>\n",
              "      <td>0.0</td>\n",
              "      <td>0.0</td>\n",
              "      <td>1.0</td>\n",
              "      <td>0.0</td>\n",
              "      <td>0.0</td>\n",
              "      <td>0.0</td>\n",
              "      <td>0.0</td>\n",
              "      <td>0.0</td>\n",
              "      <td>0.0</td>\n",
              "      <td>0.0</td>\n",
              "      <td>0.0</td>\n",
              "      <td>1.0</td>\n",
              "      <td>0.0</td>\n",
              "      <td>0.0</td>\n",
              "      <td>0.0</td>\n",
              "      <td>0.0</td>\n",
              "      <td>0.0</td>\n",
              "      <td>0.0</td>\n",
              "      <td>0.0</td>\n",
              "      <td>0.0</td>\n",
              "      <td>0.0</td>\n",
              "      <td>0.0</td>\n",
              "      <td>0.0</td>\n",
              "      <td>0.0</td>\n",
              "      <td>0.0</td>\n",
              "      <td>0.0</td>\n",
              "      <td>0.0</td>\n",
              "      <td>0.0</td>\n",
              "      <td>0.0</td>\n",
              "      <td>0.0</td>\n",
              "      <td>0.0</td>\n",
              "      <td>1.0</td>\n",
              "      <td>0.0</td>\n",
              "      <td>...</td>\n",
              "      <td>0.0</td>\n",
              "      <td>0.0</td>\n",
              "      <td>0.0</td>\n",
              "      <td>1.0</td>\n",
              "      <td>0.0</td>\n",
              "      <td>0.0</td>\n",
              "      <td>1.0</td>\n",
              "      <td>0.0</td>\n",
              "      <td>0.0</td>\n",
              "      <td>0.0</td>\n",
              "      <td>0.0</td>\n",
              "      <td>0.0</td>\n",
              "      <td>0.0</td>\n",
              "      <td>0.0</td>\n",
              "      <td>0.0</td>\n",
              "      <td>0.0</td>\n",
              "      <td>0.0</td>\n",
              "      <td>1.0</td>\n",
              "      <td>0.0</td>\n",
              "      <td>0.0</td>\n",
              "      <td>0.0</td>\n",
              "      <td>0.0</td>\n",
              "      <td>1.0</td>\n",
              "      <td>0.0</td>\n",
              "      <td>0.0</td>\n",
              "      <td>0.0</td>\n",
              "      <td>0.0</td>\n",
              "      <td>0.0</td>\n",
              "      <td>0.0</td>\n",
              "      <td>0.0</td>\n",
              "      <td>0.0</td>\n",
              "      <td>0.0</td>\n",
              "      <td>1.0</td>\n",
              "      <td>0.0</td>\n",
              "      <td>0.0</td>\n",
              "      <td>0.0</td>\n",
              "      <td>0.0</td>\n",
              "      <td>0.0</td>\n",
              "      <td>1.0</td>\n",
              "      <td>0.0</td>\n",
              "    </tr>\n",
              "    <tr>\n",
              "      <th>2</th>\n",
              "      <td>25815.0</td>\n",
              "      <td>37268.0</td>\n",
              "      <td>-0.307201</td>\n",
              "      <td>-0.745757</td>\n",
              "      <td>-0.043918</td>\n",
              "      <td>0.0</td>\n",
              "      <td>0.0</td>\n",
              "      <td>0.0</td>\n",
              "      <td>0.0</td>\n",
              "      <td>0.0</td>\n",
              "      <td>0.0</td>\n",
              "      <td>0.0</td>\n",
              "      <td>0.0</td>\n",
              "      <td>1.0</td>\n",
              "      <td>0.0</td>\n",
              "      <td>0.0</td>\n",
              "      <td>1.0</td>\n",
              "      <td>0.0</td>\n",
              "      <td>0.0</td>\n",
              "      <td>0.0</td>\n",
              "      <td>0.0</td>\n",
              "      <td>0.0</td>\n",
              "      <td>0.0</td>\n",
              "      <td>0.0</td>\n",
              "      <td>0.0</td>\n",
              "      <td>0.0</td>\n",
              "      <td>0.0</td>\n",
              "      <td>0.0</td>\n",
              "      <td>0.0</td>\n",
              "      <td>0.0</td>\n",
              "      <td>0.0</td>\n",
              "      <td>0.0</td>\n",
              "      <td>0.0</td>\n",
              "      <td>0.0</td>\n",
              "      <td>0.0</td>\n",
              "      <td>0.0</td>\n",
              "      <td>0.0</td>\n",
              "      <td>0.0</td>\n",
              "      <td>0.0</td>\n",
              "      <td>0.0</td>\n",
              "      <td>...</td>\n",
              "      <td>0.0</td>\n",
              "      <td>0.0</td>\n",
              "      <td>0.0</td>\n",
              "      <td>1.0</td>\n",
              "      <td>0.0</td>\n",
              "      <td>0.0</td>\n",
              "      <td>0.0</td>\n",
              "      <td>0.0</td>\n",
              "      <td>0.0</td>\n",
              "      <td>1.0</td>\n",
              "      <td>0.0</td>\n",
              "      <td>0.0</td>\n",
              "      <td>0.0</td>\n",
              "      <td>0.0</td>\n",
              "      <td>0.0</td>\n",
              "      <td>0.0</td>\n",
              "      <td>0.0</td>\n",
              "      <td>1.0</td>\n",
              "      <td>0.0</td>\n",
              "      <td>0.0</td>\n",
              "      <td>0.0</td>\n",
              "      <td>1.0</td>\n",
              "      <td>0.0</td>\n",
              "      <td>0.0</td>\n",
              "      <td>0.0</td>\n",
              "      <td>0.0</td>\n",
              "      <td>0.0</td>\n",
              "      <td>1.0</td>\n",
              "      <td>0.0</td>\n",
              "      <td>0.0</td>\n",
              "      <td>0.0</td>\n",
              "      <td>0.0</td>\n",
              "      <td>0.0</td>\n",
              "      <td>0.0</td>\n",
              "      <td>0.0</td>\n",
              "      <td>0.0</td>\n",
              "      <td>1.0</td>\n",
              "      <td>0.0</td>\n",
              "      <td>0.0</td>\n",
              "      <td>0.0</td>\n",
              "    </tr>\n",
              "    <tr>\n",
              "      <th>3</th>\n",
              "      <td>54845.0</td>\n",
              "      <td>62135.0</td>\n",
              "      <td>-0.307201</td>\n",
              "      <td>-0.745757</td>\n",
              "      <td>-0.043918</td>\n",
              "      <td>0.0</td>\n",
              "      <td>1.0</td>\n",
              "      <td>0.0</td>\n",
              "      <td>0.0</td>\n",
              "      <td>0.0</td>\n",
              "      <td>0.0</td>\n",
              "      <td>0.0</td>\n",
              "      <td>0.0</td>\n",
              "      <td>0.0</td>\n",
              "      <td>0.0</td>\n",
              "      <td>0.0</td>\n",
              "      <td>0.0</td>\n",
              "      <td>0.0</td>\n",
              "      <td>0.0</td>\n",
              "      <td>0.0</td>\n",
              "      <td>0.0</td>\n",
              "      <td>0.0</td>\n",
              "      <td>0.0</td>\n",
              "      <td>0.0</td>\n",
              "      <td>1.0</td>\n",
              "      <td>0.0</td>\n",
              "      <td>0.0</td>\n",
              "      <td>0.0</td>\n",
              "      <td>0.0</td>\n",
              "      <td>0.0</td>\n",
              "      <td>0.0</td>\n",
              "      <td>0.0</td>\n",
              "      <td>0.0</td>\n",
              "      <td>0.0</td>\n",
              "      <td>0.0</td>\n",
              "      <td>0.0</td>\n",
              "      <td>0.0</td>\n",
              "      <td>0.0</td>\n",
              "      <td>0.0</td>\n",
              "      <td>0.0</td>\n",
              "      <td>...</td>\n",
              "      <td>0.0</td>\n",
              "      <td>0.0</td>\n",
              "      <td>0.0</td>\n",
              "      <td>1.0</td>\n",
              "      <td>0.0</td>\n",
              "      <td>0.0</td>\n",
              "      <td>1.0</td>\n",
              "      <td>0.0</td>\n",
              "      <td>0.0</td>\n",
              "      <td>0.0</td>\n",
              "      <td>0.0</td>\n",
              "      <td>0.0</td>\n",
              "      <td>0.0</td>\n",
              "      <td>0.0</td>\n",
              "      <td>0.0</td>\n",
              "      <td>0.0</td>\n",
              "      <td>0.0</td>\n",
              "      <td>1.0</td>\n",
              "      <td>0.0</td>\n",
              "      <td>1.0</td>\n",
              "      <td>0.0</td>\n",
              "      <td>0.0</td>\n",
              "      <td>0.0</td>\n",
              "      <td>0.0</td>\n",
              "      <td>0.0</td>\n",
              "      <td>0.0</td>\n",
              "      <td>0.0</td>\n",
              "      <td>0.0</td>\n",
              "      <td>0.0</td>\n",
              "      <td>0.0</td>\n",
              "      <td>0.0</td>\n",
              "      <td>0.0</td>\n",
              "      <td>1.0</td>\n",
              "      <td>0.0</td>\n",
              "      <td>0.0</td>\n",
              "      <td>1.0</td>\n",
              "      <td>0.0</td>\n",
              "      <td>0.0</td>\n",
              "      <td>0.0</td>\n",
              "      <td>0.0</td>\n",
              "    </tr>\n",
              "    <tr>\n",
              "      <th>4</th>\n",
              "      <td>16725.0</td>\n",
              "      <td>26732.0</td>\n",
              "      <td>1.612900</td>\n",
              "      <td>-0.768372</td>\n",
              "      <td>-0.043918</td>\n",
              "      <td>0.0</td>\n",
              "      <td>0.0</td>\n",
              "      <td>0.0</td>\n",
              "      <td>0.0</td>\n",
              "      <td>0.0</td>\n",
              "      <td>0.0</td>\n",
              "      <td>0.0</td>\n",
              "      <td>1.0</td>\n",
              "      <td>0.0</td>\n",
              "      <td>0.0</td>\n",
              "      <td>0.0</td>\n",
              "      <td>0.0</td>\n",
              "      <td>0.0</td>\n",
              "      <td>0.0</td>\n",
              "      <td>0.0</td>\n",
              "      <td>0.0</td>\n",
              "      <td>0.0</td>\n",
              "      <td>0.0</td>\n",
              "      <td>0.0</td>\n",
              "      <td>0.0</td>\n",
              "      <td>0.0</td>\n",
              "      <td>1.0</td>\n",
              "      <td>0.0</td>\n",
              "      <td>0.0</td>\n",
              "      <td>0.0</td>\n",
              "      <td>0.0</td>\n",
              "      <td>0.0</td>\n",
              "      <td>0.0</td>\n",
              "      <td>0.0</td>\n",
              "      <td>0.0</td>\n",
              "      <td>0.0</td>\n",
              "      <td>1.0</td>\n",
              "      <td>0.0</td>\n",
              "      <td>0.0</td>\n",
              "      <td>0.0</td>\n",
              "      <td>...</td>\n",
              "      <td>0.0</td>\n",
              "      <td>0.0</td>\n",
              "      <td>0.0</td>\n",
              "      <td>1.0</td>\n",
              "      <td>0.0</td>\n",
              "      <td>0.0</td>\n",
              "      <td>0.0</td>\n",
              "      <td>0.0</td>\n",
              "      <td>0.0</td>\n",
              "      <td>1.0</td>\n",
              "      <td>0.0</td>\n",
              "      <td>0.0</td>\n",
              "      <td>0.0</td>\n",
              "      <td>0.0</td>\n",
              "      <td>0.0</td>\n",
              "      <td>0.0</td>\n",
              "      <td>0.0</td>\n",
              "      <td>1.0</td>\n",
              "      <td>0.0</td>\n",
              "      <td>0.0</td>\n",
              "      <td>1.0</td>\n",
              "      <td>0.0</td>\n",
              "      <td>0.0</td>\n",
              "      <td>0.0</td>\n",
              "      <td>0.0</td>\n",
              "      <td>0.0</td>\n",
              "      <td>0.0</td>\n",
              "      <td>1.0</td>\n",
              "      <td>0.0</td>\n",
              "      <td>0.0</td>\n",
              "      <td>0.0</td>\n",
              "      <td>0.0</td>\n",
              "      <td>0.0</td>\n",
              "      <td>0.0</td>\n",
              "      <td>0.0</td>\n",
              "      <td>0.0</td>\n",
              "      <td>1.0</td>\n",
              "      <td>0.0</td>\n",
              "      <td>0.0</td>\n",
              "      <td>0.0</td>\n",
              "    </tr>\n",
              "  </tbody>\n",
              "</table>\n",
              "<p>5 rows × 124 columns</p>\n",
              "</div>"
            ],
            "text/plain": [
              "     index       id  ...  waterpoint_type_improved spring  waterpoint_type_other\n",
              "0  21383.0  41736.0  ...                              0.0                    0.0\n",
              "1   1158.0  59430.0  ...                              1.0                    0.0\n",
              "2  25815.0  37268.0  ...                              0.0                    0.0\n",
              "3  54845.0  62135.0  ...                              0.0                    0.0\n",
              "4  16725.0  26732.0  ...                              0.0                    0.0\n",
              "\n",
              "[5 rows x 124 columns]"
            ]
          },
          "execution_count": 805,
          "metadata": {
            "tags": []
          },
          "output_type": "execute_result"
        }
      ],
      "source": [
        "X_train.head()"
      ]
    },
    {
      "cell_type": "markdown",
      "metadata": {
        "id": "e-ArSRQi3mH4"
      },
      "source": [
        "# Checking For Class Imbalance\n",
        "\n",
        "Now I will test for class imbalance since if there is one, the performance measurements will be unreliable."
      ]
    },
    {
      "cell_type": "code",
      "execution_count": null,
      "metadata": {
        "colab": {
          "base_uri": "https://localhost:8080/"
        },
        "id": "aOCteJtY4A6H",
        "outputId": "b2f97a8d-f346-4b72-b839-6f2d46bde57f"
      },
      "outputs": [
        {
          "name": "stdout",
          "output_type": "stream",
          "text": [
            "functional                 0.514593\n",
            "non functional             0.416111\n",
            "functional needs repair    0.069296\n",
            "Name: status_group, dtype: float64\n",
            "\n",
            "\n",
            "functional                 0.514593\n",
            "non functional             0.416111\n",
            "functional needs repair    0.069296\n",
            "Name: status_group, dtype: float64\n"
          ]
        }
      ],
      "source": [
        "print(y_train_logreg.value_counts(normalize=True))\n",
        "print('\\n')\n",
        "print(y_train.value_counts(normalize=True))\n",
        "\n"
      ]
    },
    {
      "cell_type": "markdown",
      "metadata": {
        "id": "DzCM0dQx4qpc"
      },
      "source": [
        "The fuctional category makes up 51% and the non functional category makes up 41% of the training dataset. The problem lies with the functional needs repair category which make up only 7% of the dataset. Since it is important for the authorities to know which water points need repairs, I will fix this imbalance by using the SMOTE(Synthetic Minority Oversampling) tool."
      ]
    },
    {
      "cell_type": "code",
      "execution_count": null,
      "metadata": {
        "colab": {
          "base_uri": "https://localhost:8080/"
        },
        "id": "z1ZTt5u45mTC",
        "outputId": "0c2119aa-6357-4847-a1da-f366ce7eef7d"
      },
      "outputs": [
        {
          "name": "stderr",
          "output_type": "stream",
          "text": [
            "/usr/local/lib/python3.6/dist-packages/sklearn/utils/deprecation.py:87: FutureWarning: Function safe_indexing is deprecated; safe_indexing is deprecated in version 0.22 and will be removed in version 0.24.\n",
            "  warnings.warn(msg, category=FutureWarning)\n",
            "/usr/local/lib/python3.6/dist-packages/sklearn/utils/deprecation.py:87: FutureWarning: Function safe_indexing is deprecated; safe_indexing is deprecated in version 0.22 and will be removed in version 0.24.\n",
            "  warnings.warn(msg, category=FutureWarning)\n",
            "/usr/local/lib/python3.6/dist-packages/sklearn/utils/deprecation.py:87: FutureWarning: Function safe_indexing is deprecated; safe_indexing is deprecated in version 0.22 and will be removed in version 0.24.\n",
            "  warnings.warn(msg, category=FutureWarning)\n",
            "/usr/local/lib/python3.6/dist-packages/sklearn/utils/deprecation.py:87: FutureWarning: Function safe_indexing is deprecated; safe_indexing is deprecated in version 0.22 and will be removed in version 0.24.\n",
            "  warnings.warn(msg, category=FutureWarning)\n"
          ]
        }
      ],
      "source": [
        "smote = SMOTE()\n",
        "X_train_resampled, y_train_resampled = smote.fit_resample(X_train, y_train)\n",
        "X_train_logreg_impute_resampled, y_train_logreg_resampled = smote.fit_resample(X_train_logreg_impute, y_train_logreg)\n"
      ]
    },
    {
      "cell_type": "markdown",
      "metadata": {
        "id": "eQieedVD6HWQ"
      },
      "source": [
        "Now I will check again to see if the class imbalance is fixed."
      ]
    },
    {
      "cell_type": "code",
      "execution_count": null,
      "metadata": {
        "id": "S4yAYJKk9Gtr"
      },
      "outputs": [],
      "source": [
        "X_train_resampled = pd.DataFrame(X_train_resampled, columns=X_train.columns )\n",
        "y_train_resampled = pd.Series(y_train_resampled, name='status_group')\n",
        "X_train_logreg_impute_resampled = pd.DataFrame(X_train_logreg_impute_resampled, columns=X_train_logreg_impute.columns)\n",
        "y_train_logreg_resampled = pd.Series(y_train_resampled, name='status_group')\n"
      ]
    },
    {
      "cell_type": "code",
      "execution_count": null,
      "metadata": {
        "colab": {
          "base_uri": "https://localhost:8080/"
        },
        "id": "J7lESE5i6NP5",
        "outputId": "0435664e-1485-4558-edc2-d1adb8b5f533"
      },
      "outputs": [
        {
          "name": "stdout",
          "output_type": "stream",
          "text": [
            "non functional             0.333333\n",
            "functional                 0.333333\n",
            "functional needs repair    0.333333\n",
            "Name: status_group, dtype: float64\n",
            "\n",
            "\n",
            "non functional             0.333333\n",
            "functional                 0.333333\n",
            "functional needs repair    0.333333\n",
            "Name: status_group, dtype: float64\n"
          ]
        }
      ],
      "source": [
        "print(y_train_resampled.value_counts(normalize=True))\n",
        "print('\\n')\n",
        "print(y_train_logreg_resampled.value_counts(normalize=True))\n",
        "\n"
      ]
    },
    {
      "cell_type": "markdown",
      "metadata": {
        "id": "tBvqxYzBB30V"
      },
      "source": [
        "The categories are now all equal at 33.33% each. Solving the class imbalance problem. I will now combine the data into a dataframe again to make things simpler."
      ]
    },
    {
      "cell_type": "code",
      "execution_count": null,
      "metadata": {
        "id": "gQkUzz-QB9g3"
      },
      "outputs": [],
      "source": [
        "# Combining the training data to make easy to keep track\n",
        "processed_df = pd.concat([X_train_resampled, y_train_resampled], axis=1)\n",
        "processed_df_logreg = pd.concat([X_train_logreg_impute_resampled, y_train_logreg_resampled], axis=1)\n",
        "\n",
        "processed_df = processed_df.drop(columns=['id', 'index'])\n",
        "processed_df_logreg = processed_df_logreg.drop(columns=['id', 'index'])\n",
        "\n"
      ]
    },
    {
      "cell_type": "code",
      "execution_count": null,
      "metadata": {
        "id": "yLgNxB4FLwfZ"
      },
      "outputs": [],
      "source": [
        "# Resetting index so it could be combine with the features\n",
        "y_test.reset_index(drop=True, inplace=True)\n",
        "y_test_logreg.reset_index(drop=True, inplace=True)\n"
      ]
    },
    {
      "cell_type": "code",
      "execution_count": null,
      "metadata": {
        "id": "Z2yrmMSUG6KA"
      },
      "outputs": [],
      "source": [
        "# Combining test data into a dataframe\n",
        "\n",
        "processed_test_df= pd.concat([X_test, y_test], axis=1)\n",
        "processed_test_df_logreg = pd.concat([X_test_logreg_impute, y_test_logreg], axis=1)\n",
        "\n",
        "processed_test_df = processed_test_df.drop(columns=['id', 'index'])\n",
        "processed_test_df_logreg = processed_test_df_logreg.drop(columns=['id', 'index'])"
      ]
    },
    {
      "cell_type": "markdown",
      "metadata": {
        "id": "8i_lVN1uYWVU"
      },
      "source": [
        "Now that I am done with scrubbing and exploring the data, I will start to build the models.\n",
        "\n",
        "# Building the Models\n",
        "\n",
        "For this project I will be building several models using diffrent classifiers and then compare the performance metrics to choose one classifier. I will be using CVsearch and param grids to make sure the model the parameters are well chosen.\n",
        "\n",
        "The classifiers I will be trying out are\n",
        "\n",
        "- Logistic Regression\n",
        "- K-Nearest Neighbour\n",
        "- Decision Tree Classifier\n",
        "- Randomn Forest Classifier\n",
        "- eXtreme Gradient Boosting (XGBoost)\n",
        "- Support Vector Machines (SVM)\n",
        "\n",
        "The performance metrics I will be using are Precision, Recall, Accuracy, and F1 Score. I will also be investigating the confusion matrix."
      ]
    },
    {
      "cell_type": "markdown",
      "metadata": {
        "id": "JRCrK9Wee6XZ"
      },
      "source": [
        "Before we build the models, I will create a fuction that takes in the model, the true data and the predictions and then append the performance metrics to a dataframe. After having create all the models, we can compare the scores at the end."
      ]
    },
    {
      "cell_type": "code",
      "execution_count": null,
      "metadata": {
        "id": "j3Z5vTkefORc"
      },
      "outputs": [],
      "source": [
        "scores_df = pd.DataFrame(columns = ['Model', 'Precision', 'Recall', 'Accuracy', 'F1'])\n",
        "\n",
        "# Creating the function\n",
        "def find_scores(model, y_test, y_test_hat):\n",
        "  '''\n",
        "  parameters : (model:classifier model, y true value, y predicted value)\n",
        "\n",
        "  Save precision, recall, accuracy, and f1 scores to a dataframe\n",
        "  '''\n",
        "  global scores_df\n",
        "\n",
        "  # Calculating test scores\n",
        "  precision = precision_score(y_test, y_test_hat, average='weighted')\n",
        "  recall = recall_score(y_test, y_test_hat, average='weighted')\n",
        "  accuracy = accuracy_score(y_test, y_test_hat)\n",
        "  f1 = f1_score(y_test, y_test_hat, average='weighted')\n",
        "\n",
        "  # Adding the scores into the dataframe\n",
        "  scores_df = scores_df.append({'Model':model, 'Precision':precision, 'Recall':recall, 'Accuracy':accuracy, 'F1':f1}, ignore_index=True)"
      ]
    },
    {
      "cell_type": "markdown",
      "metadata": {
        "id": "0_iz74Keg3Dq"
      },
      "source": [
        "## Logistic Regression\n",
        "The first model I will be creating is Logistic Regression. We will first create a base model with the default hyperparameters, before using GridSearchCV to find optimal parameters."
      ]
    },
    {
      "cell_type": "code",
      "execution_count": null,
      "metadata": {
        "colab": {
          "base_uri": "https://localhost:8080/",
          "height": 192
        },
        "id": "nmiQIxqnUBKc",
        "outputId": "633f1b86-ae7a-4fd8-f935-31122be75810"
      },
      "outputs": [
        {
          "data": {
            "text/html": [
              "<div>\n",
              "<style scoped>\n",
              "    .dataframe tbody tr th:only-of-type {\n",
              "        vertical-align: middle;\n",
              "    }\n",
              "\n",
              "    .dataframe tbody tr th {\n",
              "        vertical-align: top;\n",
              "    }\n",
              "\n",
              "    .dataframe thead th {\n",
              "        text-align: right;\n",
              "    }\n",
              "</style>\n",
              "<table border=\"1\" class=\"dataframe\">\n",
              "  <thead>\n",
              "    <tr style=\"text-align: right;\">\n",
              "      <th></th>\n",
              "      <th>amount_tsh</th>\n",
              "      <th>gps_height</th>\n",
              "      <th>num_private</th>\n",
              "      <th>basin_Lake Nyasa</th>\n",
              "      <th>basin_Lake Rukwa</th>\n",
              "      <th>basin_Lake Tanganyika</th>\n",
              "      <th>basin_Lake Victoria</th>\n",
              "      <th>basin_Pangani</th>\n",
              "      <th>basin_Rufiji</th>\n",
              "      <th>basin_Ruvuma / Southern Coast</th>\n",
              "      <th>basin_Wami / Ruvu</th>\n",
              "      <th>region_Dar es Salaam</th>\n",
              "      <th>region_Dodoma</th>\n",
              "      <th>region_Iringa</th>\n",
              "      <th>region_Kagera</th>\n",
              "      <th>region_Kigoma</th>\n",
              "      <th>region_Kilimanjaro</th>\n",
              "      <th>region_Lindi</th>\n",
              "      <th>region_Manyara</th>\n",
              "      <th>region_Mara</th>\n",
              "      <th>region_Mbeya</th>\n",
              "      <th>region_Morogoro</th>\n",
              "      <th>region_Mtwara</th>\n",
              "      <th>region_Mwanza</th>\n",
              "      <th>region_Pwani</th>\n",
              "      <th>region_Rukwa</th>\n",
              "      <th>region_Ruvuma</th>\n",
              "      <th>region_Shinyanga</th>\n",
              "      <th>region_Singida</th>\n",
              "      <th>region_Tabora</th>\n",
              "      <th>region_Tanga</th>\n",
              "      <th>district_code_1</th>\n",
              "      <th>district_code_13</th>\n",
              "      <th>district_code_2</th>\n",
              "      <th>district_code_23</th>\n",
              "      <th>district_code_3</th>\n",
              "      <th>district_code_30</th>\n",
              "      <th>district_code_33</th>\n",
              "      <th>district_code_4</th>\n",
              "      <th>district_code_43</th>\n",
              "      <th>...</th>\n",
              "      <th>extraction_type_group_rope pump</th>\n",
              "      <th>extraction_type_group_submersible</th>\n",
              "      <th>extraction_type_group_swn 80</th>\n",
              "      <th>extraction_type_group_wind-powered</th>\n",
              "      <th>management_group_other</th>\n",
              "      <th>management_group_parastatal</th>\n",
              "      <th>management_group_unknown</th>\n",
              "      <th>management_group_user-group</th>\n",
              "      <th>payment_type_monthly</th>\n",
              "      <th>payment_type_never pay</th>\n",
              "      <th>payment_type_on failure</th>\n",
              "      <th>payment_type_other</th>\n",
              "      <th>payment_type_per bucket</th>\n",
              "      <th>payment_type_unknown</th>\n",
              "      <th>water_quality_fluoride</th>\n",
              "      <th>water_quality_fluoride abandoned</th>\n",
              "      <th>water_quality_milky</th>\n",
              "      <th>water_quality_salty</th>\n",
              "      <th>water_quality_salty abandoned</th>\n",
              "      <th>water_quality_soft</th>\n",
              "      <th>water_quality_unknown</th>\n",
              "      <th>quantity_enough</th>\n",
              "      <th>quantity_insufficient</th>\n",
              "      <th>quantity_seasonal</th>\n",
              "      <th>quantity_unknown</th>\n",
              "      <th>source_hand dtw</th>\n",
              "      <th>source_lake</th>\n",
              "      <th>source_machine dbh</th>\n",
              "      <th>source_other</th>\n",
              "      <th>source_rainwater harvesting</th>\n",
              "      <th>source_river</th>\n",
              "      <th>source_shallow well</th>\n",
              "      <th>source_spring</th>\n",
              "      <th>source_unknown</th>\n",
              "      <th>waterpoint_type_communal standpipe</th>\n",
              "      <th>waterpoint_type_communal standpipe multiple</th>\n",
              "      <th>waterpoint_type_hand pump</th>\n",
              "      <th>waterpoint_type_improved spring</th>\n",
              "      <th>waterpoint_type_other</th>\n",
              "      <th>status_group</th>\n",
              "    </tr>\n",
              "  </thead>\n",
              "  <tbody>\n",
              "    <tr>\n",
              "      <th>0</th>\n",
              "      <td>-0.307201</td>\n",
              "      <td>1.128274</td>\n",
              "      <td>-0.043918</td>\n",
              "      <td>0.0</td>\n",
              "      <td>0.0</td>\n",
              "      <td>0.0</td>\n",
              "      <td>0.0</td>\n",
              "      <td>1.0</td>\n",
              "      <td>0.0</td>\n",
              "      <td>0.0</td>\n",
              "      <td>0.0</td>\n",
              "      <td>0.0</td>\n",
              "      <td>0.0</td>\n",
              "      <td>0.0</td>\n",
              "      <td>0.0</td>\n",
              "      <td>0.0</td>\n",
              "      <td>1.0</td>\n",
              "      <td>0.0</td>\n",
              "      <td>0.0</td>\n",
              "      <td>0.0</td>\n",
              "      <td>0.0</td>\n",
              "      <td>0.0</td>\n",
              "      <td>0.0</td>\n",
              "      <td>0.0</td>\n",
              "      <td>0.0</td>\n",
              "      <td>0.0</td>\n",
              "      <td>0.0</td>\n",
              "      <td>0.0</td>\n",
              "      <td>0.0</td>\n",
              "      <td>0.0</td>\n",
              "      <td>0.0</td>\n",
              "      <td>0.0</td>\n",
              "      <td>0.0</td>\n",
              "      <td>0.0</td>\n",
              "      <td>0.0</td>\n",
              "      <td>0.0</td>\n",
              "      <td>0.0</td>\n",
              "      <td>0.0</td>\n",
              "      <td>1.0</td>\n",
              "      <td>0.0</td>\n",
              "      <td>...</td>\n",
              "      <td>0.0</td>\n",
              "      <td>0.0</td>\n",
              "      <td>0.0</td>\n",
              "      <td>0.0</td>\n",
              "      <td>0.0</td>\n",
              "      <td>0.0</td>\n",
              "      <td>0.0</td>\n",
              "      <td>1.0</td>\n",
              "      <td>0.0</td>\n",
              "      <td>1.0</td>\n",
              "      <td>0.0</td>\n",
              "      <td>0.0</td>\n",
              "      <td>0.0</td>\n",
              "      <td>0.0</td>\n",
              "      <td>0.0</td>\n",
              "      <td>0.0</td>\n",
              "      <td>0.0</td>\n",
              "      <td>0.0</td>\n",
              "      <td>0.0</td>\n",
              "      <td>1.0</td>\n",
              "      <td>0.0</td>\n",
              "      <td>1.0</td>\n",
              "      <td>0.0</td>\n",
              "      <td>0.0</td>\n",
              "      <td>0.0</td>\n",
              "      <td>0.0</td>\n",
              "      <td>0.0</td>\n",
              "      <td>0.0</td>\n",
              "      <td>0.0</td>\n",
              "      <td>0.0</td>\n",
              "      <td>0.0</td>\n",
              "      <td>0.0</td>\n",
              "      <td>1.0</td>\n",
              "      <td>0.0</td>\n",
              "      <td>1.0</td>\n",
              "      <td>0.0</td>\n",
              "      <td>0.0</td>\n",
              "      <td>0.0</td>\n",
              "      <td>0.0</td>\n",
              "      <td>functional</td>\n",
              "    </tr>\n",
              "    <tr>\n",
              "      <th>1</th>\n",
              "      <td>-0.307201</td>\n",
              "      <td>-0.745757</td>\n",
              "      <td>-0.043918</td>\n",
              "      <td>0.0</td>\n",
              "      <td>0.0</td>\n",
              "      <td>0.0</td>\n",
              "      <td>1.0</td>\n",
              "      <td>0.0</td>\n",
              "      <td>0.0</td>\n",
              "      <td>0.0</td>\n",
              "      <td>0.0</td>\n",
              "      <td>0.0</td>\n",
              "      <td>0.0</td>\n",
              "      <td>0.0</td>\n",
              "      <td>1.0</td>\n",
              "      <td>0.0</td>\n",
              "      <td>0.0</td>\n",
              "      <td>0.0</td>\n",
              "      <td>0.0</td>\n",
              "      <td>0.0</td>\n",
              "      <td>0.0</td>\n",
              "      <td>0.0</td>\n",
              "      <td>0.0</td>\n",
              "      <td>0.0</td>\n",
              "      <td>0.0</td>\n",
              "      <td>0.0</td>\n",
              "      <td>0.0</td>\n",
              "      <td>0.0</td>\n",
              "      <td>0.0</td>\n",
              "      <td>0.0</td>\n",
              "      <td>0.0</td>\n",
              "      <td>0.0</td>\n",
              "      <td>0.0</td>\n",
              "      <td>1.0</td>\n",
              "      <td>0.0</td>\n",
              "      <td>0.0</td>\n",
              "      <td>0.0</td>\n",
              "      <td>0.0</td>\n",
              "      <td>0.0</td>\n",
              "      <td>0.0</td>\n",
              "      <td>...</td>\n",
              "      <td>0.0</td>\n",
              "      <td>0.0</td>\n",
              "      <td>0.0</td>\n",
              "      <td>0.0</td>\n",
              "      <td>0.0</td>\n",
              "      <td>0.0</td>\n",
              "      <td>0.0</td>\n",
              "      <td>1.0</td>\n",
              "      <td>0.0</td>\n",
              "      <td>1.0</td>\n",
              "      <td>0.0</td>\n",
              "      <td>0.0</td>\n",
              "      <td>0.0</td>\n",
              "      <td>0.0</td>\n",
              "      <td>0.0</td>\n",
              "      <td>0.0</td>\n",
              "      <td>0.0</td>\n",
              "      <td>0.0</td>\n",
              "      <td>0.0</td>\n",
              "      <td>1.0</td>\n",
              "      <td>0.0</td>\n",
              "      <td>0.0</td>\n",
              "      <td>0.0</td>\n",
              "      <td>1.0</td>\n",
              "      <td>0.0</td>\n",
              "      <td>0.0</td>\n",
              "      <td>0.0</td>\n",
              "      <td>0.0</td>\n",
              "      <td>0.0</td>\n",
              "      <td>0.0</td>\n",
              "      <td>0.0</td>\n",
              "      <td>0.0</td>\n",
              "      <td>1.0</td>\n",
              "      <td>0.0</td>\n",
              "      <td>0.0</td>\n",
              "      <td>0.0</td>\n",
              "      <td>0.0</td>\n",
              "      <td>1.0</td>\n",
              "      <td>0.0</td>\n",
              "      <td>non functional</td>\n",
              "    </tr>\n",
              "  </tbody>\n",
              "</table>\n",
              "<p>2 rows × 110 columns</p>\n",
              "</div>"
            ],
            "text/plain": [
              "   amount_tsh  gps_height  ...  waterpoint_type_other    status_group\n",
              "0   -0.307201    1.128274  ...                    0.0      functional\n",
              "1   -0.307201   -0.745757  ...                    0.0  non functional\n",
              "\n",
              "[2 rows x 110 columns]"
            ]
          },
          "execution_count": 814,
          "metadata": {
            "tags": []
          },
          "output_type": "execute_result"
        }
      ],
      "source": [
        "processed_df_logreg.head(2)"
      ]
    },
    {
      "cell_type": "code",
      "execution_count": null,
      "metadata": {
        "colab": {
          "base_uri": "https://localhost:8080/",
          "height": 209
        },
        "id": "zW69FUijUVVn",
        "outputId": "0e58a544-9623-473c-c487-2ca6c47de80b"
      },
      "outputs": [
        {
          "data": {
            "text/html": [
              "<div>\n",
              "<style scoped>\n",
              "    .dataframe tbody tr th:only-of-type {\n",
              "        vertical-align: middle;\n",
              "    }\n",
              "\n",
              "    .dataframe tbody tr th {\n",
              "        vertical-align: top;\n",
              "    }\n",
              "\n",
              "    .dataframe thead th {\n",
              "        text-align: right;\n",
              "    }\n",
              "</style>\n",
              "<table border=\"1\" class=\"dataframe\">\n",
              "  <thead>\n",
              "    <tr style=\"text-align: right;\">\n",
              "      <th></th>\n",
              "      <th>amount_tsh</th>\n",
              "      <th>gps_height</th>\n",
              "      <th>num_private</th>\n",
              "      <th>basin_Lake Nyasa</th>\n",
              "      <th>basin_Lake Rukwa</th>\n",
              "      <th>basin_Lake Tanganyika</th>\n",
              "      <th>basin_Lake Victoria</th>\n",
              "      <th>basin_Pangani</th>\n",
              "      <th>basin_Rufiji</th>\n",
              "      <th>basin_Ruvuma / Southern Coast</th>\n",
              "      <th>basin_Wami / Ruvu</th>\n",
              "      <th>region_Dar es Salaam</th>\n",
              "      <th>region_Dodoma</th>\n",
              "      <th>region_Iringa</th>\n",
              "      <th>region_Kagera</th>\n",
              "      <th>region_Kigoma</th>\n",
              "      <th>region_Kilimanjaro</th>\n",
              "      <th>region_Lindi</th>\n",
              "      <th>region_Manyara</th>\n",
              "      <th>region_Mara</th>\n",
              "      <th>region_Mbeya</th>\n",
              "      <th>region_Morogoro</th>\n",
              "      <th>region_Mtwara</th>\n",
              "      <th>region_Mwanza</th>\n",
              "      <th>region_Pwani</th>\n",
              "      <th>region_Rukwa</th>\n",
              "      <th>region_Ruvuma</th>\n",
              "      <th>region_Shinyanga</th>\n",
              "      <th>region_Singida</th>\n",
              "      <th>region_Tabora</th>\n",
              "      <th>region_Tanga</th>\n",
              "      <th>district_code_1</th>\n",
              "      <th>district_code_13</th>\n",
              "      <th>district_code_2</th>\n",
              "      <th>district_code_23</th>\n",
              "      <th>district_code_3</th>\n",
              "      <th>district_code_30</th>\n",
              "      <th>district_code_33</th>\n",
              "      <th>district_code_4</th>\n",
              "      <th>district_code_43</th>\n",
              "      <th>...</th>\n",
              "      <th>extraction_type_group_rope pump</th>\n",
              "      <th>extraction_type_group_submersible</th>\n",
              "      <th>extraction_type_group_swn 80</th>\n",
              "      <th>extraction_type_group_wind-powered</th>\n",
              "      <th>management_group_other</th>\n",
              "      <th>management_group_parastatal</th>\n",
              "      <th>management_group_unknown</th>\n",
              "      <th>management_group_user-group</th>\n",
              "      <th>payment_type_monthly</th>\n",
              "      <th>payment_type_never pay</th>\n",
              "      <th>payment_type_on failure</th>\n",
              "      <th>payment_type_other</th>\n",
              "      <th>payment_type_per bucket</th>\n",
              "      <th>payment_type_unknown</th>\n",
              "      <th>water_quality_fluoride</th>\n",
              "      <th>water_quality_fluoride abandoned</th>\n",
              "      <th>water_quality_milky</th>\n",
              "      <th>water_quality_salty</th>\n",
              "      <th>water_quality_salty abandoned</th>\n",
              "      <th>water_quality_soft</th>\n",
              "      <th>water_quality_unknown</th>\n",
              "      <th>quantity_enough</th>\n",
              "      <th>quantity_insufficient</th>\n",
              "      <th>quantity_seasonal</th>\n",
              "      <th>quantity_unknown</th>\n",
              "      <th>source_hand dtw</th>\n",
              "      <th>source_lake</th>\n",
              "      <th>source_machine dbh</th>\n",
              "      <th>source_other</th>\n",
              "      <th>source_rainwater harvesting</th>\n",
              "      <th>source_river</th>\n",
              "      <th>source_shallow well</th>\n",
              "      <th>source_spring</th>\n",
              "      <th>source_unknown</th>\n",
              "      <th>waterpoint_type_communal standpipe</th>\n",
              "      <th>waterpoint_type_communal standpipe multiple</th>\n",
              "      <th>waterpoint_type_hand pump</th>\n",
              "      <th>waterpoint_type_improved spring</th>\n",
              "      <th>waterpoint_type_other</th>\n",
              "      <th>status_group</th>\n",
              "    </tr>\n",
              "  </thead>\n",
              "  <tbody>\n",
              "    <tr>\n",
              "      <th>0</th>\n",
              "      <td>-0.307201</td>\n",
              "      <td>-0.768372</td>\n",
              "      <td>-0.043918</td>\n",
              "      <td>0.0</td>\n",
              "      <td>0.0</td>\n",
              "      <td>0.0</td>\n",
              "      <td>0.0</td>\n",
              "      <td>1.0</td>\n",
              "      <td>0.0</td>\n",
              "      <td>0.0</td>\n",
              "      <td>0.0</td>\n",
              "      <td>0.0</td>\n",
              "      <td>0.0</td>\n",
              "      <td>0.0</td>\n",
              "      <td>0.0</td>\n",
              "      <td>0.0</td>\n",
              "      <td>0.0</td>\n",
              "      <td>0.0</td>\n",
              "      <td>0.0</td>\n",
              "      <td>0.0</td>\n",
              "      <td>0.0</td>\n",
              "      <td>0.0</td>\n",
              "      <td>0.0</td>\n",
              "      <td>0.0</td>\n",
              "      <td>0.0</td>\n",
              "      <td>0.0</td>\n",
              "      <td>0.0</td>\n",
              "      <td>0.0</td>\n",
              "      <td>0.0</td>\n",
              "      <td>0.0</td>\n",
              "      <td>1.0</td>\n",
              "      <td>0.0</td>\n",
              "      <td>0.0</td>\n",
              "      <td>0.0</td>\n",
              "      <td>0.0</td>\n",
              "      <td>0.0</td>\n",
              "      <td>0.0</td>\n",
              "      <td>0.0</td>\n",
              "      <td>0.0</td>\n",
              "      <td>0.0</td>\n",
              "      <td>...</td>\n",
              "      <td>0.0</td>\n",
              "      <td>1.0</td>\n",
              "      <td>0.0</td>\n",
              "      <td>0.0</td>\n",
              "      <td>0.0</td>\n",
              "      <td>0.0</td>\n",
              "      <td>0.0</td>\n",
              "      <td>1.0</td>\n",
              "      <td>0.0</td>\n",
              "      <td>1.0</td>\n",
              "      <td>0.0</td>\n",
              "      <td>0.0</td>\n",
              "      <td>0.0</td>\n",
              "      <td>0.0</td>\n",
              "      <td>0.0</td>\n",
              "      <td>0.0</td>\n",
              "      <td>0.0</td>\n",
              "      <td>0.0</td>\n",
              "      <td>0.0</td>\n",
              "      <td>1.0</td>\n",
              "      <td>0.0</td>\n",
              "      <td>0.0</td>\n",
              "      <td>1.0</td>\n",
              "      <td>0.0</td>\n",
              "      <td>0.0</td>\n",
              "      <td>0.0</td>\n",
              "      <td>0.0</td>\n",
              "      <td>1.0</td>\n",
              "      <td>0.0</td>\n",
              "      <td>0.0</td>\n",
              "      <td>0.0</td>\n",
              "      <td>0.0</td>\n",
              "      <td>0.0</td>\n",
              "      <td>0.0</td>\n",
              "      <td>0.0</td>\n",
              "      <td>0.0</td>\n",
              "      <td>0.0</td>\n",
              "      <td>0.0</td>\n",
              "      <td>1.0</td>\n",
              "      <td>non functional</td>\n",
              "    </tr>\n",
              "    <tr>\n",
              "      <th>1</th>\n",
              "      <td>-0.307201</td>\n",
              "      <td>-0.745757</td>\n",
              "      <td>-0.043918</td>\n",
              "      <td>0.0</td>\n",
              "      <td>0.0</td>\n",
              "      <td>0.0</td>\n",
              "      <td>1.0</td>\n",
              "      <td>0.0</td>\n",
              "      <td>0.0</td>\n",
              "      <td>0.0</td>\n",
              "      <td>0.0</td>\n",
              "      <td>0.0</td>\n",
              "      <td>0.0</td>\n",
              "      <td>0.0</td>\n",
              "      <td>0.0</td>\n",
              "      <td>0.0</td>\n",
              "      <td>0.0</td>\n",
              "      <td>0.0</td>\n",
              "      <td>0.0</td>\n",
              "      <td>0.0</td>\n",
              "      <td>0.0</td>\n",
              "      <td>0.0</td>\n",
              "      <td>0.0</td>\n",
              "      <td>0.0</td>\n",
              "      <td>0.0</td>\n",
              "      <td>0.0</td>\n",
              "      <td>0.0</td>\n",
              "      <td>1.0</td>\n",
              "      <td>0.0</td>\n",
              "      <td>0.0</td>\n",
              "      <td>0.0</td>\n",
              "      <td>1.0</td>\n",
              "      <td>0.0</td>\n",
              "      <td>0.0</td>\n",
              "      <td>0.0</td>\n",
              "      <td>0.0</td>\n",
              "      <td>0.0</td>\n",
              "      <td>0.0</td>\n",
              "      <td>0.0</td>\n",
              "      <td>0.0</td>\n",
              "      <td>...</td>\n",
              "      <td>0.0</td>\n",
              "      <td>0.0</td>\n",
              "      <td>0.0</td>\n",
              "      <td>0.0</td>\n",
              "      <td>0.0</td>\n",
              "      <td>0.0</td>\n",
              "      <td>0.0</td>\n",
              "      <td>1.0</td>\n",
              "      <td>0.0</td>\n",
              "      <td>1.0</td>\n",
              "      <td>0.0</td>\n",
              "      <td>0.0</td>\n",
              "      <td>0.0</td>\n",
              "      <td>0.0</td>\n",
              "      <td>0.0</td>\n",
              "      <td>0.0</td>\n",
              "      <td>0.0</td>\n",
              "      <td>0.0</td>\n",
              "      <td>0.0</td>\n",
              "      <td>1.0</td>\n",
              "      <td>0.0</td>\n",
              "      <td>1.0</td>\n",
              "      <td>0.0</td>\n",
              "      <td>0.0</td>\n",
              "      <td>0.0</td>\n",
              "      <td>0.0</td>\n",
              "      <td>0.0</td>\n",
              "      <td>0.0</td>\n",
              "      <td>0.0</td>\n",
              "      <td>0.0</td>\n",
              "      <td>0.0</td>\n",
              "      <td>1.0</td>\n",
              "      <td>0.0</td>\n",
              "      <td>0.0</td>\n",
              "      <td>0.0</td>\n",
              "      <td>0.0</td>\n",
              "      <td>1.0</td>\n",
              "      <td>0.0</td>\n",
              "      <td>0.0</td>\n",
              "      <td>functional needs repair</td>\n",
              "    </tr>\n",
              "  </tbody>\n",
              "</table>\n",
              "<p>2 rows × 110 columns</p>\n",
              "</div>"
            ],
            "text/plain": [
              "   amount_tsh  gps_height  ...  waterpoint_type_other             status_group\n",
              "0   -0.307201   -0.768372  ...                    1.0           non functional\n",
              "1   -0.307201   -0.745757  ...                    0.0  functional needs repair\n",
              "\n",
              "[2 rows x 110 columns]"
            ]
          },
          "execution_count": 815,
          "metadata": {
            "tags": []
          },
          "output_type": "execute_result"
        }
      ],
      "source": [
        "processed_test_df_logreg.head(2)"
      ]
    },
    {
      "cell_type": "code",
      "execution_count": null,
      "metadata": {
        "colab": {
          "base_uri": "https://localhost:8080/"
        },
        "id": "SYgON3IJi_e7",
        "outputId": "ea6055f8-6305-4139-b179-14f27d8a2001"
      },
      "outputs": [
        {
          "data": {
            "text/plain": [
              "LogisticRegression(C=1.0, class_weight=None, dual=False, fit_intercept=True,\n",
              "                   intercept_scaling=1, l1_ratio=None, max_iter=100,\n",
              "                   multi_class='auto', n_jobs=None, penalty='l2',\n",
              "                   random_state=None, solver='liblinear', tol=0.0001, verbose=0,\n",
              "                   warm_start=False)"
            ]
          },
          "execution_count": 816,
          "metadata": {
            "tags": []
          },
          "output_type": "execute_result"
        }
      ],
      "source": [
        "X = processed_df_logreg.drop(columns=['status_group'], axis=1)\n",
        "y = processed_df_logreg['status_group']\n",
        " \n",
        "X_test = processed_test_df_logreg.drop(columns=['status_group'], axis=1)\n",
        "y_test = processed_test_df_logreg['status_group']\n",
        "\n",
        "logreg_default = LogisticRegression(fit_intercept=True, solver='liblinear')\n",
        "logreg_default.fit(X, y)\n",
        "\n",
        "# y_preds_logreg = logreg.predict(X_test_logreg_impute)"
      ]
    },
    {
      "cell_type": "code",
      "execution_count": null,
      "metadata": {
        "colab": {
          "base_uri": "https://localhost:8080/",
          "height": 455
        },
        "id": "c57QwKzTq0eI",
        "outputId": "735218b3-b78f-40a2-e7b4-ed613d4ec9c4"
      },
      "outputs": [
        {
          "name": "stdout",
          "output_type": "stream",
          "text": [
            "[[0.60227719 0.29151943 0.10620338]\n",
            " [0.22861357 0.67846608 0.09292035]\n",
            " [0.20923149 0.16447985 0.62628866]]\n"
          ]
        },
        {
          "data": {
            "image/png": "[encoded data removed]",
            "text/plain": [
              "<Figure size 432x288 with 2 Axes>"
            ]
          },
          "metadata": {
            "needs_background": "light",
            "tags": []
          },
          "output_type": "display_data"
        }
      ],
      "source": [
        "disp = plot_confusion_matrix(logreg_default, X_test, y_test,\n",
        "                             cmap=plt.cm.Blues,\n",
        "                             normalize='true',\n",
        "                             xticks_rotation='vertical')\n",
        "disp.ax_.set_title('Logistic Regression Classifier')\n",
        "\n",
        "print(disp.confusion_matrix)\n"
      ]
    },
    {
      "cell_type": "markdown",
      "metadata": {
        "id": "D_4vcu32bLnE"
      },
      "source": [
        "We can see that the Logistic Regression didn't do that great a job classifying the data. The true positive rate for all three categories does not exceed 0.7\n",
        "\n",
        "Next we will take a look at the scores from the classification report and see what is going on."
      ]
    },
    {
      "cell_type": "code",
      "execution_count": null,
      "metadata": {
        "colab": {
          "base_uri": "https://localhost:8080/"
        },
        "id": "SZJvKDWvahYq",
        "outputId": "120bf89b-e9a9-4ff5-b1f2-0b6b94f3d4df"
      },
      "outputs": [
        {
          "name": "stdout",
          "output_type": "stream",
          "text": [
            "logreg_default\n",
            "Training Data\n",
            "                         precision    recall  f1-score   support\n",
            "\n",
            "             functional       0.62      0.61      0.61     15498\n",
            "functional needs repair       0.62      0.72      0.67     15498\n",
            "         non functional       0.76      0.65      0.70     15498\n",
            "\n",
            "               accuracy                           0.66     46494\n",
            "              macro avg       0.67      0.66      0.66     46494\n",
            "           weighted avg       0.67      0.66      0.66     46494\n",
            "\n",
            "\n",
            "\n",
            "Testing Data\n",
            "                         precision    recall  f1-score   support\n",
            "\n",
            "             functional       0.75      0.60      0.67      5094\n",
            "functional needs repair       0.17      0.68      0.28       678\n",
            "         non functional       0.82      0.63      0.71      4268\n",
            "\n",
            "               accuracy                           0.62     10040\n",
            "              macro avg       0.58      0.64      0.55     10040\n",
            "           weighted avg       0.74      0.62      0.66     10040\n",
            "\n"
          ]
        }
      ],
      "source": [
        "# Predicting using the model\n",
        "y_train_hat = logreg_default.predict(X)\n",
        "y_test_hat = logreg_default.predict(X_test)\n",
        "\n",
        "# Printing out the scores\n",
        "print('logreg_default')\n",
        "print('Training Data')\n",
        "print(classification_report(y, y_train_hat))\n",
        "print('\\n')\n",
        "print('Testing Data')\n",
        "print(classification_report(y_test, y_test_hat))"
      ]
    },
    {
      "cell_type": "markdown",
      "metadata": {
        "id": "ONluia5TF9b7"
      },
      "source": [
        "The f1-score for two of the categories actually increased for the testing data, but for the 'functional needs repair' category decreased by a lot. The overall 'accuracy' is only 0.61 which would make it just slightly better than random choice. The default LogisticRegression doesn't seem that promising so I will try changing the regularization parameter."
      ]
    },
    {
      "cell_type": "code",
      "execution_count": null,
      "metadata": {
        "id": "IAp060PgcRGt"
      },
      "outputs": [],
      "source": [
        "find_scores('LogisticRegression Default', y_test, y_test_hat)"
      ]
    },
    {
      "cell_type": "markdown",
      "metadata": {
        "id": "JUk7NPU_28Gp"
      },
      "source": [
        "Next I will be using the GridSearchCV to find the best regularization parameter."
      ]
    },
    {
      "cell_type": "code",
      "execution_count": null,
      "metadata": {
        "colab": {
          "base_uri": "https://localhost:8080/"
        },
        "id": "Q1loJZhXdKKZ",
        "outputId": "707634dc-2020-4de6-8ed4-5238e46aed1e"
      },
      "outputs": [
        {
          "name": "stdout",
          "output_type": "stream",
          "text": [
            "Best Parameters: {'C': 1000000}\n"
          ]
        }
      ],
      "source": [
        "\n",
        "# Set the grid for the GridSearchCV\n",
        "# To save computing time I will comment out the parameters, just write the optimal ones\n",
        "grid = [{'C': [1, 1000000, 1e16]}]\n",
        "\n",
        "\n",
        "## Instantiate GridSearchCV\n",
        "# logreg_gs = GridSearchCV(estimator=logreg_default, \n",
        "#                           param_grid=grid, \n",
        "#                           scoring='accuracy', \n",
        "#                           cv=5)\n",
        "\n",
        "logreg_gs = LogisticRegression(fit_intercept=True, solver='liblinear', C= 1000000)\n",
        "# Fitting The Data\n",
        "logreg_gs.fit(X, y)\n",
        "\n",
        "# Show the best parameters\n",
        "#print(f\"Best Parameters: {logreg_gs.best_params_}\")\n",
        "print(\"Best Parameters: {'C': 1000000}\")"
      ]
    },
    {
      "cell_type": "markdown",
      "metadata": {
        "id": "KQZqIsy26Fla"
      },
      "source": [
        "GridSearchCV showed that the optimal parameter is C = 1000000 which is diffrent from the default of value of 1. Next I will take a look at the Confusion Matrix and the Classification Report to see how the performance change."
      ]
    },
    {
      "cell_type": "code",
      "execution_count": null,
      "metadata": {
        "colab": {
          "base_uri": "https://localhost:8080/",
          "height": 910
        },
        "id": "wEEQMdXJ6aCw",
        "outputId": "63b49352-7620-444c-99f5-59613cafbe72"
      },
      "outputs": [
        {
          "name": "stdout",
          "output_type": "stream",
          "text": [
            "[[0.60345505 0.28975265 0.1067923 ]\n",
            " [0.22713864 0.67846608 0.09439528]\n",
            " [0.20899719 0.16541706 0.62558575]]\n",
            "LogisticRegression GridSearch\n",
            "Training Data\n",
            "                         precision    recall  f1-score   support\n",
            "\n",
            "             functional       0.62      0.61      0.61     15498\n",
            "functional needs repair       0.62      0.72      0.67     15498\n",
            "         non functional       0.76      0.65      0.70     15498\n",
            "\n",
            "               accuracy                           0.66     46494\n",
            "              macro avg       0.67      0.66      0.66     46494\n",
            "           weighted avg       0.67      0.66      0.66     46494\n",
            "\n",
            "\n",
            "\n",
            "Testing Data\n",
            "                         precision    recall  f1-score   support\n",
            "\n",
            "             functional       0.75      0.60      0.67      5094\n",
            "functional needs repair       0.17      0.68      0.28       678\n",
            "         non functional       0.81      0.63      0.71      4268\n",
            "\n",
            "               accuracy                           0.62     10040\n",
            "              macro avg       0.58      0.64      0.55     10040\n",
            "           weighted avg       0.74      0.62      0.66     10040\n",
            "\n"
          ]
        },
        {
          "data": {
            "image/png": "[encoded data removed]",
            "text/plain": [
              "<Figure size 432x288 with 2 Axes>"
            ]
          },
          "metadata": {
            "needs_background": "light",
            "tags": []
          },
          "output_type": "display_data"
        }
      ],
      "source": [
        "disp = plot_confusion_matrix(logreg_gs, X_test, y_test,\n",
        "                             cmap=plt.cm.Blues,\n",
        "                             normalize='true',\n",
        "                             xticks_rotation='vertical')\n",
        "disp.ax_.set_title('Logistic Regression GridSearch Classifier')\n",
        "\n",
        "print(disp.confusion_matrix)\n",
        "\n",
        "# Predicting using the model\n",
        "y_train_hat = logreg_gs.predict(X)\n",
        "y_test_hat = logreg_gs.predict(X_test)\n",
        "\n",
        "# Printing out the scores\n",
        "print('LogisticRegression GridSearch')\n",
        "print('Training Data')\n",
        "print(classification_report(y, y_train_hat))\n",
        "print('\\n')\n",
        "print('Testing Data')\n",
        "print(classification_report(y_test, y_test_hat))\n",
        "\n",
        "\n",
        "# Update the scores dataframe\n",
        "find_scores('LogisticRegression GridSearch', y_test, y_test_hat)"
      ]
    },
    {
      "cell_type": "markdown",
      "metadata": {
        "id": "cqnfvm9f85lG"
      },
      "source": [
        "The gridsearch changed the parameter for c from 1 to 1000000 but the results for the Confusion Matrix and the scoring metrics hardly changed at all. The f1-score for the 'functional needs repair' category again drop by alot for the testing dataset. I will have to compare the score to those of other models, but Logistic Regression doesn't seem to be the answer.\n",
        "\n",
        "The next classifier that I will be using is K-nearest neighbour. A version of which we already used to fill in the missing values in our datasets."
      ]
    },
    {
      "cell_type": "markdown",
      "metadata": {
        "id": "Kboj00YTNyVL"
      },
      "source": [
        "# K-Nearest Neighbors Classifier\n",
        "\n",
        "I will be using GridSearchCV to find the optimal n_neighbors and leaf_size."
      ]
    },
    {
      "cell_type": "code",
      "execution_count": null,
      "metadata": {
        "colab": {
          "base_uri": "https://localhost:8080/"
        },
        "id": "Eb7AXedsN2Pl",
        "outputId": "d5bde2fb-20e5-4340-873c-12e835fa91f7"
      },
      "outputs": [
        {
          "name": "stdout",
          "output_type": "stream",
          "text": [
            "Best Parameters: {'leaf_size': 20, 'n_neighbors': 3}\n"
          ]
        }
      ],
      "source": [
        "#The dataframes we will be using from now on.\n",
        "# processed_df\n",
        "# processed_test_df\n",
        "\n",
        "X = processed_df.drop(columns=['status_group'], axis=1)\n",
        "y = processed_df['status_group']\n",
        "\n",
        "X_test = processed_test_df.drop(columns=['status_group'], axis=1)\n",
        "y_test = processed_test_df['status_group']\n",
        "\n",
        "# Set the grid for the GridSearchCV\n",
        "# grid = [{'leaf_size': [20, 30, 40], \n",
        "#          'n_neighbors': [3, 5, 7]}]\n",
        "\n",
        "\n",
        "## Instantiate KNeighborsClassifier\n",
        "# clf = KNeighborsClassifier()\n",
        "\n",
        "## Instantiate GridSearchCV\n",
        "# KNN_gs = GridSearchCV(estimator=clf, \n",
        "#                           param_grid=grid, \n",
        "#                           scoring='accuracy', \n",
        "#                           cv=5)\n",
        "\n",
        "\n",
        "# To save computational time I will use a use the normal classifier using the parameters found using GridSearchCV\n",
        "KNN_gs = KNeighborsClassifier(leaf_size= 20, n_neighbors= 3)\n",
        "## Fitting The Data\n",
        "KNN_gs.fit(X, y)\n",
        "\n",
        "# Show the best parameters\n",
        "# print(f\"Best Parameters: {KNN_gs.best_params_}\")\n",
        "print(\"Best Parameters: {'leaf_size': 20, 'n_neighbors': 3}\")"
      ]
    },
    {
      "cell_type": "markdown",
      "metadata": {
        "id": "3Zyg-LO4fzRc"
      },
      "source": [
        "GridSearchCV has shown the best parameters are 20 for leaf_size and 3 for n_neighbors. Next I will take a look at the confusion matrix and classification reports to see how the model performs."
      ]
    },
    {
      "cell_type": "code",
      "execution_count": null,
      "metadata": {
        "id": "44bIzJb2W0Sz"
      },
      "outputs": [],
      "source": [
        "# Predicting using the model\n",
        "y_train_hat = KNN_gs.predict(X)\n",
        "y_test_hat = KNN_gs.predict(X_test)\n",
        "\n",
        "\n",
        "\n",
        "# Update the scores dataframe\n",
        "find_scores('K-Nearest Neighbor GS', y_test, y_test_hat)"
      ]
    },
    {
      "cell_type": "code",
      "execution_count": null,
      "metadata": {
        "colab": {
          "base_uri": "https://localhost:8080/",
          "height": 910
        },
        "id": "sxGo4JORV7uH",
        "outputId": "fbd6d7a7-34f3-4113-9567-27f513ae89e4"
      },
      "outputs": [
        {
          "name": "stdout",
          "output_type": "stream",
          "text": [
            "[[0.79308991 0.06988614 0.13702395]\n",
            " [0.51179941 0.35693215 0.13126844]\n",
            " [0.21930647 0.052015   0.72867854]]\n",
            "K-Nearest Neighbors GridSearch Classifier\n",
            "Training Data\n",
            "                         precision    recall  f1-score   support\n",
            "\n",
            "             functional       0.82      0.87      0.84     15498\n",
            "functional needs repair       0.91      0.92      0.92     15498\n",
            "         non functional       0.89      0.82      0.85     15498\n",
            "\n",
            "               accuracy                           0.87     46494\n",
            "              macro avg       0.87      0.87      0.87     46494\n",
            "           weighted avg       0.87      0.87      0.87     46494\n",
            "\n",
            "\n",
            "\n",
            "Testing Data\n",
            "                         precision    recall  f1-score   support\n",
            "\n",
            "             functional       0.76      0.79      0.78      5094\n",
            "functional needs repair       0.30      0.36      0.32       678\n",
            "         non functional       0.80      0.73      0.76      4268\n",
            "\n",
            "               accuracy                           0.74     10040\n",
            "              macro avg       0.62      0.63      0.62     10040\n",
            "           weighted avg       0.74      0.74      0.74     10040\n",
            "\n"
          ]
        },
        {
          "data": {
            "image/png": "[encoded data removed]",
            "text/plain": [
              "<Figure size 432x288 with 2 Axes>"
            ]
          },
          "metadata": {
            "needs_background": "light",
            "tags": []
          },
          "output_type": "display_data"
        }
      ],
      "source": [
        "disp = plot_confusion_matrix(KNN_gs, X_test, y_test,\n",
        "                             cmap=plt.cm.Blues,\n",
        "                             normalize='true',\n",
        "                             xticks_rotation='vertical')\n",
        "disp.ax_.set_title('K-Nearest Neighbors GridSearch Classifier')\n",
        "\n",
        "print(disp.confusion_matrix)\n",
        "\n",
        "\n",
        "# Printing out the scores\n",
        "print('K-Nearest Neighbors GridSearch Classifier')\n",
        "print('Training Data')\n",
        "print(classification_report(y, y_train_hat))\n",
        "print('\\n')\n",
        "print('Testing Data')\n",
        "print(classification_report(y_test, y_test_hat))\n"
      ]
    },
    {
      "cell_type": "markdown",
      "metadata": {
        "id": "uqGQ0H0xUoZ-"
      },
      "source": [
        "The K-Nearest Neighbors performs better than Logistic Regression for all three categories. The performance metrics for the test data is  worse than it is for the training data, especially for the 'functional needs repair' category. This perhaps hints at overfitting. If the f-1 score for the 'functional needs repairs' category is low for all models, I would need to pay more attention to the recall score of this category which I believe is a little more imporant than the precision score is for our purpose. This model seems to be extremely flaw and not ideal."
      ]
    },
    {
      "cell_type": "markdown",
      "metadata": {
        "id": "IgCYFESm8WIg"
      },
      "source": [
        "# Decision Tree Classifier\n",
        "The next model we will be taking a look is a single Decision Tree Classifier. I will be performing a grid search for criterion, max_depth, min_samples_split and also min_samples_leaf."
      ]
    },
    {
      "cell_type": "code",
      "execution_count": null,
      "metadata": {
        "colab": {
          "base_uri": "https://localhost:8080/"
        },
        "id": "Q2I9ztdjbyBT",
        "outputId": "84d41531-b9c4-40d7-a914-8a9c55faa5e1"
      },
      "outputs": [
        {
          "name": "stdout",
          "output_type": "stream",
          "text": [
            "Best Parameters: {'criterion': 'gini', 'max_depth': None, 'min_samples_leaf': 3, 'min_samples_split': 5}\n"
          ]
        }
      ],
      "source": [
        "X = processed_df.drop(columns=['status_group'], axis=1)\n",
        "y = processed_df['status_group']\n",
        "\n",
        "X_test = processed_test_df.drop(columns=['status_group'], axis=1)\n",
        "y_test = processed_test_df['status_group']\n",
        "\n",
        "# Set the grid for the GridSearchCV\n",
        "dt_param_grid = {\n",
        "    'criterion': ['gini', 'entropy'],\n",
        "    'max_depth': [None, 2, 6, 10],\n",
        "    'min_samples_split': [5, 10],\n",
        "    'min_samples_leaf': [3, 6]\n",
        "}\n",
        "\n",
        "\n",
        "# Instantiate DecisionTreeClassifier\n",
        "# dt_clf = tree.DecisionTreeClassifier(random_state=21)  \n",
        "\n",
        "# Instantiate GridSearchCV\n",
        "# dt_clf_gs = GridSearchCV(estimator=dt_clf, \n",
        "#                           param_grid=dt_param_grid, \n",
        "#                           scoring='accuracy', \n",
        "#                           cv=5)\n",
        "\n",
        "# To save computational time I will use a use the normal classifier using the parameters found using GridSearchCV\n",
        "dt_clf_gs = tree.DecisionTreeClassifier(criterion='gini', max_depth=None, min_samples_leaf=3, min_samples_split=5)\n",
        "\n",
        "# Fitting The Data\n",
        "dt_clf_gs.fit(X, y)\n",
        "\n",
        "# Show the best parameters\n",
        "# print(f\"Best Parameters: {dt_clf_gs.best_params_}\")\n",
        "print(\"Best Parameters: {'criterion': 'gini', 'max_depth': None, 'min_samples_leaf': 3, 'min_samples_split': 5}\")"
      ]
    },
    {
      "cell_type": "code",
      "execution_count": null,
      "metadata": {
        "colab": {
          "base_uri": "https://localhost:8080/",
          "height": 910
        },
        "id": "9gd3h4hX82-d",
        "outputId": "a8b5bb9f-e8ec-41ed-ae18-b8152e8831ff"
      },
      "outputs": [
        {
          "name": "stdout",
          "output_type": "stream",
          "text": [
            "[[0.83725952 0.03180212 0.13093836]\n",
            " [0.51179941 0.32300885 0.16519174]\n",
            " [0.23922212 0.0269447  0.73383318]]\n",
            "Decision Tree GridSearch Classifier\n",
            "Training Data\n",
            "                         precision    recall  f1-score   support\n",
            "\n",
            "             functional       0.83      0.92      0.87     15498\n",
            "functional needs repair       0.95      0.91      0.93     15498\n",
            "         non functional       0.90      0.85      0.88     15498\n",
            "\n",
            "               accuracy                           0.89     46494\n",
            "              macro avg       0.90      0.89      0.89     46494\n",
            "           weighted avg       0.90      0.89      0.89     46494\n",
            "\n",
            "\n",
            "\n",
            "Testing Data\n",
            "                         precision    recall  f1-score   support\n",
            "\n",
            "             functional       0.76      0.84      0.80      5094\n",
            "functional needs repair       0.44      0.32      0.37       678\n",
            "         non functional       0.80      0.73      0.77      4268\n",
            "\n",
            "               accuracy                           0.76     10040\n",
            "              macro avg       0.67      0.63      0.64     10040\n",
            "           weighted avg       0.75      0.76      0.75     10040\n",
            "\n"
          ]
        },
        {
          "data": {
            "image/png": "[encoded data removed]",
            "text/plain": [
              "<Figure size 432x288 with 2 Axes>"
            ]
          },
          "metadata": {
            "needs_background": "light",
            "tags": []
          },
          "output_type": "display_data"
        }
      ],
      "source": [
        "disp = plot_confusion_matrix(dt_clf_gs, X_test, y_test,\n",
        "                             cmap=plt.cm.Blues,\n",
        "                             normalize='true',\n",
        "                             xticks_rotation='vertical')\n",
        "disp.ax_.set_title('Decision Tree GridSearch Classifier')\n",
        "\n",
        "print(disp.confusion_matrix)\n",
        "\n",
        "# Predicting using the model\n",
        "y_train_hat = dt_clf_gs.predict(X)\n",
        "y_test_hat = dt_clf_gs.predict(X_test)\n",
        "\n",
        "# Printing out the scores\n",
        "print('Decision Tree GridSearch Classifier')\n",
        "print('Training Data')\n",
        "print(classification_report(y, y_train_hat))\n",
        "print('\\n')\n",
        "print('Testing Data')\n",
        "print(classification_report(y_test, y_test_hat))\n",
        "\n",
        "\n",
        "# Update the scores dataframe\n",
        "find_scores('Decision Tree Classifier GS', y_test, y_test_hat)"
      ]
    },
    {
      "cell_type": "markdown",
      "metadata": {
        "id": "PV264Sa8gsro"
      },
      "source": [
        "Once again the model does a poor job of predicting the 'functional needs repair' category. The accuracy for the test data set is only 0.73 compared to 0.86 of the training data set showing there might be overfitting. The f1-score is also much worse in the test data set for all categories, especially for 'functional needs repair' category. The scores are nearly identical with those of K-nearest Neighbours. The recall score which I believe to be more important for our purpose in identifying water points that need repairs is larger in this the model than in the previous ones.\n"
      ]
    },
    {
      "cell_type": "markdown",
      "metadata": {
        "id": "T_Z7JngEgtZI"
      },
      "source": [
        "# Random Forest Classifier\n",
        "The next model we will testing is Random Forest, an ensemble method classifier. I am hoping that esemble methods perform better than the previous models.\n",
        "\n",
        "Again I will use GridSearchCV to search for the best parameters. This time I will take a look at five diffrent parameters in the GridSearchCV."
      ]
    },
    {
      "cell_type": "code",
      "execution_count": null,
      "metadata": {
        "colab": {
          "base_uri": "https://localhost:8080/"
        },
        "id": "m396B0H3gvvn",
        "outputId": "7999ace0-35b3-4947-dbcc-569f4b70711f"
      },
      "outputs": [
        {
          "name": "stdout",
          "output_type": "stream",
          "text": [
            "Best Parameters: {'criterion': 'entropy', 'max_depth': None, 'min_samples_leaf': 1, 'min_samples_split': 10, 'n_estimators': 100}\n"
          ]
        }
      ],
      "source": [
        "X = processed_df.drop(columns=['status_group'], axis=1)\n",
        "y = processed_df['status_group']\n",
        "\n",
        "X_test = processed_test_df.drop(columns=['status_group'], axis=1)\n",
        "y_test = processed_test_df['status_group']\n",
        "\n",
        "# Set the grid for the GridSearchCV\n",
        "rf_param_grid = {\n",
        "    'n_estimators': [30, 100],\n",
        "    'criterion': ['gini', 'entropy'],\n",
        "    'max_depth': [6, None],\n",
        "    'min_samples_split': [2, 5, 10],\n",
        "    'min_samples_leaf': [1, 3, 6]\n",
        "}\n",
        "\n",
        "\n",
        "# Instantiate RandomForestClassifier\n",
        "# rf_clf = RandomForestClassifier(random_state=21)  \n",
        "\n",
        "# Instantiate GridSearchCV\n",
        "# rf_clf_gs = GridSearchCV(estimator=rf_clf, \n",
        "#                           param_grid=rf_param_grid, \n",
        "#                           scoring='accuracy', \n",
        "#                           cv=5)\n",
        "\n",
        "# To save computational time I will use a use the normal classifier using the parameters found using GridSearchCV\n",
        "rf_clf_gs = RandomForestClassifier(criterion='entropy', max_depth=None, min_samples_leaf=1, min_samples_split=10, n_estimators=100)\n",
        "\n",
        "# Fitting The Data\n",
        "rf_clf_gs.fit(X, y)\n",
        "\n",
        "# Show the best parameters\n",
        "# print(f\"Best Parameters: {rf_clf_gs.best_params_}\")\n",
        "print(\"Best Parameters: {'criterion': 'entropy', 'max_depth': None, 'min_samples_leaf': 1, 'min_samples_split': 10, 'n_estimators': 100}\")"
      ]
    },
    {
      "cell_type": "code",
      "execution_count": null,
      "metadata": {
        "colab": {
          "base_uri": "https://localhost:8080/",
          "height": 910
        },
        "id": "Aow5c69nhQUA",
        "outputId": "4fee110e-e782-4acd-9a4c-b6e49bf68b5d"
      },
      "outputs": [
        {
          "name": "stdout",
          "output_type": "stream",
          "text": [
            "[[0.86415391 0.02277189 0.1130742 ]\n",
            " [0.5339233  0.30235988 0.16371681]\n",
            " [0.21836926 0.01569822 0.76593252]]\n",
            "Random Forest GridSearch Classifier\n",
            "Training Data\n",
            "                         precision    recall  f1-score   support\n",
            "\n",
            "             functional       0.84      0.93      0.88     15498\n",
            "functional needs repair       0.97      0.92      0.94     15498\n",
            "         non functional       0.92      0.86      0.89     15498\n",
            "\n",
            "               accuracy                           0.90     46494\n",
            "              macro avg       0.91      0.90      0.90     46494\n",
            "           weighted avg       0.91      0.90      0.90     46494\n",
            "\n",
            "\n",
            "\n",
            "Testing Data\n",
            "                         precision    recall  f1-score   support\n",
            "\n",
            "             functional       0.77      0.86      0.82      5094\n",
            "functional needs repair       0.53      0.30      0.38       678\n",
            "         non functional       0.83      0.77      0.79      4268\n",
            "\n",
            "               accuracy                           0.78     10040\n",
            "              macro avg       0.71      0.64      0.67     10040\n",
            "           weighted avg       0.78      0.78      0.78     10040\n",
            "\n"
          ]
        },
        {
          "data": {
            "image/png": "[encoded data removed]",
            "text/plain": [
              "<Figure size 432x288 with 2 Axes>"
            ]
          },
          "metadata": {
            "needs_background": "light",
            "tags": []
          },
          "output_type": "display_data"
        }
      ],
      "source": [
        "disp = plot_confusion_matrix(rf_clf_gs, X_test, y_test,\n",
        "                             cmap=plt.cm.Blues,\n",
        "                             normalize='true',\n",
        "                             xticks_rotation='vertical')\n",
        "disp.ax_.set_title('Random Forest GridSearch Classifier')\n",
        "\n",
        "print(disp.confusion_matrix)\n",
        "\n",
        "# Predicting using the model\n",
        "y_train_hat = rf_clf_gs.predict(X)\n",
        "y_test_hat = rf_clf_gs.predict(X_test)\n",
        "\n",
        "# Printing out the scores\n",
        "print('Random Forest GridSearch Classifier')\n",
        "print('Training Data')\n",
        "print(classification_report(y, y_train_hat))\n",
        "print('\\n')\n",
        "print('Testing Data')\n",
        "print(classification_report(y_test, y_test_hat))\n",
        "\n",
        "\n",
        "# Update the scores dataframe\n",
        "find_scores('Random Forest Classifier GS', y_test, y_test_hat)"
      ]
    },
    {
      "cell_type": "markdown",
      "metadata": {
        "id": "fcDabj9FCnv5"
      },
      "source": [
        "The Random Forest Classifier did a slightly better job identifying funtional and non functional categories than the other classifiers but still struggle with identifying functional needs repair category.\n",
        "\n",
        "The f-1 scores for the test dataset is lower than the training dataset but still  decent, expect for the functional needs repair category. The accuracy also decrease by quiet a lot when comparing between the training and testing datasets but is not that bad at 0.75."
      ]
    },
    {
      "cell_type": "markdown",
      "metadata": {
        "id": "EmrSEwoPdeg3"
      },
      "source": [
        "# XGBoost (eXtreme Gradient Boosting)"
      ]
    },
    {
      "cell_type": "markdown",
      "metadata": {
        "id": "f20c675GJWM-"
      },
      "source": [
        "The next classifier I will take a look at is XGBoost and I will be searching out the best values for 5 diffrent parameters."
      ]
    },
    {
      "cell_type": "code",
      "execution_count": null,
      "metadata": {
        "colab": {
          "base_uri": "https://localhost:8080/"
        },
        "id": "lcNIEAPYpWlA",
        "outputId": "0d71e9d6-bc41-4e2f-bbe8-bab7d00e2be4"
      },
      "outputs": [
        {
          "name": "stdout",
          "output_type": "stream",
          "text": [
            "Best Parameters: {'learning_rate': 0.3, 'max_depth': 6, 'min_child_weight': 1, 'n_estimators': 250, 'subsample': 0.7}\n"
          ]
        }
      ],
      "source": [
        "X = processed_df.drop(columns=['status_group'], axis=1)\n",
        "y = processed_df['status_group']\n",
        "\n",
        "X_test = processed_test_df.drop(columns=['status_group'], axis=1)\n",
        "y_test = processed_test_df['status_group']\n",
        "\n",
        "# Set the grid for the GridSearchCV\n",
        "xgb_param_grid = {\n",
        "    \"learning_rate\": [0.1, 0.3],\n",
        "    'max_depth': [6],\n",
        "    'min_child_weight': [1, 10],\n",
        "    'subsample': [ 0.7, 1],\n",
        "    'n_estimators': [30, 100, 250],\n",
        "}\n",
        "\n",
        "# Instantiate XGBoost\n",
        "# xgb_clf = xgb.XGBClassifier()\n",
        "# Instantiate GridSearchCV\n",
        "# xgb_clf_gs = GridSearchCV(xgb_clf, xgb_param_grid, scoring='accuracy', cv=None, n_jobs=1)\n",
        "\n",
        "\n",
        "# To save computational time I will use a use the normal classifier using the parameters found using GridSearchCV\n",
        "xgb_clf_gs = xgb.XGBClassifier(learning_rate=0.3, max_depth=6, min_child_weight=1, n_estimators=250, subsample=0.7)\n",
        "\n",
        "# # Fitting The Data\n",
        "xgb_clf_gs.fit(X, y)\n",
        "\n",
        "# Show the best parameters\n",
        "# print(f\"Best Parameters: {xgb_clf_gs.best_params_}\")\n",
        "print(\"Best Parameters: {'learning_rate': 0.3, 'max_depth': 6, 'min_child_weight': 1, 'n_estimators': 250, 'subsample': 0.7}\")"
      ]
    },
    {
      "cell_type": "markdown",
      "metadata": {
        "id": "_HP37up4a-9u"
      },
      "source": [
        "Using GridSearchCV, I managed to find the best parameters out of the ones that I passed into it. The best values for 'learning_rate', 'max_depth' and 'min_child_weight' are all found to be the default values. 'n_estimators' is found to be 250 and 'subsample' as 0.7.\n",
        "\n",
        "Now I will take a look at the confusion matrix and the classification report to see how the model performs."
      ]
    },
    {
      "cell_type": "code",
      "execution_count": null,
      "metadata": {
        "colab": {
          "base_uri": "https://localhost:8080/",
          "height": 910
        },
        "id": "2Qr-ctDPGA6F",
        "outputId": "95159567-4706-4491-891d-25fe9cd15a26"
      },
      "outputs": [
        {
          "name": "stdout",
          "output_type": "stream",
          "text": [
            "[[0.87063212 0.02453867 0.10482921]\n",
            " [0.54572271 0.30088496 0.15339233]\n",
            " [0.22235239 0.01663543 0.76101218]]\n",
            "XGBoost GridSearch Classifier\n",
            "Training Data\n",
            "                         precision    recall  f1-score   support\n",
            "\n",
            "             functional       0.83      0.92      0.87     15498\n",
            "functional needs repair       0.97      0.92      0.95     15498\n",
            "         non functional       0.91      0.86      0.88     15498\n",
            "\n",
            "               accuracy                           0.90     46494\n",
            "              macro avg       0.91      0.90      0.90     46494\n",
            "           weighted avg       0.91      0.90      0.90     46494\n",
            "\n",
            "\n",
            "\n",
            "Testing Data\n",
            "                         precision    recall  f1-score   support\n",
            "\n",
            "             functional       0.77      0.87      0.82      5094\n",
            "functional needs repair       0.51      0.30      0.38       678\n",
            "         non functional       0.84      0.76      0.80      4268\n",
            "\n",
            "               accuracy                           0.79     10040\n",
            "              macro avg       0.71      0.64      0.66     10040\n",
            "           weighted avg       0.78      0.79      0.78     10040\n",
            "\n"
          ]
        },
        {
          "data": {
            "image/png": "[encoded data removed]",
            "text/plain": [
              "<Figure size 432x288 with 2 Axes>"
            ]
          },
          "metadata": {
            "needs_background": "light",
            "tags": []
          },
          "output_type": "display_data"
        }
      ],
      "source": [
        "disp = plot_confusion_matrix(xgb_clf_gs, X_test, y_test,\n",
        "                             cmap=plt.cm.Blues,\n",
        "                             normalize='true',\n",
        "                             xticks_rotation='vertical')\n",
        "disp.ax_.set_title('XGBoost GridSearch Classifier')\n",
        "\n",
        "print(disp.confusion_matrix)\n",
        "\n",
        "# Predicting using the model\n",
        "y_train_hat = xgb_clf_gs.predict(X)\n",
        "y_test_hat = xgb_clf_gs.predict(X_test)\n",
        "\n",
        "# Printing out the scores\n",
        "print('XGBoost GridSearch Classifier')\n",
        "print('Training Data')\n",
        "print(classification_report(y, y_train_hat))\n",
        "print('\\n')\n",
        "print('Testing Data')\n",
        "print(classification_report(y_test, y_test_hat))\n",
        "\n",
        "\n",
        "# Update the scores dataframe\n",
        "find_scores('XGBoost Classifier GS', y_test, y_test_hat)"
      ]
    },
    {
      "cell_type": "markdown",
      "metadata": {
        "id": "xB53msIP6pO6"
      },
      "source": [
        "The confusion matrix for XGBoost seems similar to RandomForest Classifier. The accuracy and weighted f1-score is nearly identical to those of RandomForest Classifier also."
      ]
    },
    {
      "cell_type": "markdown",
      "metadata": {
        "id": "scfbleHFobB9"
      },
      "source": [
        "# SVM (Support Vector Machines)\n",
        "\n",
        "The next classifier is SVM and I will taking a look at C and gamma parameters."
      ]
    },
    {
      "cell_type": "code",
      "execution_count": null,
      "metadata": {
        "colab": {
          "base_uri": "https://localhost:8080/"
        },
        "id": "CpgIB-cKGBFq",
        "outputId": "f87e759d-17ea-486c-b087-f24b7cb51a07"
      },
      "outputs": [
        {
          "name": "stdout",
          "output_type": "stream",
          "text": [
            "Best Parameters: {'C': 10, 'gamma': 0.01}\n"
          ]
        }
      ],
      "source": [
        "X = processed_df.drop(columns=['status_group'], axis=1)\n",
        "y = processed_df['status_group']\n",
        "\n",
        "# Set the grid for the GridSearchCV\n",
        "svm_param_grid = {'C': [0.01, 0.1, 1, 10],\n",
        "              'gamma' : [0.01, 1, 'scale']}\n",
        "\n",
        "# Instantiate SVM\n",
        "# svm_clf = svm.SVC(kernel='rbf')   \n",
        "\n",
        "# Instantiate GridSearchCV\n",
        "# svm_gs = GridSearchCV(svm_clf, svm_param_grid, scoring='accuracy', cv=3)\n",
        "\n",
        "# To save computational time I will use a use the normal classifier using the parameters found using GridSearchCV\n",
        "svm_gs = svm.SVC(kernel='rbf', C=10, gamma=0.01)   \n",
        "# Fitting The Data\n",
        "svm_gs.fit(X, y)\n",
        "\n",
        "# Show the best parameters\n",
        "# print(f\"Best Parameters: {svm_gs.best_params_}\")\n",
        "print(\"Best Parameters: {'C': 10, 'gamma': 0.01}\")"
      ]
    },
    {
      "cell_type": "code",
      "execution_count": null,
      "metadata": {
        "colab": {
          "base_uri": "https://localhost:8080/",
          "height": 910
        },
        "id": "WZxgXrXwKSOl",
        "outputId": "533fcb15-dc51-42ac-ec34-7d00f7102618"
      },
      "outputs": [
        {
          "name": "stdout",
          "output_type": "stream",
          "text": [
            "[[0.8619945  0.035532   0.1024735 ]\n",
            " [0.54572271 0.33923304 0.11504425]\n",
            " [0.28467666 0.02905342 0.68626992]]\n",
            "SVM GridSearch Classifier\n",
            "Training Data\n",
            "                         precision    recall  f1-score   support\n",
            "\n",
            "             functional       0.72      0.87      0.79     15498\n",
            "functional needs repair       0.89      0.82      0.86     15498\n",
            "         non functional       0.82      0.70      0.76     15498\n",
            "\n",
            "               accuracy                           0.80     46494\n",
            "              macro avg       0.81      0.80      0.80     46494\n",
            "           weighted avg       0.81      0.80      0.80     46494\n",
            "\n",
            "\n",
            "\n",
            "Testing Data\n",
            "                         precision    recall  f1-score   support\n",
            "\n",
            "             functional       0.73      0.86      0.79      5094\n",
            "functional needs repair       0.43      0.34      0.38       678\n",
            "         non functional       0.83      0.69      0.75      4268\n",
            "\n",
            "               accuracy                           0.75     10040\n",
            "              macro avg       0.66      0.63      0.64     10040\n",
            "           weighted avg       0.75      0.75      0.75     10040\n",
            "\n"
          ]
        },
        {
          "data": {
            "image/png": "[encoded data removed]",
            "text/plain": [
              "<Figure size 432x288 with 2 Axes>"
            ]
          },
          "metadata": {
            "needs_background": "light",
            "tags": []
          },
          "output_type": "display_data"
        }
      ],
      "source": [
        "disp = plot_confusion_matrix(svm_gs, X_test, y_test,\n",
        "                             cmap=plt.cm.Blues,\n",
        "                             normalize='true',\n",
        "                             xticks_rotation='vertical')\n",
        "disp.ax_.set_title('SVM GridSearch Classifier')\n",
        "\n",
        "print(disp.confusion_matrix)\n",
        "\n",
        "# Predicting using the model\n",
        "y_train_hat = svm_gs.predict(X)\n",
        "y_test_hat = svm_gs.predict(X_test)\n",
        "\n",
        "# Printing out the scores\n",
        "print('SVM GridSearch Classifier')\n",
        "print('Training Data')\n",
        "print(classification_report(y, y_train_hat))\n",
        "print('\\n')\n",
        "print('Testing Data')\n",
        "print(classification_report(y_test, y_test_hat))\n",
        "\n",
        "\n",
        "# Update the scores dataframe\n",
        "find_scores('SVM Classifier GS', y_test, y_test_hat)"
      ]
    },
    {
      "cell_type": "markdown",
      "metadata": {
        "id": "LawMEe1L-ioG"
      },
      "source": [
        "The scores are worse than XGBoost and RandomForest."
      ]
    },
    {
      "cell_type": "markdown",
      "metadata": {
        "id": "Z9ryk51Pdc_I"
      },
      "source": [
        "# Selecting Model\n",
        "\n",
        "Now I will compare all the scores for all the models that I built so far. I will be mainly taking a look at F1-score and Accuracy."
      ]
    },
    {
      "cell_type": "code",
      "execution_count": null,
      "metadata": {
        "colab": {
          "base_uri": "https://localhost:8080/",
          "height": 258
        },
        "id": "_N-IcM8YN6tq",
        "outputId": "3bf1140d-087b-4ae2-b4b1-c9f5dbb97fdb"
      },
      "outputs": [
        {
          "data": {
            "text/html": [
              "<div>\n",
              "<style scoped>\n",
              "    .dataframe tbody tr th:only-of-type {\n",
              "        vertical-align: middle;\n",
              "    }\n",
              "\n",
              "    .dataframe tbody tr th {\n",
              "        vertical-align: top;\n",
              "    }\n",
              "\n",
              "    .dataframe thead th {\n",
              "        text-align: right;\n",
              "    }\n",
              "</style>\n",
              "<table border=\"1\" class=\"dataframe\">\n",
              "  <thead>\n",
              "    <tr style=\"text-align: right;\">\n",
              "      <th></th>\n",
              "      <th>Model</th>\n",
              "      <th>Precision</th>\n",
              "      <th>Recall</th>\n",
              "      <th>Accuracy</th>\n",
              "      <th>F1</th>\n",
              "    </tr>\n",
              "  </thead>\n",
              "  <tbody>\n",
              "    <tr>\n",
              "      <th>5</th>\n",
              "      <td>XGBoost Classifier GS</td>\n",
              "      <td>0.780812</td>\n",
              "      <td>0.785558</td>\n",
              "      <td>0.785558</td>\n",
              "      <td>0.779078</td>\n",
              "    </tr>\n",
              "    <tr>\n",
              "      <th>4</th>\n",
              "      <td>Random Forest Classifier GS</td>\n",
              "      <td>0.779064</td>\n",
              "      <td>0.784462</td>\n",
              "      <td>0.784462</td>\n",
              "      <td>0.777907</td>\n",
              "    </tr>\n",
              "    <tr>\n",
              "      <th>3</th>\n",
              "      <td>Decision Tree Classifier GS</td>\n",
              "      <td>0.754397</td>\n",
              "      <td>0.758566</td>\n",
              "      <td>0.758566</td>\n",
              "      <td>0.754218</td>\n",
              "    </tr>\n",
              "    <tr>\n",
              "      <th>6</th>\n",
              "      <td>SVM Classifier GS</td>\n",
              "      <td>0.754658</td>\n",
              "      <td>0.751992</td>\n",
              "      <td>0.751992</td>\n",
              "      <td>0.747497</td>\n",
              "    </tr>\n",
              "    <tr>\n",
              "      <th>2</th>\n",
              "      <td>K-Nearest Neighbor GS</td>\n",
              "      <td>0.744259</td>\n",
              "      <td>0.736255</td>\n",
              "      <td>0.736255</td>\n",
              "      <td>0.739199</td>\n",
              "    </tr>\n",
              "    <tr>\n",
              "      <th>1</th>\n",
              "      <td>LogisticRegression GridSearch</td>\n",
              "      <td>0.736568</td>\n",
              "      <td>0.617928</td>\n",
              "      <td>0.617928</td>\n",
              "      <td>0.658080</td>\n",
              "    </tr>\n",
              "    <tr>\n",
              "      <th>0</th>\n",
              "      <td>LogisticRegression Default</td>\n",
              "      <td>0.736669</td>\n",
              "      <td>0.617629</td>\n",
              "      <td>0.617629</td>\n",
              "      <td>0.657915</td>\n",
              "    </tr>\n",
              "  </tbody>\n",
              "</table>\n",
              "</div>"
            ],
            "text/plain": [
              "                           Model  Precision    Recall  Accuracy        F1\n",
              "5          XGBoost Classifier GS   0.780812  0.785558  0.785558  0.779078\n",
              "4    Random Forest Classifier GS   0.779064  0.784462  0.784462  0.777907\n",
              "3    Decision Tree Classifier GS   0.754397  0.758566  0.758566  0.754218\n",
              "6              SVM Classifier GS   0.754658  0.751992  0.751992  0.747497\n",
              "2          K-Nearest Neighbor GS   0.744259  0.736255  0.736255  0.739199\n",
              "1  LogisticRegression GridSearch   0.736568  0.617928  0.617928  0.658080\n",
              "0     LogisticRegression Default   0.736669  0.617629  0.617629  0.657915"
            ]
          },
          "execution_count": 833,
          "metadata": {
            "tags": []
          },
          "output_type": "execute_result"
        }
      ],
      "source": [
        "scores_df.sort_values('F1', ascending=False)"
      ]
    },
    {
      "cell_type": "code",
      "execution_count": null,
      "metadata": {
        "colab": {
          "base_uri": "https://localhost:8080/",
          "height": 639
        },
        "id": "6Ox1XoHlN7qT",
        "outputId": "d0914359-5ea1-4017-9093-c6c291e829a1"
      },
      "outputs": [
        {
          "data": {
            "text/plain": [
              "Text(0.5, 1.0, 'Classifier Scores')"
            ]
          },
          "execution_count": 834,
          "metadata": {
            "tags": []
          },
          "output_type": "execute_result"
        },
        {
          "data": {
            "image/png": "[encoded data removed]",
            "text/plain": [
              "<Figure size 1152x720 with 1 Axes>"
            ]
          },
          "metadata": {
            "needs_background": "light",
            "tags": []
          },
          "output_type": "display_data"
        }
      ],
      "source": [
        "scores_df.plot(x='Model', kind='barh', figsize=(16,10), grid=True)\n",
        "plt.legend(loc='center left', bbox_to_anchor=(1.0, 0.5))\n",
        "plt.xlabel('Models')\n",
        "plt.ylabel('Scores')\n",
        "plt.title('Classifier Scores',fontweight=\"bold\")"
      ]
    },
    {
      "cell_type": "markdown",
      "metadata": {
        "id": "HQmXVymbT1I8"
      },
      "source": [
        "## RandomForest vs XGBoost vs LogisticRegression\n",
        "\n",
        "XGBoost and Random Forest classifiers seems to perform the best with XGBoost having a slight edge.\n",
        "\n",
        "Another classifier that I believe should be considered is LogisticRegression. Which despite having a worse F1 and Accuracy scores than several other models, have the highest recall score for the 'functional needs repair' category. This is a category that all of our models struggle identifying.\n",
        "\n",
        "\n",
        "\n",
        "#### RandomForest\n",
        "\n",
        "                          \n",
        "                                  precision    recall  f1-score   \n",
        "\n",
        "                     functional       0.80      0.77      0.78      \n",
        "        functional needs repair       0.30      0.31      0.39     \n",
        "                 non functional       0.82      0.75      0.78      \n",
        "\n",
        "#### XGBoost\n",
        "\n",
        "                          \n",
        "                                  precision    recall  f1-score   \n",
        "\n",
        "                     functional       0.79      0.77      0.78      \n",
        "        functional needs repair       0.30      0.30      0.38     \n",
        "                 non functional       0.82      0.75      0.78      \n",
        "\n",
        "\n",
        "#### LogisticRegression\n",
        "\n",
        "                                  precision    recall  f1-score   \n",
        "\n",
        "                    functional       0.75      0.60      0.67      \n",
        "        functional needs repair      0.17      0.68      0.28       \n",
        "                 non functional      0.81      0.63      0.71      \n",
        "\n",
        "For the purpose of this project it is important to identify the 'non functional' and 'functional needs repair' categories so that the Tanzania goverment can repair them. High recall would give us the abilty to find more of the waterpoints that need repairs but at the same time also increase the false positive. Which would mean the model would identify functional water points as needing repair, which is also undesirable since it would waste manpower and budget.\n",
        "\n",
        "Therefore I believe a balance between Precision and Recall (ie. the F1 score) and Accuracy score is more important than just the Recall scores. Therefore I decided choose RandomForest Classifier.\n",
        "\n",
        "\n",
        "Next I will take a look at the most important features for our model.\n",
        "\n",
        "# Important Features"
      ]
    },
    {
      "cell_type": "code",
      "execution_count": null,
      "metadata": {
        "colab": {
          "base_uri": "https://localhost:8080/"
        },
        "id": "3OQVOXI3T5r8",
        "outputId": "fe065392-950a-4e78-d4e2-6ad01af8001c"
      },
      "outputs": [
        {
          "data": {
            "text/plain": [
              "quantity_dry                        0.079813\n",
              "gps_height                          0.060362\n",
              "extraction_type_group_gravity       0.040597\n",
              "quantity_enough                     0.039536\n",
              "permit_True                         0.034760\n",
              "                                      ...   \n",
              "district_code_0                     0.000112\n",
              "water_quality_fluoride abandoned    0.000072\n",
              "district_code_62                    0.000052\n",
              "district_code_80                    0.000049\n",
              "district_code_67                    0.000002\n",
              "Length: 122, dtype: float64"
            ]
          },
          "execution_count": 835,
          "metadata": {
            "tags": []
          },
          "output_type": "execute_result"
        }
      ],
      "source": [
        "# Create a list of features sorted by importantce\n",
        "features_rank = pd.Series(rf_clf_gs.feature_importances_,index=X.columns).sort_values(ascending=False)\n",
        "features_rank"
      ]
    },
    {
      "cell_type": "code",
      "execution_count": null,
      "metadata": {
        "colab": {
          "base_uri": "https://localhost:8080/",
          "height": 730
        },
        "id": "BVtzKYj7aPDZ",
        "outputId": "08bac4c5-2418-40d0-b608-0b7e9fa9ad26"
      },
      "outputs": [
        {
          "data": {
            "image/png": "[encoded data removed]",
            "text/plain": [
              "<Figure size 864x864 with 1 Axes>"
            ]
          },
          "metadata": {
            "needs_background": "light",
            "tags": []
          },
          "output_type": "display_data"
        }
      ],
      "source": [
        "# Creating a bar plot with the top 20 features\n",
        "plt.figure(figsize=(12,12))\n",
        "sns.barplot(x=features_rank[0:20], y=features_rank[0:20].index)\n",
        "plt.xlabel('Score')\n",
        "plt.ylabel('Features')\n",
        "plt.title(\"Top 20 Most Important Features\")\n",
        "plt.show()"
      ]
    },
    {
      "cell_type": "markdown",
      "metadata": {
        "id": "SNoZ4xgictlK"
      },
      "source": [
        "Looking at the top 20 most important features a lot of them seems to be intuitively correct. \n",
        "\n",
        "The gps_height column show the altitude of the waterpoint and is considered to be the second most important features for our classifier.\n",
        "\n",
        "The quantity_dry, quantity_insufficient, and quantity_enough features are dummy variables are obvious why they are important. A dry well or one without insufficient water would obviously be classifed as non functional.\n",
        "\n",
        "Several waterpoint types  and some extraction types also seems to be important in determining the condition. Perhaps the types that falls under some of these categories are not durable and should be avoided in the future.\n",
        "\n",
        "A few District and regions are also included in the top twenty features. This warrants a closer inspection to see which districts have more nonfunctional water points and the reason why this might be.\n"
      ]
    },
    {
      "cell_type": "markdown",
      "metadata": {
        "id": "4lfM3DA2YuQo"
      },
      "source": [
        "# Prediction\n",
        "Now that we have our model, I will use it to predict the test dataset without labels given to us."
      ]
    },
    {
      "cell_type": "code",
      "execution_count": null,
      "metadata": {
        "colab": {
          "base_uri": "https://localhost:8080/",
          "height": 425
        },
        "id": "C5n_4Qq6oE7g",
        "outputId": "12b41463-bea8-45ae-ae79-d6a002f05927"
      },
      "outputs": [
        {
          "data": {
            "text/html": [
              "<div>\n",
              "<style scoped>\n",
              "    .dataframe tbody tr th:only-of-type {\n",
              "        vertical-align: middle;\n",
              "    }\n",
              "\n",
              "    .dataframe tbody tr th {\n",
              "        vertical-align: top;\n",
              "    }\n",
              "\n",
              "    .dataframe thead th {\n",
              "        text-align: right;\n",
              "    }\n",
              "</style>\n",
              "<table border=\"1\" class=\"dataframe\">\n",
              "  <thead>\n",
              "    <tr style=\"text-align: right;\">\n",
              "      <th></th>\n",
              "      <th>id</th>\n",
              "      <th>amount_tsh</th>\n",
              "      <th>date_recorded</th>\n",
              "      <th>funder</th>\n",
              "      <th>gps_height</th>\n",
              "      <th>installer</th>\n",
              "      <th>longitude</th>\n",
              "      <th>latitude</th>\n",
              "      <th>wpt_name</th>\n",
              "      <th>num_private</th>\n",
              "      <th>basin</th>\n",
              "      <th>subvillage</th>\n",
              "      <th>region</th>\n",
              "      <th>region_code</th>\n",
              "      <th>district_code</th>\n",
              "      <th>lga</th>\n",
              "      <th>ward</th>\n",
              "      <th>population</th>\n",
              "      <th>public_meeting</th>\n",
              "      <th>recorded_by</th>\n",
              "      <th>scheme_management</th>\n",
              "      <th>scheme_name</th>\n",
              "      <th>permit</th>\n",
              "      <th>construction_year</th>\n",
              "      <th>extraction_type</th>\n",
              "      <th>extraction_type_group</th>\n",
              "      <th>extraction_type_class</th>\n",
              "      <th>management</th>\n",
              "      <th>management_group</th>\n",
              "      <th>payment</th>\n",
              "      <th>payment_type</th>\n",
              "      <th>water_quality</th>\n",
              "      <th>quality_group</th>\n",
              "      <th>quantity</th>\n",
              "      <th>quantity_group</th>\n",
              "      <th>source</th>\n",
              "      <th>source_type</th>\n",
              "      <th>source_class</th>\n",
              "      <th>waterpoint_type</th>\n",
              "      <th>waterpoint_type_group</th>\n",
              "    </tr>\n",
              "  </thead>\n",
              "  <tbody>\n",
              "    <tr>\n",
              "      <th>0</th>\n",
              "      <td>50785</td>\n",
              "      <td>0.0</td>\n",
              "      <td>2013-02-04</td>\n",
              "      <td>Dmdd</td>\n",
              "      <td>1996</td>\n",
              "      <td>DMDD</td>\n",
              "      <td>35.290799</td>\n",
              "      <td>-4.059696</td>\n",
              "      <td>Dinamu Secondary School</td>\n",
              "      <td>0</td>\n",
              "      <td>Internal</td>\n",
              "      <td>Magoma</td>\n",
              "      <td>Manyara</td>\n",
              "      <td>21</td>\n",
              "      <td>3</td>\n",
              "      <td>Mbulu</td>\n",
              "      <td>Bashay</td>\n",
              "      <td>321</td>\n",
              "      <td>True</td>\n",
              "      <td>GeoData Consultants Ltd</td>\n",
              "      <td>Parastatal</td>\n",
              "      <td>NaN</td>\n",
              "      <td>True</td>\n",
              "      <td>2012</td>\n",
              "      <td>other</td>\n",
              "      <td>other</td>\n",
              "      <td>other</td>\n",
              "      <td>parastatal</td>\n",
              "      <td>parastatal</td>\n",
              "      <td>never pay</td>\n",
              "      <td>never pay</td>\n",
              "      <td>soft</td>\n",
              "      <td>good</td>\n",
              "      <td>seasonal</td>\n",
              "      <td>seasonal</td>\n",
              "      <td>rainwater harvesting</td>\n",
              "      <td>rainwater harvesting</td>\n",
              "      <td>surface</td>\n",
              "      <td>other</td>\n",
              "      <td>other</td>\n",
              "    </tr>\n",
              "    <tr>\n",
              "      <th>1</th>\n",
              "      <td>51630</td>\n",
              "      <td>0.0</td>\n",
              "      <td>2013-02-04</td>\n",
              "      <td>Government Of Tanzania</td>\n",
              "      <td>1569</td>\n",
              "      <td>DWE</td>\n",
              "      <td>36.656709</td>\n",
              "      <td>-3.309214</td>\n",
              "      <td>Kimnyak</td>\n",
              "      <td>0</td>\n",
              "      <td>Pangani</td>\n",
              "      <td>Kimnyak</td>\n",
              "      <td>Arusha</td>\n",
              "      <td>2</td>\n",
              "      <td>2</td>\n",
              "      <td>Arusha Rural</td>\n",
              "      <td>Kimnyaki</td>\n",
              "      <td>300</td>\n",
              "      <td>True</td>\n",
              "      <td>GeoData Consultants Ltd</td>\n",
              "      <td>VWC</td>\n",
              "      <td>TPRI pipe line</td>\n",
              "      <td>True</td>\n",
              "      <td>2000</td>\n",
              "      <td>gravity</td>\n",
              "      <td>gravity</td>\n",
              "      <td>gravity</td>\n",
              "      <td>vwc</td>\n",
              "      <td>user-group</td>\n",
              "      <td>never pay</td>\n",
              "      <td>never pay</td>\n",
              "      <td>soft</td>\n",
              "      <td>good</td>\n",
              "      <td>insufficient</td>\n",
              "      <td>insufficient</td>\n",
              "      <td>spring</td>\n",
              "      <td>spring</td>\n",
              "      <td>groundwater</td>\n",
              "      <td>communal standpipe</td>\n",
              "      <td>communal standpipe</td>\n",
              "    </tr>\n",
              "    <tr>\n",
              "      <th>2</th>\n",
              "      <td>17168</td>\n",
              "      <td>0.0</td>\n",
              "      <td>2013-02-01</td>\n",
              "      <td>NaN</td>\n",
              "      <td>1567</td>\n",
              "      <td>NaN</td>\n",
              "      <td>34.767863</td>\n",
              "      <td>-5.004344</td>\n",
              "      <td>Puma Secondary</td>\n",
              "      <td>0</td>\n",
              "      <td>Internal</td>\n",
              "      <td>Msatu</td>\n",
              "      <td>Singida</td>\n",
              "      <td>13</td>\n",
              "      <td>2</td>\n",
              "      <td>Singida Rural</td>\n",
              "      <td>Puma</td>\n",
              "      <td>500</td>\n",
              "      <td>True</td>\n",
              "      <td>GeoData Consultants Ltd</td>\n",
              "      <td>VWC</td>\n",
              "      <td>P</td>\n",
              "      <td>NaN</td>\n",
              "      <td>2010</td>\n",
              "      <td>other</td>\n",
              "      <td>other</td>\n",
              "      <td>other</td>\n",
              "      <td>vwc</td>\n",
              "      <td>user-group</td>\n",
              "      <td>never pay</td>\n",
              "      <td>never pay</td>\n",
              "      <td>soft</td>\n",
              "      <td>good</td>\n",
              "      <td>insufficient</td>\n",
              "      <td>insufficient</td>\n",
              "      <td>rainwater harvesting</td>\n",
              "      <td>rainwater harvesting</td>\n",
              "      <td>surface</td>\n",
              "      <td>other</td>\n",
              "      <td>other</td>\n",
              "    </tr>\n",
              "    <tr>\n",
              "      <th>3</th>\n",
              "      <td>45559</td>\n",
              "      <td>0.0</td>\n",
              "      <td>2013-01-22</td>\n",
              "      <td>Finn Water</td>\n",
              "      <td>267</td>\n",
              "      <td>FINN WATER</td>\n",
              "      <td>38.058046</td>\n",
              "      <td>-9.418672</td>\n",
              "      <td>Kwa Mzee Pange</td>\n",
              "      <td>0</td>\n",
              "      <td>Ruvuma / Southern Coast</td>\n",
              "      <td>Kipindimbi</td>\n",
              "      <td>Lindi</td>\n",
              "      <td>80</td>\n",
              "      <td>43</td>\n",
              "      <td>Liwale</td>\n",
              "      <td>Mkutano</td>\n",
              "      <td>250</td>\n",
              "      <td>NaN</td>\n",
              "      <td>GeoData Consultants Ltd</td>\n",
              "      <td>VWC</td>\n",
              "      <td>NaN</td>\n",
              "      <td>True</td>\n",
              "      <td>1987</td>\n",
              "      <td>other</td>\n",
              "      <td>other</td>\n",
              "      <td>other</td>\n",
              "      <td>vwc</td>\n",
              "      <td>user-group</td>\n",
              "      <td>unknown</td>\n",
              "      <td>unknown</td>\n",
              "      <td>soft</td>\n",
              "      <td>good</td>\n",
              "      <td>dry</td>\n",
              "      <td>dry</td>\n",
              "      <td>shallow well</td>\n",
              "      <td>shallow well</td>\n",
              "      <td>groundwater</td>\n",
              "      <td>other</td>\n",
              "      <td>other</td>\n",
              "    </tr>\n",
              "    <tr>\n",
              "      <th>4</th>\n",
              "      <td>49871</td>\n",
              "      <td>500.0</td>\n",
              "      <td>2013-03-27</td>\n",
              "      <td>Bruder</td>\n",
              "      <td>1260</td>\n",
              "      <td>BRUDER</td>\n",
              "      <td>35.006123</td>\n",
              "      <td>-10.950412</td>\n",
              "      <td>Kwa Mzee Turuka</td>\n",
              "      <td>0</td>\n",
              "      <td>Ruvuma / Southern Coast</td>\n",
              "      <td>Losonga</td>\n",
              "      <td>Ruvuma</td>\n",
              "      <td>10</td>\n",
              "      <td>3</td>\n",
              "      <td>Mbinga</td>\n",
              "      <td>Mbinga Urban</td>\n",
              "      <td>60</td>\n",
              "      <td>NaN</td>\n",
              "      <td>GeoData Consultants Ltd</td>\n",
              "      <td>Water Board</td>\n",
              "      <td>BRUDER</td>\n",
              "      <td>True</td>\n",
              "      <td>2000</td>\n",
              "      <td>gravity</td>\n",
              "      <td>gravity</td>\n",
              "      <td>gravity</td>\n",
              "      <td>water board</td>\n",
              "      <td>user-group</td>\n",
              "      <td>pay monthly</td>\n",
              "      <td>monthly</td>\n",
              "      <td>soft</td>\n",
              "      <td>good</td>\n",
              "      <td>enough</td>\n",
              "      <td>enough</td>\n",
              "      <td>spring</td>\n",
              "      <td>spring</td>\n",
              "      <td>groundwater</td>\n",
              "      <td>communal standpipe</td>\n",
              "      <td>communal standpipe</td>\n",
              "    </tr>\n",
              "  </tbody>\n",
              "</table>\n",
              "</div>"
            ],
            "text/plain": [
              "      id  amount_tsh  ...     waterpoint_type waterpoint_type_group\n",
              "0  50785         0.0  ...               other                 other\n",
              "1  51630         0.0  ...  communal standpipe    communal standpipe\n",
              "2  17168         0.0  ...               other                 other\n",
              "3  45559         0.0  ...               other                 other\n",
              "4  49871       500.0  ...  communal standpipe    communal standpipe\n",
              "\n",
              "[5 rows x 40 columns]"
            ]
          },
          "execution_count": 837,
          "metadata": {
            "tags": []
          },
          "output_type": "execute_result"
        }
      ],
      "source": [
        "# read in the data\n",
        "prediction_df = pd.read_csv('/content/test_set_values.csv')\n",
        "prediction_df.head()"
      ]
    },
    {
      "cell_type": "code",
      "execution_count": null,
      "metadata": {
        "id": "uAsZptqOZF2A"
      },
      "outputs": [],
      "source": [
        "#Drop all the columns we did not use\n",
        "prediction_df.drop(columns=['date_recorded', 'funder', 'wpt_name', 'recorded_by', 'management', 'scheme_name', 'extraction_type', 'extraction_type_class',\n",
        "                            'source_type', 'source_class','quality_group', 'quantity_group','payment', 'waterpoint_type_group',\n",
        "                            'installer', 'longitude', 'latitude', 'subvillage', 'ward', 'lga', 'region_code', 'population', 'construction_year'], axis=1, inplace=True)\n"
      ]
    },
    {
      "cell_type": "code",
      "execution_count": null,
      "metadata": {
        "colab": {
          "base_uri": "https://localhost:8080/"
        },
        "id": "9OB6Yg3Gbx--",
        "outputId": "2d7b82fb-ccc8-4c77-d432-e110dc0936ea"
      },
      "outputs": [
        {
          "data": {
            "text/plain": [
              "id                         0\n",
              "amount_tsh                 0\n",
              "gps_height                 0\n",
              "num_private                0\n",
              "basin                      0\n",
              "region                     0\n",
              "district_code              0\n",
              "public_meeting           821\n",
              "scheme_management        969\n",
              "permit                   737\n",
              "extraction_type_group      0\n",
              "management_group           0\n",
              "payment_type               0\n",
              "water_quality              0\n",
              "quantity                   0\n",
              "source                     0\n",
              "waterpoint_type            0\n",
              "dtype: int64"
            ]
          },
          "execution_count": 839,
          "metadata": {
            "tags": []
          },
          "output_type": "execute_result"
        }
      ],
      "source": [
        "prediction_df.isna().sum()"
      ]
    },
    {
      "cell_type": "code",
      "execution_count": null,
      "metadata": {
        "colab": {
          "base_uri": "https://localhost:8080/"
        },
        "id": "NV1sYTvqbVH6",
        "outputId": "4bb9bee3-3ec3-4799-c264-f6f4c566cc04"
      },
      "outputs": [
        {
          "data": {
            "text/plain": [
              "id                         0\n",
              "amount_tsh                 0\n",
              "gps_height                 0\n",
              "num_private                0\n",
              "basin                      0\n",
              "region                     0\n",
              "district_code              0\n",
              "public_meeting           821\n",
              "scheme_management        969\n",
              "permit                   737\n",
              "extraction_type_group      0\n",
              "management_group           0\n",
              "payment_type               0\n",
              "water_quality              0\n",
              "quantity                   0\n",
              "source                     0\n",
              "waterpoint_type            0\n",
              "dtype: int64"
            ]
          },
          "execution_count": 840,
          "metadata": {
            "tags": []
          },
          "output_type": "execute_result"
        }
      ],
      "source": [
        "# #Replace the unknown in management_group, payment_type, water_quality, quantity column with np.nan\n",
        "prediction_df['management_group'].replace({'unknwon': np.nan}, inplace=True)\n",
        "prediction_df['payment_type'].replace({'unknwon': np.nan}, inplace=True)\n",
        "prediction_df['water_quality'].replace({'unknwon': np.nan}, inplace=True)\n",
        "prediction_df['quantity'].replace({'unknwon': np.nan}, inplace=True)\n",
        "\n",
        "prediction_df['district_code'] = prediction_df['district_code'].astype(str) \n",
        "\n",
        "prediction_df.isna().sum()"
      ]
    },
    {
      "cell_type": "code",
      "execution_count": null,
      "metadata": {
        "colab": {
          "base_uri": "https://localhost:8080/",
          "height": 374
        },
        "id": "gVC5nlGmXAha",
        "outputId": "edc341c0-2632-4d5b-ca1b-6709cd95c971"
      },
      "outputs": [
        {
          "data": {
            "text/html": [
              "<div>\n",
              "<style scoped>\n",
              "    .dataframe tbody tr th:only-of-type {\n",
              "        vertical-align: middle;\n",
              "    }\n",
              "\n",
              "    .dataframe tbody tr th {\n",
              "        vertical-align: top;\n",
              "    }\n",
              "\n",
              "    .dataframe thead th {\n",
              "        text-align: right;\n",
              "    }\n",
              "</style>\n",
              "<table border=\"1\" class=\"dataframe\">\n",
              "  <thead>\n",
              "    <tr style=\"text-align: right;\">\n",
              "      <th></th>\n",
              "      <th>index</th>\n",
              "      <th>id</th>\n",
              "      <th>amount_tsh</th>\n",
              "      <th>gps_height</th>\n",
              "      <th>num_private</th>\n",
              "      <th>basin</th>\n",
              "      <th>region</th>\n",
              "      <th>district_code</th>\n",
              "      <th>public_meeting</th>\n",
              "      <th>scheme_management</th>\n",
              "      <th>permit</th>\n",
              "      <th>extraction_type_group</th>\n",
              "      <th>management_group</th>\n",
              "      <th>payment_type</th>\n",
              "      <th>water_quality</th>\n",
              "      <th>quantity</th>\n",
              "      <th>source</th>\n",
              "      <th>waterpoint_type</th>\n",
              "    </tr>\n",
              "  </thead>\n",
              "  <tbody>\n",
              "    <tr>\n",
              "      <th>0</th>\n",
              "      <td>0</td>\n",
              "      <td>50785</td>\n",
              "      <td>-0.128571</td>\n",
              "      <td>1.939784</td>\n",
              "      <td>-0.050821</td>\n",
              "      <td>Internal</td>\n",
              "      <td>Manyara</td>\n",
              "      <td>3</td>\n",
              "      <td>True</td>\n",
              "      <td>Parastatal</td>\n",
              "      <td>True</td>\n",
              "      <td>other</td>\n",
              "      <td>parastatal</td>\n",
              "      <td>never pay</td>\n",
              "      <td>soft</td>\n",
              "      <td>seasonal</td>\n",
              "      <td>rainwater harvesting</td>\n",
              "      <td>other</td>\n",
              "    </tr>\n",
              "    <tr>\n",
              "      <th>1</th>\n",
              "      <td>1</td>\n",
              "      <td>51630</td>\n",
              "      <td>-0.128571</td>\n",
              "      <td>1.322052</td>\n",
              "      <td>-0.050821</td>\n",
              "      <td>Pangani</td>\n",
              "      <td>Arusha</td>\n",
              "      <td>2</td>\n",
              "      <td>True</td>\n",
              "      <td>VWC</td>\n",
              "      <td>True</td>\n",
              "      <td>gravity</td>\n",
              "      <td>user-group</td>\n",
              "      <td>never pay</td>\n",
              "      <td>soft</td>\n",
              "      <td>insufficient</td>\n",
              "      <td>spring</td>\n",
              "      <td>communal standpipe</td>\n",
              "    </tr>\n",
              "    <tr>\n",
              "      <th>2</th>\n",
              "      <td>2</td>\n",
              "      <td>17168</td>\n",
              "      <td>-0.128571</td>\n",
              "      <td>1.319159</td>\n",
              "      <td>-0.050821</td>\n",
              "      <td>Internal</td>\n",
              "      <td>Singida</td>\n",
              "      <td>2</td>\n",
              "      <td>True</td>\n",
              "      <td>VWC</td>\n",
              "      <td>NaN</td>\n",
              "      <td>other</td>\n",
              "      <td>user-group</td>\n",
              "      <td>never pay</td>\n",
              "      <td>soft</td>\n",
              "      <td>insufficient</td>\n",
              "      <td>rainwater harvesting</td>\n",
              "      <td>other</td>\n",
              "    </tr>\n",
              "    <tr>\n",
              "      <th>3</th>\n",
              "      <td>3</td>\n",
              "      <td>45559</td>\n",
              "      <td>-0.128571</td>\n",
              "      <td>-0.561525</td>\n",
              "      <td>-0.050821</td>\n",
              "      <td>Ruvuma / Southern Coast</td>\n",
              "      <td>Lindi</td>\n",
              "      <td>43</td>\n",
              "      <td>NaN</td>\n",
              "      <td>VWC</td>\n",
              "      <td>True</td>\n",
              "      <td>other</td>\n",
              "      <td>user-group</td>\n",
              "      <td>unknown</td>\n",
              "      <td>soft</td>\n",
              "      <td>dry</td>\n",
              "      <td>shallow well</td>\n",
              "      <td>other</td>\n",
              "    </tr>\n",
              "    <tr>\n",
              "      <th>4</th>\n",
              "      <td>4</td>\n",
              "      <td>49871</td>\n",
              "      <td>0.070562</td>\n",
              "      <td>0.875028</td>\n",
              "      <td>-0.050821</td>\n",
              "      <td>Ruvuma / Southern Coast</td>\n",
              "      <td>Ruvuma</td>\n",
              "      <td>3</td>\n",
              "      <td>NaN</td>\n",
              "      <td>Water Board</td>\n",
              "      <td>True</td>\n",
              "      <td>gravity</td>\n",
              "      <td>user-group</td>\n",
              "      <td>monthly</td>\n",
              "      <td>soft</td>\n",
              "      <td>enough</td>\n",
              "      <td>spring</td>\n",
              "      <td>communal standpipe</td>\n",
              "    </tr>\n",
              "  </tbody>\n",
              "</table>\n",
              "</div>"
            ],
            "text/plain": [
              "   index     id  ...                source     waterpoint_type\n",
              "0      0  50785  ...  rainwater harvesting               other\n",
              "1      1  51630  ...                spring  communal standpipe\n",
              "2      2  17168  ...  rainwater harvesting               other\n",
              "3      3  45559  ...          shallow well               other\n",
              "4      4  49871  ...                spring  communal standpipe\n",
              "\n",
              "[5 rows x 18 columns]"
            ]
          },
          "execution_count": 841,
          "metadata": {
            "tags": []
          },
          "output_type": "execute_result"
        }
      ],
      "source": [
        "to_scaled = ['amount_tsh', 'gps_height', 'num_private']\n",
        "\n",
        "prediction_scaled_df = prediction_df.copy()\n",
        "\n",
        "scaled_features_prediction = prediction_scaled_df[to_scaled]\n",
        "\n",
        "# Fitting and transforming the data for the main dataset\n",
        "prediction_scaled = pd.DataFrame(scaler.fit_transform(scaled_features_prediction.values), columns= scaled_features_prediction.columns)\n",
        "prediction_scaled_df.reset_index(inplace=True)\n",
        "prediction_scaled_df[to_scaled] = prediction_scaled\n",
        "prediction_scaled_df.head()\n",
        "\n"
      ]
    },
    {
      "cell_type": "code",
      "execution_count": null,
      "metadata": {
        "id": "05jV0Mokv6zv"
      },
      "outputs": [],
      "source": [
        "# Create dummy variables for the categorical columns\n",
        "prediction_dummies = pd.get_dummies(prediction_scaled_df, drop_first=False)\n",
        "\n",
        "prediction_dummies.drop(columns=['waterpoint_type_dam'], axis=1, inplace=True)\n",
        "\n",
        "# Fill in the missing values using KNN imputer\n",
        "prediction_dummies = pd.DataFrame(imputer.transform(prediction_dummies),columns = prediction_dummies.columns)\n"
      ]
    },
    {
      "cell_type": "code",
      "execution_count": null,
      "metadata": {
        "id": "1uXq24AWkdF8"
      },
      "outputs": [],
      "source": [
        "X_prediction = prediction_dummies.drop(columns=['id', 'index'], axis=1)\n",
        "prediction_dummies['status_group'] = rf_clf_gs.predict(X_prediction)"
      ]
    },
    {
      "cell_type": "code",
      "execution_count": null,
      "metadata": {
        "colab": {
          "base_uri": "https://localhost:8080/"
        },
        "id": "xuDa69ctlNtK",
        "outputId": "3f984db7-ff1b-45fb-e997-0f0535ba7c3e"
      },
      "outputs": [
        {
          "data": {
            "text/plain": [
              "functional                 8670\n",
              "non functional             5678\n",
              "functional needs repair     502\n",
              "Name: status_group, dtype: int64"
            ]
          },
          "execution_count": 844,
          "metadata": {
            "tags": []
          },
          "output_type": "execute_result"
        }
      ],
      "source": [
        "prediction_dummies['status_group'].value_counts()"
      ]
    },
    {
      "cell_type": "code",
      "execution_count": null,
      "metadata": {
        "colab": {
          "base_uri": "https://localhost:8080/"
        },
        "id": "-W3zbKn5D-SX",
        "outputId": "b87d0979-9d85-42ac-925f-2cdd12dd0f2f"
      },
      "outputs": [
        {
          "data": {
            "text/plain": [
              "0    non functional\n",
              "1        functional\n",
              "2    non functional\n",
              "3    non functional\n",
              "4        functional\n",
              "Name: status_group, dtype: object"
            ]
          },
          "execution_count": 845,
          "metadata": {
            "tags": []
          },
          "output_type": "execute_result"
        }
      ],
      "source": [
        "submission_form = prediction_dummies['status_group']\n",
        "submission_form.head(5)"
      ]
    },
    {
      "cell_type": "markdown",
      "metadata": {
        "id": "uI1xSmKDD7WA"
      },
      "source": [
        "# Improvements\n",
        "\n",
        "- Since using GridSearchCV take up a lot of computational time, I couldn't put in more parameters like I wanted. Searching out more parameters might improve the model performance.\n",
        "\n",
        "- The model ability to predict functional needs repair is still lacking. I could try scrubbing the data in a diffrent way to make the model better.\n",
        "\n",
        "- Try out different types of filling missing values to see if it improve the model.\n",
        "\n",
        "- Instead of dropping the 'population' and 'year_construct' column, find a diffrent way to deal with them."
      ]
    }
  ],
  "metadata": {
    "colab": {
      "collapsed_sections": [],
      "name": "Project_3.ipynb",
      "provenance": []
    },
    "kernelspec": {
      "display_name": "Python 3",
      "language": "python",
      "name": "python3"
    },
    "language_info": {
      "codemirror_mode": {
        "name": "ipython",
        "version": 3
      },
      "file_extension": ".py",
      "mimetype": "text/x-python",
      "name": "python",
      "nbconvert_exporter": "python",
      "pygments_lexer": "ipython3",
      "version": "3.8.3"
    }
  },
  "nbformat": 4,
  "nbformat_minor": 0
}